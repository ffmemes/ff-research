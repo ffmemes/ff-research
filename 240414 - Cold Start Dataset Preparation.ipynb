{
 "cells": [
  {
   "cell_type": "markdown",
   "metadata": {},
   "source": [
    "# Cold Start Dataset\n",
    "\n",
    "Two files are prepared in this notebook\n",
    "\n",
    "* Train set for the cold start offline tests\n",
    "* Historical features\n",
    "\n",
    "## Train set\n",
    "\n",
    "Train samples are collections of seen and future (target) items at some moment of time\n",
    "\n",
    "Fields\n",
    "\n",
    "* `user_id`\n",
    "* `hist_size`: memes with reactions at the moment of time\n",
    "* `dtm`: timestamp of the train sample\n",
    "* `hist_memes`, `hist_reactions`: memes from history\n",
    "* `target_memes`, `target_reactions`: memes from future\n",
    "\n",
    "Be careful with out-of-time validation. User samples contains same values (target goes to history through the time). Consider only user or both user and time splits.\n",
    "\n",
    "## Historical features\n",
    "\n",
    "Features for every day. Contains fields from meme_stats which is used in prod.\n",
    "\n",
    "Fields\n",
    "\n",
    "* `meme_id`\n",
    "* `n_likes`\n",
    "* `n_dislikes`\n",
    "* `n_memes_sent`\n",
    "* `age_days`"
   ]
  },
  {
   "cell_type": "code",
   "execution_count": 15,
   "metadata": {},
   "outputs": [],
   "source": [
    "import polars as pl\n",
    "from datetime import datetime\n",
    "import numpy as np\n",
    "from tqdm.notebook import tqdm"
   ]
  },
  {
   "cell_type": "code",
   "execution_count": 16,
   "metadata": {},
   "outputs": [],
   "source": [
    "dtm_fmt = \"%B %-d, %Y, %I:%M %p\""
   ]
  },
  {
   "cell_type": "code",
   "execution_count": 17,
   "metadata": {},
   "outputs": [],
   "source": [
    "user_meme_df = pl.read_csv('user_meme_reaction_240301_240413.csv')\n",
    "user_df = pl.read_csv('user_240414.csv')\n",
    "meme_df = pl.read_csv('memes_240414.csv')\n",
    "meme_source_df = pl.read_csv('meme_source_240414.csv')"
   ]
  },
  {
   "cell_type": "code",
   "execution_count": 18,
   "metadata": {},
   "outputs": [],
   "source": [
    "# Only new users\n",
    "# Not bots\n",
    "\n",
    "user_proc_df = (\n",
    "    user_df\n",
    "    .with_columns(pl.col('created_at').str.to_datetime(dtm_fmt))\n",
    "    .filter(pl.col('type') != 'blocked_bot')\n",
    "    .filter(pl.col('created_at') >= datetime(2024, 3, 1))\n",
    "    .drop('type', 'blocked_bot_at', 'inviter_id', 'last_active_at')\n",
    ")"
   ]
  },
  {
   "cell_type": "code",
   "execution_count": 5,
   "metadata": {},
   "outputs": [],
   "source": [
    "# Remove non-reacts\n",
    "# Add reaction number\n",
    "# Leave only new users\n",
    "\n",
    "user_meme_proc_df = (\n",
    "    user_meme_df\n",
    "    .with_columns(pl.col('sent_at').str.to_datetime(dtm_fmt))\n",
    "    .drop('reacted_at')\n",
    "    .filter(pl.col('reaction_id').is_not_null())\n",
    "    .sort('user_id', 'sent_at')\n",
    "    .with_columns(reaction_num=pl.first().cum_count().over('user_id'))\n",
    "    .join(user_proc_df.select('id'), left_on='user_id', right_on='id', how='inner')\n",
    ")"
   ]
  },
  {
   "cell_type": "code",
   "execution_count": 6,
   "metadata": {},
   "outputs": [
    {
     "data": {
      "text/html": [
       "<div><style>\n",
       ".dataframe > thead > tr,\n",
       ".dataframe > tbody > tr {\n",
       "  text-align: right;\n",
       "  white-space: pre-wrap;\n",
       "}\n",
       "</style>\n",
       "<small>shape: (1, 6)</small><table border=\"1\" class=\"dataframe\"><thead><tr><th>user_id</th><th>meme_id</th><th>recommended_by</th><th>sent_at</th><th>reaction_id</th><th>reaction_num</th></tr><tr><td>str</td><td>str</td><td>str</td><td>datetime[μs]</td><td>i64</td><td>u32</td></tr></thead><tbody><tr><td>&quot;1,002,452,686&quot;</td><td>&quot;1,237,876&quot;</td><td>&quot;like_spread_an…</td><td>2024-03-24 04:09:00</td><td>1</td><td>1</td></tr></tbody></table></div>"
      ],
      "text/plain": [
       "shape: (1, 6)\n",
       "┌───────────────┬───────────┬──────────────────────────┬──────────────┬─────────────┬──────────────┐\n",
       "│ user_id       ┆ meme_id   ┆ recommended_by           ┆ sent_at      ┆ reaction_id ┆ reaction_num │\n",
       "│ ---           ┆ ---       ┆ ---                      ┆ ---          ┆ ---         ┆ ---          │\n",
       "│ str           ┆ str       ┆ str                      ┆ datetime[μs] ┆ i64         ┆ u32          │\n",
       "╞═══════════════╪═══════════╪══════════════════════════╪══════════════╪═════════════╪══════════════╡\n",
       "│ 1,002,452,686 ┆ 1,237,876 ┆ like_spread_and_recent   ┆ 2024-03-24   ┆ 1           ┆ 1            │\n",
       "│               ┆           ┆                          ┆ 04:09:00     ┆             ┆              │\n",
       "└───────────────┴───────────┴──────────────────────────┴──────────────┴─────────────┴──────────────┘"
      ]
     },
     "execution_count": 6,
     "metadata": {},
     "output_type": "execute_result"
    }
   ],
   "source": [
    "user_meme_proc_df.head(1)"
   ]
  },
  {
   "cell_type": "code",
   "execution_count": 7,
   "metadata": {},
   "outputs": [],
   "source": [
    "def prepare_data_user(user_meme_proc_df, user_id, chunk_size=10):\n",
    "    \"\"\"\n",
    "    Splits reactions on chunks\n",
    "    Fills historical and target memes\n",
    "    The number of output samples is equal to the number of chunks\n",
    "    \"\"\"\n",
    "    res = []\n",
    "    user_meme_slice = user_meme_proc_df.filter(pl.col('user_id') == user_id).sort('sent_at')\n",
    "    \n",
    "    if len(user_meme_slice) == 0:\n",
    "        return res\n",
    "\n",
    "    n_reactions = user_meme_slice.select('reaction_num').max().item()\n",
    "\n",
    "    cur_idx = 0\n",
    "\n",
    "    while cur_idx < n_reactions:\n",
    "\n",
    "        filt_hist = pl.col('reaction_num') <= cur_idx\n",
    "        filt_target = pl.col('reaction_num') > cur_idx\n",
    "\n",
    "        d = {\n",
    "            'user_id': user_id,\n",
    "            'hist_size': len(user_meme_slice.filter(filt_hist)),\n",
    "            'dtm': user_meme_slice.filter(filt_target).select('sent_at').min().item(),\n",
    "            'date_dtm': user_meme_slice.filter(filt_target).select(pl.col('sent_at').dt.truncate('1d')).min().item(),\n",
    "            'hist_memes': user_meme_slice.filter(filt_hist).get_column('meme_id').to_list(),\n",
    "            'hist_reactions': user_meme_slice.filter(filt_hist).get_column('reaction_id').to_list(),\n",
    "            'target_memes': user_meme_slice.filter(filt_target).get_column('meme_id').to_list(),\n",
    "            'target_reactions': user_meme_slice.filter(filt_target).get_column('reaction_id').to_list(),\n",
    "        }\n",
    "        res.append(d)\n",
    "        cur_idx += chunk_size\n",
    "\n",
    "    return res"
   ]
  },
  {
   "cell_type": "code",
   "execution_count": 8,
   "metadata": {},
   "outputs": [
    {
     "data": {
      "text/plain": [
       "[{'user_id': 1,\n",
       "  'hist_size': 0,\n",
       "  'dtm': datetime.datetime(2024, 1, 1, 1, 0),\n",
       "  'date_dtm': datetime.datetime(2024, 1, 1, 0, 0),\n",
       "  'hist_memes': [],\n",
       "  'hist_reactions': [],\n",
       "  'target_memes': [1, 2, 3, 4, 5],\n",
       "  'target_reactions': [1, 1, 1, 1, 1]},\n",
       " {'user_id': 1,\n",
       "  'hist_size': 2,\n",
       "  'dtm': datetime.datetime(2024, 1, 3, 1, 0),\n",
       "  'date_dtm': datetime.datetime(2024, 1, 3, 0, 0),\n",
       "  'hist_memes': [1, 2],\n",
       "  'hist_reactions': [1, 1],\n",
       "  'target_memes': [3, 4, 5],\n",
       "  'target_reactions': [1, 1, 1]},\n",
       " {'user_id': 1,\n",
       "  'hist_size': 4,\n",
       "  'dtm': datetime.datetime(2024, 1, 5, 1, 0),\n",
       "  'date_dtm': datetime.datetime(2024, 1, 5, 0, 0),\n",
       "  'hist_memes': [1, 2, 3, 4],\n",
       "  'hist_reactions': [1, 1, 1, 1],\n",
       "  'target_memes': [5],\n",
       "  'target_reactions': [1]}]"
      ]
     },
     "execution_count": 8,
     "metadata": {},
     "output_type": "execute_result"
    }
   ],
   "source": [
    "test_user_meme_df = pl.DataFrame({'user_id': [1] * 5, 'reaction_num': list(range(1, 6)), 'reaction_id': [1] * 5, 'meme_id': list(range(1, 6)), 'sent_at': [datetime(2024, 1, i, 1) for i in range(1, 6)]})\n",
    "prepare_data_user(test_user_meme_df, 1, chunk_size=2)"
   ]
  },
  {
   "cell_type": "code",
   "execution_count": null,
   "metadata": {},
   "outputs": [],
   "source": [
    "res = []\n",
    "chunk_size = 10\n",
    "\n",
    "for user_id in tqdm(user_proc_df.get_column('id').to_list()):\n",
    "    res.extend(prepare_data_user(user_meme_proc_df, user_id, chunk_size=chunk_size))\n",
    "coldstart_dataset_df = pl.DataFrame(res)"
   ]
  },
  {
   "cell_type": "code",
   "execution_count": 10,
   "metadata": {},
   "outputs": [],
   "source": [
    "coldstart_dataset_df.write_parquet('coldstart_dataset.pq')"
   ]
  },
  {
   "cell_type": "markdown",
   "metadata": {},
   "source": [
    "## Historical features"
   ]
  },
  {
   "cell_type": "code",
   "execution_count": 19,
   "metadata": {},
   "outputs": [],
   "source": [
    "meme_created_df = (\n",
    "    meme_df\n",
    "    .with_columns(pl.col('created_at').str.to_datetime(dtm_fmt))\n",
    "    .select('id', 'created_at')\n",
    ")"
   ]
  },
  {
   "cell_type": "code",
   "execution_count": 20,
   "metadata": {},
   "outputs": [],
   "source": [
    "# Remove bots\n",
    "\n",
    "user_meme_proc_v2_df = (\n",
    "    user_meme_df\n",
    "    .with_columns(pl.col('sent_at').str.to_datetime(dtm_fmt))\n",
    "    .drop('reacted_at')\n",
    "    .join(user_df.filter(pl.col('type') == 'user').select('id'), left_on='user_id', right_on='id', how='inner')\n",
    ")"
   ]
  },
  {
   "cell_type": "code",
   "execution_count": 21,
   "metadata": {},
   "outputs": [],
   "source": [
    "def get_meme_stats_day(user_meme_proc_df, meme_created_df, date_dtm):\n",
    "    return (\n",
    "        user_meme_proc_df\n",
    "        .filter(pl.col('sent_at') < date_dtm)\n",
    "        .group_by('meme_id').agg(\n",
    "            (pl.col('reaction_id').count() + pl.col('reaction_id').null_count()).alias('n_memes_sent'),\n",
    "            (pl.col('reaction_id') == 1).cast(pl.Int64).sum().alias('n_likes'),\n",
    "            (pl.col('reaction_id') == 2).cast(pl.Int64).sum().alias('n_dislikes'),\n",
    "        )\n",
    "        .join(meme_created_df, left_on='meme_id', right_on='id')\n",
    "        .with_columns((pl.lit(date_dtm) - pl.col('created_at')).dt.total_days().alias('age_days'))\n",
    "        .drop('created_at')\n",
    "        .with_columns(pl.lit(date_dtm).dt.truncate('1d').alias('date_dtm'))\n",
    "    )"
   ]
  },
  {
   "cell_type": "code",
   "execution_count": 22,
   "metadata": {},
   "outputs": [
    {
     "data": {
      "text/html": [
       "<div><style>\n",
       ".dataframe > thead > tr,\n",
       ".dataframe > tbody > tr {\n",
       "  text-align: right;\n",
       "  white-space: pre-wrap;\n",
       "}\n",
       "</style>\n",
       "<small>shape: (29_681, 6)</small><table border=\"1\" class=\"dataframe\"><thead><tr><th>meme_id</th><th>n_memes_sent</th><th>n_likes</th><th>n_dislikes</th><th>age_days</th><th>date_dtm</th></tr><tr><td>str</td><td>u32</td><td>i64</td><td>i64</td><td>i64</td><td>datetime[μs]</td></tr></thead><tbody><tr><td>&quot;3,282,095&quot;</td><td>6</td><td>2</td><td>4</td><td>6</td><td>2024-04-01 00:00:00</td></tr><tr><td>&quot;3,379,190&quot;</td><td>19</td><td>3</td><td>16</td><td>5</td><td>2024-04-01 00:00:00</td></tr><tr><td>&quot;1,200,106&quot;</td><td>1</td><td>0</td><td>1</td><td>27</td><td>2024-04-01 00:00:00</td></tr><tr><td>&quot;3,609,318&quot;</td><td>56</td><td>29</td><td>25</td><td>3</td><td>2024-04-01 00:00:00</td></tr><tr><td>&quot;3,494,088&quot;</td><td>12</td><td>7</td><td>5</td><td>4</td><td>2024-04-01 00:00:00</td></tr><tr><td>&hellip;</td><td>&hellip;</td><td>&hellip;</td><td>&hellip;</td><td>&hellip;</td><td>&hellip;</td></tr><tr><td>&quot;2,812,451&quot;</td><td>5</td><td>1</td><td>4</td><td>11</td><td>2024-04-01 00:00:00</td></tr><tr><td>&quot;3,081,777&quot;</td><td>148</td><td>78</td><td>60</td><td>8</td><td>2024-04-01 00:00:00</td></tr><tr><td>&quot;3,297,779&quot;</td><td>24</td><td>10</td><td>10</td><td>6</td><td>2024-04-01 00:00:00</td></tr><tr><td>&quot;3,862,528&quot;</td><td>17</td><td>14</td><td>3</td><td>1</td><td>2024-04-01 00:00:00</td></tr><tr><td>&quot;3,184,430&quot;</td><td>50</td><td>25</td><td>23</td><td>7</td><td>2024-04-01 00:00:00</td></tr></tbody></table></div>"
      ],
      "text/plain": [
       "shape: (29_681, 6)\n",
       "┌───────────┬──────────────┬─────────┬────────────┬──────────┬─────────────────────┐\n",
       "│ meme_id   ┆ n_memes_sent ┆ n_likes ┆ n_dislikes ┆ age_days ┆ date_dtm            │\n",
       "│ ---       ┆ ---          ┆ ---     ┆ ---        ┆ ---      ┆ ---                 │\n",
       "│ str       ┆ u32          ┆ i64     ┆ i64        ┆ i64      ┆ datetime[μs]        │\n",
       "╞═══════════╪══════════════╪═════════╪════════════╪══════════╪═════════════════════╡\n",
       "│ 3,282,095 ┆ 6            ┆ 2       ┆ 4          ┆ 6        ┆ 2024-04-01 00:00:00 │\n",
       "│ 3,379,190 ┆ 19           ┆ 3       ┆ 16         ┆ 5        ┆ 2024-04-01 00:00:00 │\n",
       "│ 1,200,106 ┆ 1            ┆ 0       ┆ 1          ┆ 27       ┆ 2024-04-01 00:00:00 │\n",
       "│ 3,609,318 ┆ 56           ┆ 29      ┆ 25         ┆ 3        ┆ 2024-04-01 00:00:00 │\n",
       "│ 3,494,088 ┆ 12           ┆ 7       ┆ 5          ┆ 4        ┆ 2024-04-01 00:00:00 │\n",
       "│ …         ┆ …            ┆ …       ┆ …          ┆ …        ┆ …                   │\n",
       "│ 2,812,451 ┆ 5            ┆ 1       ┆ 4          ┆ 11       ┆ 2024-04-01 00:00:00 │\n",
       "│ 3,081,777 ┆ 148          ┆ 78      ┆ 60         ┆ 8        ┆ 2024-04-01 00:00:00 │\n",
       "│ 3,297,779 ┆ 24           ┆ 10      ┆ 10         ┆ 6        ┆ 2024-04-01 00:00:00 │\n",
       "│ 3,862,528 ┆ 17           ┆ 14      ┆ 3          ┆ 1        ┆ 2024-04-01 00:00:00 │\n",
       "│ 3,184,430 ┆ 50           ┆ 25      ┆ 23         ┆ 7        ┆ 2024-04-01 00:00:00 │\n",
       "└───────────┴──────────────┴─────────┴────────────┴──────────┴─────────────────────┘"
      ]
     },
     "execution_count": 22,
     "metadata": {},
     "output_type": "execute_result"
    }
   ],
   "source": [
    "# Testing\n",
    "get_meme_stats_day(user_meme_proc_v2_df, meme_created_df, datetime(2024, 4, 1))"
   ]
  },
  {
   "cell_type": "code",
   "execution_count": 27,
   "metadata": {},
   "outputs": [],
   "source": [
    "# Not very reliable though no constants\n",
    "# Drop the first day\n",
    "dates_dtm = user_meme_proc_v2_df.select(pl.col('sent_at').dt.truncate('1d')).unique().sort('sent_at').get_column('sent_at').to_list()"
   ]
  },
  {
   "cell_type": "code",
   "execution_count": 33,
   "metadata": {},
   "outputs": [],
   "source": [
    "res = []\n",
    "for date_dtm in dates_dtm:\n",
    "    res.append(get_meme_stats_day(user_meme_proc_v2_df, meme_created_df, date_dtm))\n",
    "\n",
    "meme_features_daily_df = (\n",
    "    pl.concat(res)\n",
    "    .join(meme_df.select('id', 'meme_source_id'), left_on='meme_id', right_on='id')\n",
    ")"
   ]
  },
  {
   "cell_type": "code",
   "execution_count": 34,
   "metadata": {},
   "outputs": [],
   "source": [
    "meme_features_daily_df.write_parquet('meme_features_daily.pq')"
   ]
  },
  {
   "cell_type": "code",
   "execution_count": null,
   "metadata": {},
   "outputs": [],
   "source": []
  },
  {
   "cell_type": "code",
   "execution_count": 23,
   "metadata": {},
   "outputs": [],
   "source": [
    "user_created_df = (\n",
    "    user_df\n",
    "    .with_columns(pl.col('created_at').str.to_datetime(dtm_fmt))\n",
    "    .select('id', 'created_at')\n",
    ")"
   ]
  },
  {
   "cell_type": "code",
   "execution_count": 24,
   "metadata": {},
   "outputs": [],
   "source": [
    "def get_user_stats_day(user_meme_proc_df, meme_created_df, date_dtm):\n",
    "    return (\n",
    "        user_meme_proc_df\n",
    "        .filter(pl.col('sent_at') < date_dtm)\n",
    "        .group_by('user_id').agg(\n",
    "            (pl.col('reaction_id').count() + pl.col('reaction_id').null_count()).alias('n_memes_sent'),\n",
    "            (pl.col('reaction_id') == 1).cast(pl.Int64).sum().alias('n_likes'),\n",
    "            (pl.col('reaction_id') == 2).cast(pl.Int64).sum().alias('n_dislikes'),\n",
    "        )\n",
    "        .join(user_created_df, left_on='user_id', right_on='id')\n",
    "        .with_columns((pl.lit(date_dtm) - pl.col('created_at')).dt.total_days().alias('user_age_days'))\n",
    "        .drop('created_at')\n",
    "        .with_columns(pl.lit(date_dtm).dt.truncate('1d').alias('date_dtm'))\n",
    "    )\n"
   ]
  },
  {
   "cell_type": "code",
   "execution_count": 25,
   "metadata": {},
   "outputs": [
    {
     "data": {
      "text/html": [
       "<div><style>\n",
       ".dataframe > thead > tr,\n",
       ".dataframe > tbody > tr {\n",
       "  text-align: right;\n",
       "  white-space: pre-wrap;\n",
       "}\n",
       "</style>\n",
       "<small>shape: (3_112, 6)</small><table border=\"1\" class=\"dataframe\"><thead><tr><th>user_id</th><th>n_memes_sent</th><th>n_likes</th><th>n_dislikes</th><th>user_age_days</th><th>date_dtm</th></tr><tr><td>str</td><td>u32</td><td>i64</td><td>i64</td><td>i64</td><td>datetime[μs]</td></tr></thead><tbody><tr><td>&quot;853,469,181&quot;</td><td>1862</td><td>93</td><td>1750</td><td>42</td><td>2024-04-01 00:00:00</td></tr><tr><td>&quot;1,137,935,514&quot;</td><td>1</td><td>0</td><td>0</td><td>42</td><td>2024-04-01 00:00:00</td></tr><tr><td>&quot;258,848,832&quot;</td><td>14</td><td>9</td><td>5</td><td>42</td><td>2024-04-01 00:00:00</td></tr><tr><td>&quot;5,474,862,476&quot;</td><td>1000</td><td>981</td><td>5</td><td>42</td><td>2024-04-01 00:00:00</td></tr><tr><td>&quot;1,385,198,552&quot;</td><td>2354</td><td>2248</td><td>12</td><td>42</td><td>2024-04-01 00:00:00</td></tr><tr><td>&hellip;</td><td>&hellip;</td><td>&hellip;</td><td>&hellip;</td><td>&hellip;</td><td>&hellip;</td></tr><tr><td>&quot;1,863,992,215&quot;</td><td>524</td><td>293</td><td>207</td><td>40</td><td>2024-04-01 00:00:00</td></tr><tr><td>&quot;648,981,358&quot;</td><td>10305</td><td>7144</td><td>3043</td><td>42</td><td>2024-04-01 00:00:00</td></tr><tr><td>&quot;1,157,135,335&quot;</td><td>5263</td><td>26</td><td>5204</td><td>42</td><td>2024-04-01 00:00:00</td></tr><tr><td>&quot;1,994,356,606&quot;</td><td>1</td><td>0</td><td>0</td><td>1</td><td>2024-04-01 00:00:00</td></tr><tr><td>&quot;1,422,616,622&quot;</td><td>9637</td><td>2574</td><td>7005</td><td>42</td><td>2024-04-01 00:00:00</td></tr></tbody></table></div>"
      ],
      "text/plain": [
       "shape: (3_112, 6)\n",
       "┌───────────────┬──────────────┬─────────┬────────────┬───────────────┬─────────────────────┐\n",
       "│ user_id       ┆ n_memes_sent ┆ n_likes ┆ n_dislikes ┆ user_age_days ┆ date_dtm            │\n",
       "│ ---           ┆ ---          ┆ ---     ┆ ---        ┆ ---           ┆ ---                 │\n",
       "│ str           ┆ u32          ┆ i64     ┆ i64        ┆ i64           ┆ datetime[μs]        │\n",
       "╞═══════════════╪══════════════╪═════════╪════════════╪═══════════════╪═════════════════════╡\n",
       "│ 853,469,181   ┆ 1862         ┆ 93      ┆ 1750       ┆ 42            ┆ 2024-04-01 00:00:00 │\n",
       "│ 1,137,935,514 ┆ 1            ┆ 0       ┆ 0          ┆ 42            ┆ 2024-04-01 00:00:00 │\n",
       "│ 258,848,832   ┆ 14           ┆ 9       ┆ 5          ┆ 42            ┆ 2024-04-01 00:00:00 │\n",
       "│ 5,474,862,476 ┆ 1000         ┆ 981     ┆ 5          ┆ 42            ┆ 2024-04-01 00:00:00 │\n",
       "│ 1,385,198,552 ┆ 2354         ┆ 2248    ┆ 12         ┆ 42            ┆ 2024-04-01 00:00:00 │\n",
       "│ …             ┆ …            ┆ …       ┆ …          ┆ …             ┆ …                   │\n",
       "│ 1,863,992,215 ┆ 524          ┆ 293     ┆ 207        ┆ 40            ┆ 2024-04-01 00:00:00 │\n",
       "│ 648,981,358   ┆ 10305        ┆ 7144    ┆ 3043       ┆ 42            ┆ 2024-04-01 00:00:00 │\n",
       "│ 1,157,135,335 ┆ 5263         ┆ 26      ┆ 5204       ┆ 42            ┆ 2024-04-01 00:00:00 │\n",
       "│ 1,994,356,606 ┆ 1            ┆ 0       ┆ 0          ┆ 1             ┆ 2024-04-01 00:00:00 │\n",
       "│ 1,422,616,622 ┆ 9637         ┆ 2574    ┆ 7005       ┆ 42            ┆ 2024-04-01 00:00:00 │\n",
       "└───────────────┴──────────────┴─────────┴────────────┴───────────────┴─────────────────────┘"
      ]
     },
     "execution_count": 25,
     "metadata": {},
     "output_type": "execute_result"
    }
   ],
   "source": [
    "# Testing\n",
    "get_user_stats_day(user_meme_proc_v2_df, meme_created_df, datetime(2024, 4, 1))"
   ]
  },
  {
   "cell_type": "code",
   "execution_count": 31,
   "metadata": {},
   "outputs": [],
   "source": [
    "res = []\n",
    "for date_dtm in dates_dtm:\n",
    "    res.append(get_user_stats_day(user_meme_proc_v2_df, meme_created_df, date_dtm))\n",
    "\n",
    "user_features_daily_df = (\n",
    "    pl.concat(res)\n",
    ")"
   ]
  },
  {
   "cell_type": "code",
   "execution_count": 35,
   "metadata": {},
   "outputs": [],
   "source": [
    "user_features_daily_df.write_parquet('user_features_daily.pq')"
   ]
  }
 ],
 "metadata": {
  "kernelspec": {
   "display_name": "general_311",
   "language": "python",
   "name": "python3"
  },
  "language_info": {
   "codemirror_mode": {
    "name": "ipython",
    "version": 3
   },
   "file_extension": ".py",
   "mimetype": "text/x-python",
   "name": "python",
   "nbconvert_exporter": "python",
   "pygments_lexer": "ipython3",
   "version": "3.11.9"
  }
 },
 "nbformat": 4,
 "nbformat_minor": 2
}
