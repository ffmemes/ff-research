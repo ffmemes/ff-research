{
 "cells": [
  {
   "cell_type": "code",
   "execution_count": 2,
   "metadata": {},
   "outputs": [],
   "source": [
    "import os\n",
    "from datetime import datetime\n",
    "from io import BytesIO\n",
    "from os.path import isfile\n",
    "from time import sleep\n",
    "\n",
    "import numpy as np\n",
    "import pandas as pd\n",
    "import polars as pl\n",
    "import psycopg2\n",
    "import requests\n",
    "from dotenv import load_dotenv\n",
    "from PIL import Image\n",
    "from telegram import Bot\n",
    "from tqdm.notebook import tqdm"
   ]
  },
  {
   "cell_type": "code",
   "execution_count": 3,
   "metadata": {},
   "outputs": [],
   "source": [
    "load_dotenv()\n",
    "DATABASE_URL = os.environ['DATABASE_URL']\n",
    "conn = psycopg2.connect(DATABASE_URL)"
   ]
  },
  {
   "cell_type": "code",
   "execution_count": 4,
   "metadata": {},
   "outputs": [],
   "source": [
    "user_df = pl.read_database('select * from public.user', conn)\n",
    "meme_source_df = pl.read_database('select id, type, url, status, language_code, parsed_at, created_at, updated_at, added_by from public.meme_source', conn)"
   ]
  },
  {
   "cell_type": "code",
   "execution_count": 5,
   "metadata": {},
   "outputs": [],
   "source": [
    "meme_df = pl.read_database(\"select id, meme_source_id, raw_meme_id, status, type, telegram_file_id, caption, language_code, created_at, updated_at, published_at, ocr_result #>> '{}' ocr_result from public.meme\", conn)"
   ]
  },
  {
   "cell_type": "code",
   "execution_count": 6,
   "metadata": {},
   "outputs": [],
   "source": [
    "conn.close()"
   ]
  },
  {
   "cell_type": "code",
   "execution_count": 7,
   "metadata": {},
   "outputs": [],
   "source": [
    "general_ru = [\n",
    "    'https://vk.com/mysterious_conditions',\n",
    "    'https://vk.com/wtf.rasha',\n",
    "    'https://vk.com/demotiva',\n",
    "    'https://vk.com/papkapic',\n",
    "]"
   ]
  },
  {
   "cell_type": "code",
   "execution_count": 8,
   "metadata": {},
   "outputs": [],
   "source": [
    "test_memes = (\n",
    "    meme_df\n",
    "    .join(meme_source_df.filter(pl.col('url').is_in(general_ru)), left_on='meme_source_id', right_on='id')\n",
    "    .filter(pl.col('status') == 'ok')\n",
    "    .sort('created_at', descending=True)\n",
    ")"
   ]
  },
  {
   "cell_type": "code",
   "execution_count": 9,
   "metadata": {},
   "outputs": [],
   "source": [
    "bot = Bot(os.environ['TELEGRAM_TOKEN'])"
   ]
  },
  {
   "cell_type": "code",
   "execution_count": 10,
   "metadata": {},
   "outputs": [
    {
     "data": {
      "application/vnd.jupyter.widget-view+json": {
       "model_id": "cda235fe90a3456782863b1ed0caad6e",
       "version_major": 2,
       "version_minor": 0
      },
      "text/plain": [
       "0it [00:00, ?it/s]"
      ]
     },
     "metadata": {},
     "output_type": "display_data"
    },
    {
     "name": "stdout",
     "output_type": "stream",
     "text": [
      "{'id': 8992724, 'meme_source_id': 74, 'raw_meme_id': 1631628, 'status': 'ok', 'type': 'image', 'telegram_file_id': 'AgACAgIAAx0EdEW6nAABAYGnZkqJr-6BbIKdGwS1_lPfCeb65SUAAj7mMRurXlFK3YBQk6ld0OABAAMCAAN4AAM1BA', 'caption': '', 'language_code': 'ru', 'created_at': datetime.datetime(2024, 5, 19, 23, 21, 11, 289079), 'updated_at': datetime.datetime(2024, 6, 9, 19, 32, 31, 992108), 'published_at': datetime.datetime(2024, 5, 19, 20, 0), 'ocr_result': '{\"text\": \"убиваю время что демаешь ax так тогда я тоже буду тебя убивать cyanide and happiness explosm net\", \"model\": \"mystic:uriel/easyocr-r:v31\", \"raw_result\": {\"id\": \"run_2b51f55e440d4a32a1efbdfeb82ba215\", \"error\": null, \"state\": \"completed\", \"inputs\": null, \"outputs\": [{\"file\": null, \"type\": \"array\", \"value\": [[[[425, 47], [649, 47], [649, 83], [425, 83]], \"УБИВАЮ ВРЕМЯ .\"], [[[51, 79], [263, 79], [263, 119], [51, 119]], \"ЧТО ДЕМАЕШЬ?\"], [[[31, 408], [333, 408], [333, 481], [31, 481]], \"AX ТАК! ТОГДА Я ТОЖЕ БУДУ ТЕБЯ УБИВАТЬ!\"], [[[243, 736], [463, 736], [463, 754], [243, 754]], \"Cyanide and Happiness @ Explosm net]\"]]}], \"created_at\": 1716160943.490372, \"updated_at\": 1716160943.490372, \"pipeline_id\": \"pipeline_7476fd997d2d4f5ab8aedd62502b80e4\", \"queue_position\": null}, \"calculated_at\": \"2024-05-19T23:22:24+0000\"}', 'type_right': 'vk', 'url': 'https://vk.com/papkapic', 'status_right': 'parsing_enabled', 'language_code_right': 'ru', 'parsed_at': datetime.datetime(2024, 6, 9, 17, 20, 3, 118032), 'created_at_right': datetime.datetime(2024, 2, 17, 20, 59, 38, 108858), 'updated_at_right': datetime.datetime(2024, 6, 9, 17, 20, 3, 119133), 'added_by': None}\n",
      "{'id': 8079225, 'meme_source_id': 74, 'raw_meme_id': 1468214, 'status': 'ok', 'type': 'image', 'telegram_file_id': 'AgACAgIAAx0EdEW6nAABAWDRZj6snrrCZ3NgeLe0XZjy-nXvMiYAAiLaMRt0c_hJN_65mzWX43UBAAMCAAN4AAM1BA', 'caption': '', 'language_code': 'ru', 'created_at': datetime.datetime(2024, 5, 10, 23, 21, 11, 819522), 'updated_at': datetime.datetime(2024, 6, 9, 19, 32, 31, 992108), 'published_at': datetime.datetime(2024, 5, 10, 20, 0), 'ocr_result': '{\"text\": \"хочешь пойти прогуаяться нет уж я хочу сиаеть можем захватить € собой дoma ненавижу арузей аюаей bсex kpome тебя я тебя вообще за чеовека he считаю cyanide and happiness explosmnet\", \"model\": \"mystic:uriel/easyocr-r:v31\", \"raw_result\": {\"id\": \"run_1b526a73a3c746ea81082fb9728db352\", \"error\": null, \"state\": \"completed\", \"inputs\": null, \"outputs\": [{\"file\": null, \"type\": \"array\", \"value\": [[[[20, 28], [650, 28], [650, 102], [20, 102]], \"ХОЧЕШЬ ПОЙТИ ПРОГУАЯТЬСЯ? НЕТ УЖ, Я ХОЧУ СИАЕТЬ МОЖЕМ ЗАХВАтИтЬ € СОБОЙ ДOMA. НЕНАВИЖУ АРУЗЕЙ: АЮАЕЙ:\"], [[[66, 404], [286, 404], [286, 428], [66, 428]], \"BСEX, KPOME ТЕБЯ\"], [[[372, 402], [649, 402], [649, 452], [372, 452]], \"Я ТЕБЯ ВООБЩЕ ЗА ЧЕ^ОВЕКА HE СЧИТАЮ\"], [[[247, 722], [453, 722], [453, 738], [247, 738]], \"Cyanide and Happiness @ Explosmnet\"]]}], \"created_at\": 1715383625.690841, \"updated_at\": 1715383625.690841, \"pipeline_id\": \"pipeline_7476fd997d2d4f5ab8aedd62502b80e4\", \"queue_position\": null}, \"calculated_at\": \"2024-05-10T23:27:06+0000\"}', 'type_right': 'vk', 'url': 'https://vk.com/papkapic', 'status_right': 'parsing_enabled', 'language_code_right': 'ru', 'parsed_at': datetime.datetime(2024, 6, 9, 17, 20, 3, 118032), 'created_at_right': datetime.datetime(2024, 2, 17, 20, 59, 38, 108858), 'updated_at_right': datetime.datetime(2024, 6, 9, 17, 20, 3, 119133), 'added_by': None}\n",
      "{'id': 9505, 'meme_source_id': 74, 'raw_meme_id': 1759, 'status': 'ok', 'type': 'image', 'telegram_file_id': 'AgACAgIAAx0EdEW6nAACO41l0gNiMcBLU4BJVTX7sZ-rVcfTFAACPd0xG2lskErcy03sLFuXfgEAAwIAA3gAAzQE', 'caption': '', 'language_code': 'ru', 'created_at': datetime.datetime(2024, 2, 18, 12, 54, 16, 286887), 'updated_at': datetime.datetime(2024, 2, 18, 15, 58, 15, 313845), 'published_at': datetime.datetime(2024, 2, 4, 5, 0, 1), 'ocr_result': '{\"text\": \"аскеонывс вокруг bce такие у них бизнес хобби путешествия а у меня хватает си тоаько аежать тюхенем и винить себя за это понимаете я поняа ваш запрос мы проработаем ваше чувство вины и вы сможете ежать тюенем абсоаютно спокойно почему бы и да\", \"model\": \"mystic:uriel/easyocr-r:v31\", \"raw_result\": {\"id\": \"run_11f75cb5d6f141b78ffa1e148d0eb402\", \"error\": null, \"state\": \"completed\", \"inputs\": null, \"outputs\": [{\"file\": null, \"type\": \"array\", \"value\": [[[[41, 25], [313, 25], [313, 182], [41, 182]], \"АСКЕОНЫвС ВОКРУГ BCE ТАКИЕ У НИХ БИЗНЕС, ХОББИ, ПУТЕШЕСТВИЯ А У МЕНЯ ХВАТАЕТ СИ^ ТОАЬКО АЕЖАТЬ ТЮХЕНЕМ И ВИНИТЬ СЕБЯ ЗА ЭТО! ПОНИМАЕТЕ?\"], [[[431, 27], [633, 27], [633, 47], [431, 47]], \"Я ПОНЯ^А ВАШ ЗАПРОС\"], [[[423, 61], [643, 61], [643, 168], [423, 168]], \"МЫ ПРОРАБОТАЕМ ВАШЕ ЧУВСТВО ВИНЫ И ВЫ СМОЖЕТЕ ^ЕЖАТЬ ТЮ^ЕНЕМ АБСОАЮТНО СПОКОЙНО!\"], [[[375, 533], [451, 533], [451, 571], [375, 571]], \"ПОЧЕМУ БЫ И ДА\"]]}], \"created_at\": 1708270292.120635, \"updated_at\": 1708270292.120635, \"pipeline_id\": \"pipeline_7476fd997d2d4f5ab8aedd62502b80e4\"}, \"calculated_at\": \"2024-02-18T15:31:32+0000\"}', 'type_right': 'vk', 'url': 'https://vk.com/papkapic', 'status_right': 'parsing_enabled', 'language_code_right': 'ru', 'parsed_at': datetime.datetime(2024, 6, 9, 17, 20, 3, 118032), 'created_at_right': datetime.datetime(2024, 2, 17, 20, 59, 38, 108858), 'updated_at_right': datetime.datetime(2024, 6, 9, 17, 20, 3, 119133), 'added_by': None}\n"
     ]
    }
   ],
   "source": [
    "for row in tqdm(test_memes.iter_rows(named=True)):\n",
    "    meme_id = row['id']\n",
    "    fn = f'images/general_ru/{meme_id}.png'\n",
    "    if isfile(fn):\n",
    "        continue\n",
    "    try:\n",
    "        telegram_file = await bot.get_file(row['telegram_file_id'], read_timeout=30)\n",
    "    except:\n",
    "        print(row)\n",
    "    r = requests.get(telegram_file.file_path)\n",
    "    image_data = r.content\n",
    "    img = Image.open(BytesIO(image_data))\n",
    "    img.save(fn)"
   ]
  }
 ],
 "metadata": {
  "kernelspec": {
   "display_name": "general_311",
   "language": "python",
   "name": "python3"
  },
  "language_info": {
   "codemirror_mode": {
    "name": "ipython",
    "version": 3
   },
   "file_extension": ".py",
   "mimetype": "text/x-python",
   "name": "python",
   "nbconvert_exporter": "python",
   "pygments_lexer": "ipython3",
   "version": "3.11.9"
  }
 },
 "nbformat": 4,
 "nbformat_minor": 2
}
