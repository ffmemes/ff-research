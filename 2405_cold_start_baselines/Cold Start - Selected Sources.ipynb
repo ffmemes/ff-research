{
 "cells": [
  {
   "cell_type": "markdown",
   "metadata": {},
   "source": [
    "# Cold Start - AB 240422 Analysis\n",
    "\n",
    "**ab_240422** appeared to have the same performance as the previous **best_meme_from_each_source**. The reasons why these results differ from the previous offline simulation\n",
    "\n",
    "* The main probable reason is the bias in the training data\n",
    "* In the previous simulation, I removed users that blocked the bot\n",
    "* In the current simulation I left only to 40 items for each new user"
   ]
  },
  {
   "cell_type": "code",
   "execution_count": 1,
   "metadata": {},
   "outputs": [],
   "source": [
    "%load_ext autoreload\n",
    "%autoreload 2"
   ]
  },
  {
   "cell_type": "code",
   "execution_count": 2,
   "metadata": {},
   "outputs": [],
   "source": [
    "import hashlib\n",
    "import json\n",
    "from datetime import datetime\n",
    "\n",
    "import numpy as np\n",
    "import polars as pl\n",
    "from sklearn.model_selection import train_test_split"
   ]
  },
  {
   "cell_type": "code",
   "execution_count": 3,
   "metadata": {},
   "outputs": [],
   "source": [
    "from models import ColdStartRecommender, BestMemeFromEachSource, MostLiked, SelectedSources, CustomSources\n",
    "from estimate import estimate_cs, estimate_cs_prod"
   ]
  },
  {
   "cell_type": "code",
   "execution_count": 64,
   "metadata": {},
   "outputs": [],
   "source": [
    "coldstart_df = pl.read_parquet('coldstart.pq')\n",
    "meme_features_daily_df = pl.read_parquet('meme_features_daily.pq')\n",
    "\n",
    "# v2 is calculated on users with less than 200 responses\n",
    "meme_features_daily_v2_df = pl.read_parquet('meme_features_daily_v2.pq')"
   ]
  },
  {
   "cell_type": "code",
   "execution_count": 65,
   "metadata": {},
   "outputs": [],
   "source": [
    "meme_df = pl.read_parquet('meme.pq')\n",
    "meme_source_df = pl.read_parquet('meme_source.pq')"
   ]
  },
  {
   "cell_type": "code",
   "execution_count": 6,
   "metadata": {},
   "outputs": [
    {
     "data": {
      "text/html": [
       "<div><style>\n",
       ".dataframe > thead > tr,\n",
       ".dataframe > tbody > tr {\n",
       "  text-align: right;\n",
       "  white-space: pre-wrap;\n",
       "}\n",
       "</style>\n",
       "<small>shape: (1, 6)</small><table border=\"1\" class=\"dataframe\"><thead><tr><th>user_id</th><th>dtm</th><th>date_dtm</th><th>target_memes</th><th>target_reactions</th><th>target_recommended_by</th></tr><tr><td>i64</td><td>datetime[μs]</td><td>datetime[μs]</td><td>list[i64]</td><td>list[i64]</td><td>list[str]</td></tr></thead><tbody><tr><td>211558</td><td>2024-03-18 04:07:42.589074</td><td>2024-03-18 00:00:00</td><td>[1195419, 171119, … 790223]</td><td>[2, 2, … 2]</td><td>[&quot;best_meme_from_each_source&quot;, &quot;best_meme_from_each_source&quot;, … &quot;best_meme_from_each_source&quot;]</td></tr></tbody></table></div>"
      ],
      "text/plain": [
       "shape: (1, 6)\n",
       "┌─────────┬─────────────────┬─────────────────┬─────────────────┬─────────────────┬────────────────┐\n",
       "│ user_id ┆ dtm             ┆ date_dtm        ┆ target_memes    ┆ target_reaction ┆ target_recomme │\n",
       "│ ---     ┆ ---             ┆ ---             ┆ ---             ┆ s               ┆ nded_by        │\n",
       "│ i64     ┆ datetime[μs]    ┆ datetime[μs]    ┆ list[i64]       ┆ ---             ┆ ---            │\n",
       "│         ┆                 ┆                 ┆                 ┆ list[i64]       ┆ list[str]      │\n",
       "╞═════════╪═════════════════╪═════════════════╪═════════════════╪═════════════════╪════════════════╡\n",
       "│ 211558  ┆ 2024-03-18      ┆ 2024-03-18      ┆ [1195419,       ┆ [2, 2, … 2]     ┆ [\"best_meme_fr │\n",
       "│         ┆ 04:07:42.589074 ┆ 00:00:00        ┆ 171119, …       ┆                 ┆ om_each_source │\n",
       "│         ┆                 ┆                 ┆ 790223]         ┆                 ┆ \", \"…          │\n",
       "└─────────┴─────────────────┴─────────────────┴─────────────────┴─────────────────┴────────────────┘"
      ]
     },
     "execution_count": 6,
     "metadata": {},
     "output_type": "execute_result"
    }
   ],
   "source": [
    "coldstart_df.slice(2, 1)"
   ]
  },
  {
   "cell_type": "code",
   "execution_count": 7,
   "metadata": {},
   "outputs": [],
   "source": [
    "validation_df = (\n",
    "    coldstart_df\n",
    "    .filter(pl.col('date_dtm') >= datetime(2024, 4, 1))\n",
    "    .filter(pl.col('date_dtm') < datetime(2024, 5, 8))\n",
    "    .with_columns(pl.col('target_memes').list.head(30))\n",
    "    .with_columns(pl.col('target_reactions').list.head(30))\n",
    "    .with_columns(pl.col('target_recommended_by').list.head(30))\n",
    ")"
   ]
  },
  {
   "cell_type": "code",
   "execution_count": 8,
   "metadata": {},
   "outputs": [
    {
     "name": "stdout",
     "output_type": "stream",
     "text": [
      "Likes - 18785, Like Rate = 0.475 +- 0.013, Like Rate Micro = 0.215 +- 0.008\n"
     ]
    }
   ],
   "source": [
    "estimate_cs_prod('best_meme_from_each_source', validation_df)"
   ]
  },
  {
   "cell_type": "code",
   "execution_count": 9,
   "metadata": {},
   "outputs": [
    {
     "name": "stdout",
     "output_type": "stream",
     "text": [
      "Likes - 4292, Like Rate = 0.512 +- 0.027, Like Rate Micro = 0.046 +- 0.005\n"
     ]
    }
   ],
   "source": [
    "estimate_cs_prod('random_best_ab_240422', validation_df)"
   ]
  },
  {
   "cell_type": "code",
   "execution_count": 10,
   "metadata": {},
   "outputs": [
    {
     "name": "stdout",
     "output_type": "stream",
     "text": [
      "Likes - 1090, Like Rate = 0.526 +- 0.024, Like Rate Micro = 0.497 +- 0.025\n"
     ]
    }
   ],
   "source": [
    "best_meme_from_each_source = BestMemeFromEachSource(meme_features_daily_df, min_sent_thr=0)\n",
    "estimate_cs(best_meme_from_each_source, validation_df)"
   ]
  },
  {
   "cell_type": "code",
   "execution_count": 11,
   "metadata": {},
   "outputs": [
    {
     "name": "stdout",
     "output_type": "stream",
     "text": [
      "Likes - 1225, Like Rate = 0.538 +- 0.032, Like Rate Micro = 0.462 +- 0.027\n"
     ]
    }
   ],
   "source": [
    "most_liked = MostLiked(meme_features_daily_df)\n",
    "estimate_cs(most_liked, validation_df)"
   ]
  },
  {
   "cell_type": "code",
   "execution_count": 12,
   "metadata": {},
   "outputs": [
    {
     "name": "stdout",
     "output_type": "stream",
     "text": [
      "Likes - 3987, Like Rate = 0.553 +- 0.015, Like Rate Micro = 0.490 +- 0.015\n"
     ]
    }
   ],
   "source": [
    "most_liked_v2 = MostLiked(meme_features_daily_v2_df)\n",
    "estimate_cs(most_liked_v2, validation_df)"
   ]
  },
  {
   "cell_type": "code",
   "execution_count": 54,
   "metadata": {},
   "outputs": [
    {
     "name": "stdout",
     "output_type": "stream",
     "text": [
      "Likes - 2066, Like Rate = 0.548 +- 0.021, Like Rate Micro = 0.500 +- 0.021\n"
     ]
    }
   ],
   "source": [
    "selected_sources = SelectedSources(meme_features_daily_df, min_sent_thr=10)\n",
    "estimate_cs(selected_sources, validation_df, lang_codes=None)"
   ]
  },
  {
   "cell_type": "code",
   "execution_count": 20,
   "metadata": {},
   "outputs": [
    {
     "name": "stdout",
     "output_type": "stream",
     "text": [
      "Likes - 1679, Like Rate = 0.546 +- 0.022, Like Rate Micro = 0.512 +- 0.022\n"
     ]
    }
   ],
   "source": [
    "selected_sources = SelectedSources(meme_features_daily_v2_df, min_sent_thr=10)\n",
    "estimate_cs(selected_sources, validation_df, lang_codes=None)"
   ]
  },
  {
   "cell_type": "code",
   "execution_count": 55,
   "metadata": {},
   "outputs": [
    {
     "name": "stdout",
     "output_type": "stream",
     "text": [
      "Likes - 1731, Like Rate = 0.556 +- 0.022, Like Rate Micro = 0.519 +- 0.023\n"
     ]
    }
   ],
   "source": [
    "selected_sources = SelectedSources(meme_features_daily_v2_df, min_sent_thr=10)\n",
    "estimate_cs(selected_sources, validation_df, lang_codes=None)"
   ]
  },
  {
   "cell_type": "code",
   "execution_count": 26,
   "metadata": {},
   "outputs": [],
   "source": [
    "selected_sources = SelectedSources(meme_features_daily_v2_df, min_sent_thr=10)"
   ]
  },
  {
   "cell_type": "code",
   "execution_count": 67,
   "metadata": {},
   "outputs": [],
   "source": [
    "selected_sources = SelectedSources(meme_features_daily_df, min_sent_thr=20)"
   ]
  },
  {
   "cell_type": "code",
   "execution_count": 70,
   "metadata": {},
   "outputs": [
    {
     "name": "stdout",
     "output_type": "stream",
     "text": [
      "/meme 7021127 7406558 7309298 7800850 6930231 7711423 7429731 6738541 7263923 7653362\n",
      "/meme 7650435 7463358 7728665 5762991 7570548 7800821 7510581 7273747 6762141 7021128\n",
      "/meme 6611543 7760103 7626659 6725244 7159369 6952525 6738682 6593078 7186939 7319145\n",
      "/meme 6691237 7800853 6691124 7330873 7761635 7272474 6738684 7336684 7001085 7313587\n",
      "/meme 7589133 7746601 6489929 7743723 3530822 7564457 7264007 6452942 7447514 7317863\n",
      "/meme 7589421 6623572 7425200 6738189 6593069 7631669 7263240 6931153 6513288 7234885\n",
      "/meme 7040075 7309297 5894155 7826016 7527928 7728617 7341026 7341027 6695762 5323574\n",
      "/meme 7809768 6690818 6522792 7462187 7826020 7762417 6895401 7341028 5497329 6965529\n",
      "/meme 7041011 6953202 7657763 7701364 4558947\n",
      "/meme \n"
     ]
    }
   ],
   "source": [
    "for i in range(10):\n",
    "    meme_ids = selected_sources.recommend(100, datetime(2024, 5, 9))[i*10:(i+1)*10]\n",
    "    print('/meme ' + ' '.join([str(meme_id) for meme_id in meme_ids]))"
   ]
  },
  {
   "cell_type": "code",
   "execution_count": 72,
   "metadata": {},
   "outputs": [],
   "source": [
    "selected_sources = SelectedSources(meme_features_daily_v2_df, min_sent_thr=10)"
   ]
  },
  {
   "cell_type": "code",
   "execution_count": 73,
   "metadata": {},
   "outputs": [
    {
     "name": "stdout",
     "output_type": "stream",
     "text": [
      "/meme 12632 2687384 4691317 7800835 7263240 7800833 7273747 5594231 1190355 7313587\n",
      "/meme 7737207 121592 5762991 1173406 6393105 6470439 7648698 6522792 7746601 1023569\n",
      "/meme 121513 6680926 7003156 2163445 7728617 3855063 6305615 7564457 6953202 2341860\n",
      "/meme 7462187 7650435 6691124 7425200 7800853 5688394 7309298 7743723 130092 6494305\n",
      "/meme 6931153 1173405 2744097 1976242 1220485 3530822 1017007 5903961 7398465 6952525\n",
      "/meme 285571 6965529 7510581 2010680 2086971 1573399 6902677 7264007 6623571 7515039\n",
      "/meme 5111892 7527928 7186939 7341028 6606148 7234885 7447514 12684 7118266 6690818\n",
      "/meme 7797882 7570548 5439952 6452942 7532191 5048161 1190740 7109188 12664 6611543\n",
      "/meme \n",
      "/meme \n"
     ]
    }
   ],
   "source": [
    "for i in range(10):\n",
    "    meme_ids = selected_sources.recommend(100, datetime(2024, 5, 9))[i*10:(i+1)*10]\n",
    "    print('/meme ' + ' '.join([str(meme_id) for meme_id in meme_ids]))"
   ]
  },
  {
   "cell_type": "code",
   "execution_count": 74,
   "metadata": {},
   "outputs": [
    {
     "name": "stdout",
     "output_type": "stream",
     "text": [
      "12632, 2687384, 4691317, 7800835, 7263240\n",
      "7800833, 7273747, 5594231, 1190355, 7313587\n",
      "7737207, 121592, 5762991, 1173406, 6393105\n",
      "6470439, 7648698, 6522792, 7746601, 1023569\n",
      "121513, 6680926, 7003156, 2163445, 7728617\n",
      "3855063, 6305615, 7564457, 6953202, 2341860\n",
      "7462187, 7650435, 6691124, 7425200, 7800853\n",
      "5688394, 7309298, 7743723, 130092, 6494305\n",
      "6931153, 1173405, 2744097, 1976242, 1220485\n",
      "3530822, 1017007, 5903961, 7398465, 6952525\n",
      "285571, 6965529, 7510581, 2010680, 2086971\n",
      "1573399, 6902677, 7264007, 6623571, 7515039\n",
      "5111892, 7527928, 7186939, 7341028, 6606148\n",
      "7234885, 7447514, 12684, 7118266, 6690818\n",
      "7797882, 7570548, 5439952, 6452942, 7532191\n",
      "5048161, 1190740, 7109188, 12664, 6611543\n",
      "\n"
     ]
    }
   ],
   "source": [
    "all_meme_ids = selected_sources.recommend(1000, datetime(2024, 5, 9))\n",
    "res = ''\n",
    "batch_idx = 0\n",
    "batch_size = 5\n",
    "while batch_idx * batch_size < len(all_meme_ids):\n",
    "    batch = all_meme_ids[batch_idx * batch_size : (batch_idx + 1) * batch_size]\n",
    "    res += ', '.join([str(meme_id) for meme_id in batch])\n",
    "    res += '\\n'\n",
    "    batch_idx += 1\n",
    "print(res)"
   ]
  }
 ],
 "metadata": {
  "kernelspec": {
   "display_name": "general_311",
   "language": "python",
   "name": "python3"
  },
  "language_info": {
   "codemirror_mode": {
    "name": "ipython",
    "version": 3
   },
   "file_extension": ".py",
   "mimetype": "text/x-python",
   "name": "python",
   "nbconvert_exporter": "python",
   "pygments_lexer": "ipython3",
   "version": "3.11.9"
  }
 },
 "nbformat": 4,
 "nbformat_minor": 2
}
