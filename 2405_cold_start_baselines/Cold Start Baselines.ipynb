{
 "cells": [
  {
   "cell_type": "markdown",
   "metadata": {},
   "source": [
    "# Cold Start Baselines\n",
    "\n",
    "**ab_240422** appeared to have the same performance as the previous **best_meme_from_each_source**. The reasons why these results differ from the previous offline simulation\n",
    "\n",
    "* The main probable reason is the bias in the training data\n",
    "* In the previous simulation, I removed users that blocked the bot\n",
    "* In the current simulation I left only to 40 items for each new user"
   ]
  },
  {
   "cell_type": "code",
   "execution_count": 1,
   "metadata": {},
   "outputs": [],
   "source": [
    "import hashlib\n",
    "import json\n",
    "from datetime import datetime\n",
    "\n",
    "import numpy as np\n",
    "import polars as pl\n",
    "from sklearn.model_selection import train_test_split"
   ]
  },
  {
   "cell_type": "code",
   "execution_count": 2,
   "metadata": {},
   "outputs": [],
   "source": [
    "from models import BaseRecommender, BestMemeFromEachSource, MostLiked\n",
    "from estimate import estimate, estimate_prod"
   ]
  },
  {
   "cell_type": "code",
   "execution_count": 3,
   "metadata": {},
   "outputs": [],
   "source": [
    "coldstart_df = pl.read_parquet('coldstart_dataset.pq')\n",
    "meme_features_daily_df = pl.read_parquet('meme_features_daily.pq')\n",
    "\n",
    "# v2 is calculated on users with less than 200 responses\n",
    "meme_features_daily_v2_df = pl.read_parquet('meme_features_daily_v2.pq')"
   ]
  },
  {
   "cell_type": "code",
   "execution_count": 4,
   "metadata": {},
   "outputs": [
    {
     "data": {
      "text/html": [
       "<div><style>\n",
       ".dataframe > thead > tr,\n",
       ".dataframe > tbody > tr {\n",
       "  text-align: right;\n",
       "  white-space: pre-wrap;\n",
       "}\n",
       "</style>\n",
       "<small>shape: (1, 9)</small><table border=\"1\" class=\"dataframe\"><thead><tr><th>user_id</th><th>hist_size</th><th>dtm</th><th>date_dtm</th><th>hist_memes</th><th>hist_reactions</th><th>target_memes</th><th>target_reactions</th><th>target_recommended_by</th></tr><tr><td>str</td><td>i64</td><td>datetime[μs]</td><td>datetime[μs]</td><td>list[str]</td><td>list[i64]</td><td>list[str]</td><td>list[i64]</td><td>list[str]</td></tr></thead><tbody><tr><td>&quot;486,191,407&quot;</td><td>20</td><td>2024-04-03 19:20:00</td><td>2024-04-03 00:00:00</td><td>[&quot;1,237,876&quot;, &quot;2,829,942&quot;, … &quot;3,755,263&quot;]</td><td>[2, 2, … 1]</td><td>[&quot;1,197,484&quot;, &quot;3,546,640&quot;, … &quot;2,051,741&quot;]</td><td>[2, 2, … 2]</td><td>[&quot;like_spread_and_recent&quot;, &quot;like_spread_and_recent&quot;, … &quot;best_meme_from_each_source&quot;]</td></tr></tbody></table></div>"
      ],
      "text/plain": [
       "shape: (1, 9)\n",
       "┌───────────┬───────────┬───────────┬───────────┬───┬───────────┬───────────┬───────────┬──────────┐\n",
       "│ user_id   ┆ hist_size ┆ dtm       ┆ date_dtm  ┆ … ┆ hist_reac ┆ target_me ┆ target_re ┆ target_r │\n",
       "│ ---       ┆ ---       ┆ ---       ┆ ---       ┆   ┆ tions     ┆ mes       ┆ actions   ┆ ecommend │\n",
       "│ str       ┆ i64       ┆ datetime[ ┆ datetime[ ┆   ┆ ---       ┆ ---       ┆ ---       ┆ ed_by    │\n",
       "│           ┆           ┆ μs]       ┆ μs]       ┆   ┆ list[i64] ┆ list[str] ┆ list[i64] ┆ ---      │\n",
       "│           ┆           ┆           ┆           ┆   ┆           ┆           ┆           ┆ list[str │\n",
       "│           ┆           ┆           ┆           ┆   ┆           ┆           ┆           ┆ ]        │\n",
       "╞═══════════╪═══════════╪═══════════╪═══════════╪═══╪═══════════╪═══════════╪═══════════╪══════════╡\n",
       "│ 486,191,4 ┆ 20        ┆ 2024-04-0 ┆ 2024-04-0 ┆ … ┆ [2, 2, …  ┆ [\"1,197,4 ┆ [2, 2, …  ┆ [\"like_s │\n",
       "│ 07        ┆           ┆ 3         ┆ 3         ┆   ┆ 1]        ┆ 84\", \"3,5 ┆ 2]        ┆ pread_an │\n",
       "│           ┆           ┆ 19:20:00  ┆ 00:00:00  ┆   ┆           ┆ 46,640\",  ┆           ┆ d_recent │\n",
       "│           ┆           ┆           ┆           ┆   ┆           ┆ … \"2,…    ┆           ┆ \",       │\n",
       "│           ┆           ┆           ┆           ┆   ┆           ┆           ┆           ┆ \"like…   │\n",
       "└───────────┴───────────┴───────────┴───────────┴───┴───────────┴───────────┴───────────┴──────────┘"
      ]
     },
     "execution_count": 4,
     "metadata": {},
     "output_type": "execute_result"
    }
   ],
   "source": [
    "coldstart_df.slice(2, 1)"
   ]
  },
  {
   "cell_type": "code",
   "execution_count": 5,
   "metadata": {},
   "outputs": [],
   "source": [
    "validation_df = (\n",
    "    coldstart_df\n",
    "    .filter(pl.col('date_dtm') >= datetime(2024, 4, 25))\n",
    "    .filter(pl.col('date_dtm') < datetime(2024, 5, 5))\n",
    "    .filter(pl.col('hist_size') <= 30)\n",
    ")\n",
    "\n",
    "validation_2_df = (\n",
    "    coldstart_df\n",
    "    .filter(pl.col('date_dtm') >= datetime(2024, 4, 25))\n",
    "    .filter(pl.col('date_dtm') < datetime(2024, 5, 5))\n",
    "    .filter(pl.col('hist_size') <= 30)\n",
    "    .with_columns(pl.col('target_memes').list.head(10))\n",
    "    .with_columns(pl.col('target_reactions').list.head(10))\n",
    "    .with_columns(pl.col('target_recommended_by').list.head(10))\n",
    ")"
   ]
  },
  {
   "cell_type": "code",
   "execution_count": 6,
   "metadata": {},
   "outputs": [
    {
     "name": "stdout",
     "output_type": "stream",
     "text": [
      "Likes - 33110, Like Rate = 0.533 +- 0.030, Like Rate Micro = 0.437 +- 0.016\n"
     ]
    }
   ],
   "source": [
    "estimate_prod('best_meme_from_each_source', validation_df)"
   ]
  },
  {
   "cell_type": "code",
   "execution_count": 7,
   "metadata": {},
   "outputs": [
    {
     "name": "stdout",
     "output_type": "stream",
     "text": [
      "Likes - 5068, Like Rate = 0.520 +- 0.018, Like Rate Micro = 0.429 +- 0.019\n"
     ]
    }
   ],
   "source": [
    "estimate_prod('best_meme_from_each_source', validation_2_df)"
   ]
  },
  {
   "cell_type": "code",
   "execution_count": 8,
   "metadata": {},
   "outputs": [
    {
     "name": "stdout",
     "output_type": "stream",
     "text": [
      "Likes - 3319, Like Rate = 0.519 +- 0.022, Like Rate Micro = 0.433 +- 0.023\n"
     ]
    }
   ],
   "source": [
    "estimate_prod('random_best_ab_240422', validation_2_df)"
   ]
  },
  {
   "cell_type": "code",
   "execution_count": 9,
   "metadata": {},
   "outputs": [
    {
     "name": "stdout",
     "output_type": "stream",
     "text": [
      "Likes - 470, Like Rate = 0.588 +- 0.039, Like Rate Micro = 0.604 +- 0.040\n"
     ]
    }
   ],
   "source": [
    "best_meme_from_each_source = BestMemeFromEachSource(meme_features_daily_df)\n",
    "estimate(best_meme_from_each_source, validation_df)"
   ]
  },
  {
   "cell_type": "code",
   "execution_count": 10,
   "metadata": {},
   "outputs": [
    {
     "name": "stdout",
     "output_type": "stream",
     "text": [
      "Likes - 118, Like Rate = 0.628 +- 0.076, Like Rate Micro = 0.619 +- 0.076\n"
     ]
    }
   ],
   "source": [
    "best_meme_from_each_source = BestMemeFromEachSource(meme_features_daily_df)\n",
    "estimate(best_meme_from_each_source, validation_2_df)"
   ]
  },
  {
   "cell_type": "code",
   "execution_count": 11,
   "metadata": {},
   "outputs": [
    {
     "name": "stdout",
     "output_type": "stream",
     "text": [
      "Likes - 1402, Like Rate = 0.666 +- 0.042, Like Rate Micro = 0.568 +- 0.045\n"
     ]
    }
   ],
   "source": [
    "most_liked = MostLiked(meme_features_daily_df)\n",
    "estimate(most_liked, validation_df)"
   ]
  },
  {
   "cell_type": "code",
   "execution_count": 15,
   "metadata": {},
   "outputs": [
    {
     "name": "stdout",
     "output_type": "stream",
     "text": [
      "Likes - 326, Like Rate = 0.620 +- 0.056, Like Rate Micro = 0.517 +- 0.059\n"
     ]
    }
   ],
   "source": [
    "most_liked = MostLiked(meme_features_daily_df)\n",
    "estimate(most_liked, validation_2_df)"
   ]
  },
  {
   "cell_type": "code",
   "execution_count": 13,
   "metadata": {},
   "outputs": [
    {
     "name": "stdout",
     "output_type": "stream",
     "text": [
      "Likes - 2979, Like Rate = 0.647 +- 0.029, Like Rate Micro = 0.584 +- 0.025\n"
     ]
    }
   ],
   "source": [
    "most_liked_v2 = MostLiked(meme_features_daily_v2_df)\n",
    "estimate(most_liked_v2, validation_df)"
   ]
  },
  {
   "cell_type": "code",
   "execution_count": 14,
   "metadata": {},
   "outputs": [
    {
     "name": "stdout",
     "output_type": "stream",
     "text": [
      "Likes - 518, Like Rate = 0.603 +- 0.038, Like Rate Micro = 0.577 +- 0.038\n"
     ]
    }
   ],
   "source": [
    "most_liked_v2 = MostLiked(meme_features_daily_v2_df)\n",
    "estimate(most_liked_v2, validation_2_df)"
   ]
  }
 ],
 "metadata": {
  "kernelspec": {
   "display_name": "general_311",
   "language": "python",
   "name": "python3"
  },
  "language_info": {
   "codemirror_mode": {
    "name": "ipython",
    "version": 3
   },
   "file_extension": ".py",
   "mimetype": "text/x-python",
   "name": "python",
   "nbconvert_exporter": "python",
   "pygments_lexer": "ipython3",
   "version": "3.11.9"
  }
 },
 "nbformat": 4,
 "nbformat_minor": 2
}
