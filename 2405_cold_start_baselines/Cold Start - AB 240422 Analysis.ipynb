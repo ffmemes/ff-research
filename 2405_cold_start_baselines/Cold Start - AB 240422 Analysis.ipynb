{
 "cells": [
  {
   "cell_type": "markdown",
   "metadata": {},
   "source": [
    "# Cold Start - AB 240422 Analysis\n",
    "\n",
    "**ab_240422** appeared to have the same performance as the previous **best_meme_from_each_source**. The reasons why these results differ from the previous offline simulation\n",
    "\n",
    "* The main probable reason is the bias in the training data\n",
    "* In the previous simulation, I removed users that blocked the bot\n",
    "* In the current simulation I left only to 40 items for each new user"
   ]
  },
  {
   "cell_type": "code",
   "execution_count": 1,
   "metadata": {},
   "outputs": [],
   "source": [
    "%load_ext autoreload\n",
    "%autoreload 2"
   ]
  },
  {
   "cell_type": "code",
   "execution_count": 2,
   "metadata": {},
   "outputs": [],
   "source": [
    "import hashlib\n",
    "import json\n",
    "from datetime import datetime\n",
    "\n",
    "import numpy as np\n",
    "import polars as pl\n",
    "from sklearn.model_selection import train_test_split"
   ]
  },
  {
   "cell_type": "code",
   "execution_count": 4,
   "metadata": {},
   "outputs": [],
   "source": [
    "from models import ColdStartRecommender, BestMemeFromEachSource, MostLiked\n",
    "from estimate import estimate_cs, estimate_cs_prod"
   ]
  },
  {
   "cell_type": "code",
   "execution_count": 5,
   "metadata": {},
   "outputs": [],
   "source": [
    "coldstart_df = pl.read_parquet('coldstart.pq')\n",
    "meme_features_daily_df = pl.read_parquet('meme_features_daily.pq')\n",
    "\n",
    "# v2 is calculated on users with less than 200 responses\n",
    "meme_features_daily_v2_df = pl.read_parquet('meme_features_daily_v2.pq')"
   ]
  },
  {
   "cell_type": "code",
   "execution_count": 6,
   "metadata": {},
   "outputs": [
    {
     "data": {
      "text/html": [
       "<div><style>\n",
       ".dataframe > thead > tr,\n",
       ".dataframe > tbody > tr {\n",
       "  text-align: right;\n",
       "  white-space: pre-wrap;\n",
       "}\n",
       "</style>\n",
       "<small>shape: (1, 6)</small><table border=\"1\" class=\"dataframe\"><thead><tr><th>user_id</th><th>dtm</th><th>date_dtm</th><th>target_memes</th><th>target_reactions</th><th>target_recommended_by</th></tr><tr><td>i64</td><td>datetime[μs]</td><td>datetime[μs]</td><td>list[i64]</td><td>list[i64]</td><td>list[str]</td></tr></thead><tbody><tr><td>211558</td><td>2024-03-18 04:07:42.589074</td><td>2024-03-18 00:00:00</td><td>[1195419, 171119, … 790223]</td><td>[2, 2, … 2]</td><td>[&quot;best_meme_from_each_source&quot;, &quot;best_meme_from_each_source&quot;, … &quot;best_meme_from_each_source&quot;]</td></tr></tbody></table></div>"
      ],
      "text/plain": [
       "shape: (1, 6)\n",
       "┌─────────┬─────────────────┬─────────────────┬─────────────────┬─────────────────┬────────────────┐\n",
       "│ user_id ┆ dtm             ┆ date_dtm        ┆ target_memes    ┆ target_reaction ┆ target_recomme │\n",
       "│ ---     ┆ ---             ┆ ---             ┆ ---             ┆ s               ┆ nded_by        │\n",
       "│ i64     ┆ datetime[μs]    ┆ datetime[μs]    ┆ list[i64]       ┆ ---             ┆ ---            │\n",
       "│         ┆                 ┆                 ┆                 ┆ list[i64]       ┆ list[str]      │\n",
       "╞═════════╪═════════════════╪═════════════════╪═════════════════╪═════════════════╪════════════════╡\n",
       "│ 211558  ┆ 2024-03-18      ┆ 2024-03-18      ┆ [1195419,       ┆ [2, 2, … 2]     ┆ [\"best_meme_fr │\n",
       "│         ┆ 04:07:42.589074 ┆ 00:00:00        ┆ 171119, …       ┆                 ┆ om_each_source │\n",
       "│         ┆                 ┆                 ┆ 790223]         ┆                 ┆ \", \"…          │\n",
       "└─────────┴─────────────────┴─────────────────┴─────────────────┴─────────────────┴────────────────┘"
      ]
     },
     "execution_count": 6,
     "metadata": {},
     "output_type": "execute_result"
    }
   ],
   "source": [
    "coldstart_df.slice(2, 1)"
   ]
  },
  {
   "cell_type": "code",
   "execution_count": 7,
   "metadata": {},
   "outputs": [],
   "source": [
    "validation_df = (\n",
    "    coldstart_df\n",
    "    .filter(pl.col('date_dtm') >= datetime(2024, 4, 25))\n",
    "    .filter(pl.col('date_dtm') < datetime(2024, 5, 5))\n",
    "    .with_columns(pl.col('target_memes').list.head(30))\n",
    "    .with_columns(pl.col('target_reactions').list.head(30))\n",
    "    .with_columns(pl.col('target_recommended_by').list.head(30))\n",
    ")"
   ]
  },
  {
   "cell_type": "code",
   "execution_count": 8,
   "metadata": {},
   "outputs": [
    {
     "name": "stdout",
     "output_type": "stream",
     "text": [
      "Likes - 4064, Like Rate = 0.521 +- 0.030, Like Rate Micro = 0.194 +- 0.018\n"
     ]
    }
   ],
   "source": [
    "estimate_cs_prod('best_meme_from_each_source', validation_df)"
   ]
  },
  {
   "cell_type": "code",
   "execution_count": 9,
   "metadata": {},
   "outputs": [
    {
     "name": "stdout",
     "output_type": "stream",
     "text": [
      "Likes - 3036, Like Rate = 0.520 +- 0.033, Like Rate Micro = 0.151 +- 0.017\n"
     ]
    }
   ],
   "source": [
    "estimate_cs_prod('random_best_ab_240422', validation_df)"
   ]
  },
  {
   "cell_type": "code",
   "execution_count": 24,
   "metadata": {},
   "outputs": [
    {
     "name": "stdout",
     "output_type": "stream",
     "text": [
      "Likes - 284, Like Rate = 0.577 +- 0.052, Like Rate Micro = 0.546 +- 0.053\n"
     ]
    }
   ],
   "source": [
    "best_meme_from_each_source = BestMemeFromEachSource(meme_features_daily_df)\n",
    "estimate_cs(best_meme_from_each_source, validation_df, top_size=100)"
   ]
  },
  {
   "cell_type": "code",
   "execution_count": 25,
   "metadata": {},
   "outputs": [
    {
     "name": "stdout",
     "output_type": "stream",
     "text": [
      "Likes - 266, Like Rate = 0.583 +- 0.074, Like Rate Micro = 0.495 +- 0.071\n"
     ]
    }
   ],
   "source": [
    "most_liked = MostLiked(meme_features_daily_df)\n",
    "estimate_cs(most_liked, validation_df, top_size=100)"
   ]
  },
  {
   "cell_type": "code",
   "execution_count": 26,
   "metadata": {},
   "outputs": [
    {
     "name": "stdout",
     "output_type": "stream",
     "text": [
      "Likes - 342, Like Rate = 0.589 +- 0.052, Like Rate Micro = 0.542 +- 0.053\n"
     ]
    }
   ],
   "source": [
    "most_liked_v2 = MostLiked(meme_features_daily_v2_df)\n",
    "estimate_cs(most_liked_v2, validation_df, top_size=100)"
   ]
  }
 ],
 "metadata": {
  "kernelspec": {
   "display_name": "general_311",
   "language": "python",
   "name": "python3"
  },
  "language_info": {
   "codemirror_mode": {
    "name": "ipython",
    "version": 3
   },
   "file_extension": ".py",
   "mimetype": "text/x-python",
   "name": "python",
   "nbconvert_exporter": "python",
   "pygments_lexer": "ipython3",
   "version": "3.11.9"
  }
 },
 "nbformat": 4,
 "nbformat_minor": 2
}
