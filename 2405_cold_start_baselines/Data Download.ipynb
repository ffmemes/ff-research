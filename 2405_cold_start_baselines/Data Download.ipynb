{
 "cells": [
  {
   "cell_type": "markdown",
   "metadata": {},
   "source": [
    "# Download the data from the production database"
   ]
  },
  {
   "cell_type": "code",
   "execution_count": 3,
   "metadata": {},
   "outputs": [],
   "source": [
    "import os\n",
    "\n",
    "import pandas as pd\n",
    "import polars as pl\n",
    "import psycopg2\n",
    "from dotenv import load_dotenv"
   ]
  },
  {
   "cell_type": "code",
   "execution_count": 4,
   "metadata": {},
   "outputs": [],
   "source": [
    "load_dotenv()\n",
    "DATABASE_URL = os.environ['DATABASE_URL']"
   ]
  },
  {
   "cell_type": "code",
   "execution_count": 82,
   "metadata": {},
   "outputs": [],
   "source": [
    "conn = psycopg2.connect(DATABASE_URL)"
   ]
  },
  {
   "cell_type": "code",
   "execution_count": 39,
   "metadata": {},
   "outputs": [],
   "source": [
    "user_df = pl.read_database('select * from public.user', conn)\n",
    "meme_source_df = pl.read_database('select id, type, url, status, language_code, parsed_at, created_at, updated_at, added_by from public.meme_source', conn)\n",
    "user_language_df = pl.read_database('select * from user_language', conn)"
   ]
  },
  {
   "cell_type": "code",
   "execution_count": null,
   "metadata": {},
   "outputs": [],
   "source": [
    "# ~15-20 secs\n",
    "meme_df = pl.read_database(\"select id, meme_source_id, raw_meme_id, status, type, telegram_file_id, caption, language_code, created_at, updated_at, published_at, ocr_result #>> '{}' ocr_result from public.meme\", conn)"
   ]
  },
  {
   "cell_type": "code",
   "execution_count": 62,
   "metadata": {},
   "outputs": [],
   "source": [
    "# ~1.5 min\n",
    "res = []\n",
    "dates = pd.date_range(start='2024-01-01', end='2024-05-10', freq='d').strftime('%Y-%m-%d')\n",
    "for d_from, d_to in zip(dates, dates[1:]):\n",
    "    res.append(pl.read_database(f\"select * from public.user_meme_reaction where sent_at >= '{d_from}'::timestamp and sent_at < '{d_to}'::timestamp\", conn))\n",
    "res = [df for df in res if len(df)]"
   ]
  },
  {
   "cell_type": "code",
   "execution_count": 68,
   "metadata": {},
   "outputs": [],
   "source": [
    "user_meme_df = pl.concat(res)"
   ]
  },
  {
   "cell_type": "code",
   "execution_count": 88,
   "metadata": {},
   "outputs": [],
   "source": [
    "user_df.write_parquet('user.pq')\n",
    "meme_df.write_parquet('meme.pq')\n",
    "meme_source_df.write_parquet('meme_source.pq')\n",
    "user_language_df.write_parquet('user_language.pq')"
   ]
  },
  {
   "cell_type": "code",
   "execution_count": 89,
   "metadata": {},
   "outputs": [],
   "source": [
    "user_meme_df.write_parquet('user_meme_reaction.pq')"
   ]
  },
  {
   "cell_type": "code",
   "execution_count": 90,
   "metadata": {},
   "outputs": [],
   "source": [
    "conn.close()"
   ]
  }
 ],
 "metadata": {
  "kernelspec": {
   "display_name": "general_311",
   "language": "python",
   "name": "python3"
  },
  "language_info": {
   "codemirror_mode": {
    "name": "ipython",
    "version": 3
   },
   "file_extension": ".py",
   "mimetype": "text/x-python",
   "name": "python",
   "nbconvert_exporter": "python",
   "pygments_lexer": "ipython3",
   "version": "3.11.9"
  }
 },
 "nbformat": 4,
 "nbformat_minor": 2
}
