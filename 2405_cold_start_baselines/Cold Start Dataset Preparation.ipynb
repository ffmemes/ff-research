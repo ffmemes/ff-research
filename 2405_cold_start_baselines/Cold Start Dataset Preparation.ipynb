{
 "cells": [
  {
   "cell_type": "markdown",
   "metadata": {},
   "source": [
    "# Cold Start Dataset\n",
    "\n",
    "Two files are prepared in this notebook\n",
    "\n",
    "* Train set for the cold start offline tests\n",
    "* Historical features\n",
    "\n",
    "## Train set\n",
    "\n",
    "Train samples are collections of seen and future (target) items at some moment of time\n",
    "\n",
    "Fields\n",
    "\n",
    "* `user_id`\n",
    "* `hist_size`: memes with reactions at the moment of time\n",
    "* `dtm`: timestamp of the train sample\n",
    "* `hist_memes`, `hist_reactions`: memes from history\n",
    "* `target_memes`, `target_reactions`: memes from future\n",
    "\n",
    "Be careful with out-of-time validation. User samples contains same values (target goes to history through the time). Consider only user or both user and time splits.\n",
    "\n",
    "## Historical features\n",
    "\n",
    "Features for every day. Contains fields from meme_stats which is used in prod.\n",
    "\n",
    "Fields\n",
    "\n",
    "* `meme_id`\n",
    "* `n_likes`\n",
    "* `n_dislikes`\n",
    "* `n_memes_sent`\n",
    "* `age_days`"
   ]
  },
  {
   "cell_type": "code",
   "execution_count": 1,
   "metadata": {},
   "outputs": [],
   "source": [
    "import os\n",
    "import polars as pl\n",
    "from datetime import datetime\n",
    "import numpy as np\n",
    "from tqdm.notebook import tqdm\n",
    "from dotenv import load_dotenv"
   ]
  },
  {
   "cell_type": "code",
   "execution_count": 2,
   "metadata": {},
   "outputs": [],
   "source": [
    "dtm_fmt = \"%B %-d, %Y, %I:%M %p\""
   ]
  },
  {
   "cell_type": "code",
   "execution_count": 30,
   "metadata": {},
   "outputs": [],
   "source": [
    "user_meme_df = pl.read_parquet('user_meme_reaction.pq')\n",
    "user_df = pl.read_parquet('user.pq')\n",
    "meme_df = pl.read_parquet('meme.pq').filter(pl.col('status').is_in(['ok', 'published']))\n",
    "meme_source_df = pl.read_parquet('meme_source.pq')\n",
    "meme_raw_vk_df = pl.read_parquet('meme_raw_vk.pq')"
   ]
  },
  {
   "cell_type": "code",
   "execution_count": 4,
   "metadata": {},
   "outputs": [],
   "source": [
    "user_meme_proc_df = (\n",
    "    user_meme_df\n",
    "    .with_columns(pl.col('reaction_id').fill_null(2))\n",
    "    .sort('user_id', 'sent_at')\n",
    "    .with_columns(reaction_num=pl.first().cum_count().over('user_id'))\n",
    ")"
   ]
  },
  {
   "cell_type": "markdown",
   "metadata": {},
   "source": [
    "# Cold Start dataset"
   ]
  },
  {
   "cell_type": "code",
   "execution_count": 5,
   "metadata": {},
   "outputs": [],
   "source": [
    "coldstart_df = (\n",
    "    user_meme_proc_df\n",
    "    .sort('user_id', 'reaction_num')\n",
    "    .filter(pl.col('reaction_num') <= 100)\n",
    "    .group_by('user_id')\n",
    "    .agg(\n",
    "        pl.col('sent_at').min().alias('dtm'),\n",
    "        pl.col('sent_at').min().dt.truncate('1d').alias('date_dtm'),\n",
    "        pl.col('meme_id').alias('target_memes'),\n",
    "        pl.col('reaction_id').alias('target_reactions'),\n",
    "        pl.col('recommended_by').alias('target_recommended_by'),\n",
    "    )\n",
    ")"
   ]
  },
  {
   "cell_type": "code",
   "execution_count": 6,
   "metadata": {},
   "outputs": [
    {
     "data": {
      "text/html": [
       "<div><style>\n",
       ".dataframe > thead > tr,\n",
       ".dataframe > tbody > tr {\n",
       "  text-align: right;\n",
       "  white-space: pre-wrap;\n",
       "}\n",
       "</style>\n",
       "<small>shape: (5, 6)</small><table border=\"1\" class=\"dataframe\"><thead><tr><th>user_id</th><th>dtm</th><th>date_dtm</th><th>target_memes</th><th>target_reactions</th><th>target_recommended_by</th></tr><tr><td>i64</td><td>datetime[μs]</td><td>datetime[μs]</td><td>list[i64]</td><td>list[i64]</td><td>list[str]</td></tr></thead><tbody><tr><td>23045</td><td>2024-03-04 23:03:03.047408</td><td>2024-03-04 00:00:00</td><td>[1197419, 1200107, … 2201702]</td><td>[2, 2, … 2]</td><td>[&quot;sorted_by_user_source_lr_meme_lr_meme_age&quot;, &quot;sorted_by_user_source_lr_meme_lr_meme_age&quot;, … &quot;classic&quot;]</td></tr><tr><td>45933</td><td>2024-04-01 10:08:03.474343</td><td>2024-04-01 00:00:00</td><td>[1197491, 3918601, … 1267028]</td><td>[1, 1, … 2]</td><td>[&quot;like_spread_and_recent&quot;, &quot;like_spread_and_recent&quot;, … &quot;like_spread_and_recent&quot;]</td></tr><tr><td>211558</td><td>2024-03-18 04:07:42.589074</td><td>2024-03-18 00:00:00</td><td>[1195419, 171119, … 790223]</td><td>[2, 2, … 2]</td><td>[&quot;best_meme_from_each_source&quot;, &quot;best_meme_from_each_source&quot;, … &quot;best_meme_from_each_source&quot;]</td></tr><tr><td>283585</td><td>2024-03-27 19:10:20.263604</td><td>2024-03-27 00:00:00</td><td>[2618594, 3024098, … 4897140]</td><td>[1, 1, … 2]</td><td>[&quot;like_spread_and_recent&quot;, &quot;like_spread_and_recent&quot;, … &quot;best_meme_from_each_source&quot;]</td></tr><tr><td>291455</td><td>2024-04-01 18:10:23.036944</td><td>2024-04-01 00:00:00</td><td>[2320851, 3898147, 3724910]</td><td>[2, 2, 2]</td><td>[&quot;like_spread_and_recent&quot;, &quot;like_spread_and_recent&quot;, &quot;like_spread_and_recent&quot;]</td></tr></tbody></table></div>"
      ],
      "text/plain": [
       "shape: (5, 6)\n",
       "┌─────────┬─────────────────┬─────────────────┬─────────────────┬─────────────────┬────────────────┐\n",
       "│ user_id ┆ dtm             ┆ date_dtm        ┆ target_memes    ┆ target_reaction ┆ target_recomme │\n",
       "│ ---     ┆ ---             ┆ ---             ┆ ---             ┆ s               ┆ nded_by        │\n",
       "│ i64     ┆ datetime[μs]    ┆ datetime[μs]    ┆ list[i64]       ┆ ---             ┆ ---            │\n",
       "│         ┆                 ┆                 ┆                 ┆ list[i64]       ┆ list[str]      │\n",
       "╞═════════╪═════════════════╪═════════════════╪═════════════════╪═════════════════╪════════════════╡\n",
       "│ 23045   ┆ 2024-03-04      ┆ 2024-03-04      ┆ [1197419,       ┆ [2, 2, … 2]     ┆ [\"sorted_by_us │\n",
       "│         ┆ 23:03:03.047408 ┆ 00:00:00        ┆ 1200107, …      ┆                 ┆ er_source_lr_m │\n",
       "│         ┆                 ┆                 ┆ 2201702]        ┆                 ┆ eme_…          │\n",
       "│ 45933   ┆ 2024-04-01      ┆ 2024-04-01      ┆ [1197491,       ┆ [1, 1, … 2]     ┆ [\"like_spread_ │\n",
       "│         ┆ 10:08:03.474343 ┆ 00:00:00        ┆ 3918601, …      ┆                 ┆ and_recent\",   │\n",
       "│         ┆                 ┆                 ┆ 1267028]        ┆                 ┆ \"like…         │\n",
       "│ 211558  ┆ 2024-03-18      ┆ 2024-03-18      ┆ [1195419,       ┆ [2, 2, … 2]     ┆ [\"best_meme_fr │\n",
       "│         ┆ 04:07:42.589074 ┆ 00:00:00        ┆ 171119, …       ┆                 ┆ om_each_source │\n",
       "│         ┆                 ┆                 ┆ 790223]         ┆                 ┆ \", \"…          │\n",
       "│ 283585  ┆ 2024-03-27      ┆ 2024-03-27      ┆ [2618594,       ┆ [1, 1, … 2]     ┆ [\"like_spread_ │\n",
       "│         ┆ 19:10:20.263604 ┆ 00:00:00        ┆ 3024098, …      ┆                 ┆ and_recent\",   │\n",
       "│         ┆                 ┆                 ┆ 4897140]        ┆                 ┆ \"like…         │\n",
       "│ 291455  ┆ 2024-04-01      ┆ 2024-04-01      ┆ [2320851,       ┆ [2, 2, 2]       ┆ [\"like_spread_ │\n",
       "│         ┆ 18:10:23.036944 ┆ 00:00:00        ┆ 3898147,        ┆                 ┆ and_recent\",   │\n",
       "│         ┆                 ┆                 ┆ 3724910]        ┆                 ┆ \"like…         │\n",
       "└─────────┴─────────────────┴─────────────────┴─────────────────┴─────────────────┴────────────────┘"
      ]
     },
     "execution_count": 6,
     "metadata": {},
     "output_type": "execute_result"
    }
   ],
   "source": [
    "coldstart_df.head()"
   ]
  },
  {
   "cell_type": "code",
   "execution_count": 7,
   "metadata": {},
   "outputs": [],
   "source": [
    "coldstart_df.write_parquet('coldstart.pq')"
   ]
  },
  {
   "cell_type": "markdown",
   "metadata": {},
   "source": [
    "# Sequential dataset"
   ]
  },
  {
   "cell_type": "code",
   "execution_count": 8,
   "metadata": {},
   "outputs": [],
   "source": [
    "def prepare_data_user(user_meme_proc_df, user_id, chunk_size=30):\n",
    "    \"\"\"\n",
    "    Splits reactions on chunks\n",
    "    Fills historical and target memes\n",
    "    The number of output samples is equal to the number of chunks\n",
    "    \"\"\"\n",
    "    res = []\n",
    "    window_size_backward = chunk_size\n",
    "    window_size_forward = chunk_size * 3\n",
    "\n",
    "    user_meme_slice = user_meme_proc_df.filter(pl.col('user_id') == user_id).sort('sent_at')\n",
    "    \n",
    "    if len(user_meme_slice) == 0:\n",
    "        return res\n",
    "\n",
    "    n_reactions = user_meme_slice.select('reaction_num').max().item()\n",
    "\n",
    "    cur_idx = 0\n",
    "\n",
    "    while cur_idx < n_reactions:\n",
    "\n",
    "        filt_hist = (pl.col('reaction_num') <= cur_idx) & (pl.col('reaction_num') > cur_idx - window_size_backward)\n",
    "        filt_target = (pl.col('reaction_num') > cur_idx) & (pl.col('reaction_num') < cur_idx + window_size_forward)\n",
    "\n",
    "        d = {\n",
    "            'user_id': user_id,\n",
    "            'hist_size': len(user_meme_slice.filter(filt_hist)),\n",
    "            'dtm': user_meme_slice.filter(filt_target).select('sent_at').min().item(),\n",
    "            'date_dtm': user_meme_slice.filter(filt_target).select(pl.col('sent_at').dt.truncate('1d')).min().item(),\n",
    "            'hist_memes': user_meme_slice.filter(filt_hist).get_column('meme_id').to_list(),\n",
    "            'hist_reactions': user_meme_slice.filter(filt_hist).get_column('reaction_id').to_list(),\n",
    "            'target_memes': user_meme_slice.filter(filt_target).get_column('meme_id').to_list(),\n",
    "            'target_reactions': user_meme_slice.filter(filt_target).get_column('reaction_id').to_list(),\n",
    "            'target_recommended_by': user_meme_slice.filter(filt_target).get_column('recommended_by').to_list(),\n",
    "        }\n",
    "        res.append(d)\n",
    "        cur_idx += chunk_size\n",
    "\n",
    "    return res"
   ]
  },
  {
   "cell_type": "code",
   "execution_count": 9,
   "metadata": {},
   "outputs": [
    {
     "data": {
      "text/plain": [
       "[{'user_id': 1,\n",
       "  'hist_size': 0,\n",
       "  'dtm': datetime.datetime(2024, 1, 1, 1, 0),\n",
       "  'date_dtm': datetime.datetime(2024, 1, 1, 0, 0),\n",
       "  'hist_memes': [],\n",
       "  'hist_reactions': [],\n",
       "  'target_memes': [1, 2, 3, 4, 5],\n",
       "  'target_reactions': [1, 1, 1, 1, 1],\n",
       "  'target_recommended_by': ['best_meme_from_each_source',\n",
       "   'best_meme_from_each_source',\n",
       "   'best_meme_from_each_source',\n",
       "   'best_meme_from_each_source',\n",
       "   'best_meme_from_each_source']},\n",
       " {'user_id': 1,\n",
       "  'hist_size': 2,\n",
       "  'dtm': datetime.datetime(2024, 1, 3, 1, 0),\n",
       "  'date_dtm': datetime.datetime(2024, 1, 3, 0, 0),\n",
       "  'hist_memes': [1, 2],\n",
       "  'hist_reactions': [1, 1],\n",
       "  'target_memes': [3, 4, 5],\n",
       "  'target_reactions': [1, 1, 1],\n",
       "  'target_recommended_by': ['best_meme_from_each_source',\n",
       "   'best_meme_from_each_source',\n",
       "   'best_meme_from_each_source']},\n",
       " {'user_id': 1,\n",
       "  'hist_size': 2,\n",
       "  'dtm': datetime.datetime(2024, 1, 5, 1, 0),\n",
       "  'date_dtm': datetime.datetime(2024, 1, 5, 0, 0),\n",
       "  'hist_memes': [3, 4],\n",
       "  'hist_reactions': [1, 1],\n",
       "  'target_memes': [5],\n",
       "  'target_reactions': [1],\n",
       "  'target_recommended_by': ['best_meme_from_each_source']}]"
      ]
     },
     "execution_count": 9,
     "metadata": {},
     "output_type": "execute_result"
    }
   ],
   "source": [
    "test_user_meme_df = pl.DataFrame({'user_id': [1] * 5, 'reaction_num': list(range(1, 6)), 'reaction_id': [1] * 5, 'meme_id': list(range(1, 6)), 'sent_at': [datetime(2024, 1, i, 1) for i in range(1, 6)], 'recommended_by': ['best_meme_from_each_source'] * 5})\n",
    "prepare_data_user(test_user_meme_df, 1, chunk_size=2)"
   ]
  },
  {
   "cell_type": "code",
   "execution_count": 10,
   "metadata": {},
   "outputs": [
    {
     "data": {
      "application/vnd.jupyter.widget-view+json": {
       "model_id": "e0167978935d4683b87104069ef58686",
       "version_major": 2,
       "version_minor": 0
      },
      "text/plain": [
       "  0%|          | 0/11139 [00:00<?, ?it/s]"
      ]
     },
     "metadata": {},
     "output_type": "display_data"
    }
   ],
   "source": [
    "res = []\n",
    "chunk_size = 30\n",
    "\n",
    "for user_id in tqdm(user_df.get_column('id').to_list()):\n",
    "    res.extend(prepare_data_user(user_meme_proc_df, user_id, chunk_size=chunk_size))\n",
    "sequential_dataset = pl.DataFrame(res)"
   ]
  },
  {
   "cell_type": "code",
   "execution_count": 11,
   "metadata": {},
   "outputs": [],
   "source": [
    "sequential_dataset.write_parquet('sequential_dataset.pq')"
   ]
  },
  {
   "cell_type": "markdown",
   "metadata": {},
   "source": [
    "# VK percentiles"
   ]
  },
  {
   "cell_type": "code",
   "execution_count": 12,
   "metadata": {},
   "outputs": [
    {
     "name": "stderr",
     "output_type": "stream",
     "text": [
      "/var/folders/6d/n161bkyn2vlbpvv_fjr94fj40000gn/T/ipykernel_71360/3053687997.py:7: DeprecationWarning: `pl.count()` is deprecated. Please use `pl.len()` instead.\n",
      "  pl.count().alias('n_memes'),\n"
     ]
    },
    {
     "data": {
      "text/html": [
       "<div><style>\n",
       ".dataframe > thead > tr,\n",
       ".dataframe > tbody > tr {\n",
       "  text-align: right;\n",
       "  white-space: pre-wrap;\n",
       "}\n",
       "</style>\n",
       "<small>shape: (36, 6)</small><table border=\"1\" class=\"dataframe\"><thead><tr><th>meme_source_id</th><th>url</th><th>n_memes</th><th>raw_likes_p25</th><th>raw_likes_p50</th><th>raw_likes_p75</th></tr><tr><td>i64</td><td>str</td><td>u32</td><td>f64</td><td>f64</td><td>f64</td></tr></thead><tbody><tr><td>3</td><td>&quot;https://vk.com…</td><td>3518</td><td>159.0</td><td>216.0</td><td>300.0</td></tr><tr><td>62</td><td>&quot;https://vk.com…</td><td>1761</td><td>525.0</td><td>736.0</td><td>1083.0</td></tr><tr><td>49</td><td>&quot;https://vk.com…</td><td>1384</td><td>313.0</td><td>471.0</td><td>794.0</td></tr><tr><td>67</td><td>&quot;https://vk.com…</td><td>1266</td><td>78.0</td><td>120.0</td><td>184.0</td></tr><tr><td>7</td><td>&quot;https://vk.com…</td><td>1191</td><td>197.0</td><td>271.0</td><td>505.0</td></tr><tr><td>&hellip;</td><td>&hellip;</td><td>&hellip;</td><td>&hellip;</td><td>&hellip;</td><td>&hellip;</td></tr><tr><td>73</td><td>&quot;https://vk.com…</td><td>127</td><td>453.0</td><td>647.0</td><td>924.0</td></tr><tr><td>51</td><td>&quot;https://vk.com…</td><td>112</td><td>281.0</td><td>546.0</td><td>917.0</td></tr><tr><td>58</td><td>&quot;https://vk.com…</td><td>109</td><td>108.0</td><td>159.0</td><td>296.0</td></tr><tr><td>55</td><td>&quot;https://vk.com…</td><td>95</td><td>223.0</td><td>347.0</td><td>552.0</td></tr><tr><td>47</td><td>&quot;https://vk.com…</td><td>61</td><td>79.0</td><td>146.0</td><td>217.0</td></tr></tbody></table></div>"
      ],
      "text/plain": [
       "shape: (36, 6)\n",
       "┌────────────────┬───────────────────────┬─────────┬───────────────┬───────────────┬───────────────┐\n",
       "│ meme_source_id ┆ url                   ┆ n_memes ┆ raw_likes_p25 ┆ raw_likes_p50 ┆ raw_likes_p75 │\n",
       "│ ---            ┆ ---                   ┆ ---     ┆ ---           ┆ ---           ┆ ---           │\n",
       "│ i64            ┆ str                   ┆ u32     ┆ f64           ┆ f64           ┆ f64           │\n",
       "╞════════════════╪═══════════════════════╪═════════╪═══════════════╪═══════════════╪═══════════════╡\n",
       "│ 3              ┆ https://vk.com/eterna ┆ 3518    ┆ 159.0         ┆ 216.0         ┆ 300.0         │\n",
       "│                ┆ lclassic              ┆         ┆               ┆               ┆               │\n",
       "│ 62             ┆ https://vk.com/saintb ┆ 1761    ┆ 525.0         ┆ 736.0         ┆ 1083.0        │\n",
       "│                ┆ eobanka               ┆         ┆               ┆               ┆               │\n",
       "│ 49             ┆ https://vk.com/really ┆ 1384    ┆ 313.0         ┆ 471.0         ┆ 794.0         │\n",
       "│                ┆ dank                  ┆         ┆               ┆               ┆               │\n",
       "│ 67             ┆ https://vk.com/ru9gag ┆ 1266    ┆ 78.0          ┆ 120.0         ┆ 184.0         │\n",
       "│ 7              ┆ https://vk.com/wtf.ra ┆ 1191    ┆ 197.0         ┆ 271.0         ┆ 505.0         │\n",
       "│                ┆ sha                   ┆         ┆               ┆               ┆               │\n",
       "│ …              ┆ …                     ┆ …       ┆ …             ┆ …             ┆ …             │\n",
       "│ 73             ┆ https://vk.com/20jqof ┆ 127     ┆ 453.0         ┆ 647.0         ┆ 924.0         │\n",
       "│                ┆ a                     ┆         ┆               ┆               ┆               │\n",
       "│ 51             ┆ https://vk.com/21jqof ┆ 112     ┆ 281.0         ┆ 546.0         ┆ 917.0         │\n",
       "│                ┆ a                     ┆         ┆               ┆               ┆               │\n",
       "│ 58             ┆ https://vk.com/screen ┆ 109     ┆ 108.0         ┆ 159.0         ┆ 296.0         │\n",
       "│                ┆ shots_of_de…          ┆         ┆               ┆               ┆               │\n",
       "│ 55             ┆ https://vk.com/emoboy ┆ 95      ┆ 223.0         ┆ 347.0         ┆ 552.0         │\n",
       "│                ┆ s                     ┆         ┆               ┆               ┆               │\n",
       "│ 47             ┆ https://vk.com/phys_k ┆ 61      ┆ 79.0          ┆ 146.0         ┆ 217.0         │\n",
       "│                ┆ ek                    ┆         ┆               ┆               ┆               │\n",
       "└────────────────┴───────────────────────┴─────────┴───────────────┴───────────────┴───────────────┘"
      ]
     },
     "execution_count": 12,
     "metadata": {},
     "output_type": "execute_result"
    }
   ],
   "source": [
    "vk_stats_df = (\n",
    "    meme_raw_vk_df\n",
    "    .select(pl.col('id').alias('raw_meme_id'), 'views', 'likes', 'meme_source_id')\n",
    "    .join(meme_source_df.select(pl.col('id').alias('meme_source_id'), 'url'), on='meme_source_id')\n",
    "    .group_by('meme_source_id', 'url')\n",
    "    .agg(\n",
    "        pl.count().alias('n_memes'),\n",
    "        pl.quantile('likes', 0.25).alias('raw_likes_p25'),\n",
    "        pl.quantile('likes', 0.50).alias('raw_likes_p50'),\n",
    "        pl.quantile('likes', 0.75).alias('raw_likes_p75'),\n",
    "    )\n",
    "    .sort('n_memes', descending=True)\n",
    ")\n",
    "vk_stats_df"
   ]
  },
  {
   "cell_type": "code",
   "execution_count": 13,
   "metadata": {},
   "outputs": [],
   "source": [
    "vk_meme_stats_df = (\n",
    "    meme_df\n",
    "    .select(pl.col('id').alias('meme_id'), 'raw_meme_id', 'meme_source_id')\n",
    "    .join(meme_source_df.select('id', 'type'), left_on='meme_source_id', right_on='id')\n",
    "    .filter(pl.col('type') == 'vk')\n",
    "    .join(meme_raw_vk_df.select(pl.col('id').alias('raw_meme_id'), 'likes', 'views'), on='raw_meme_id')\n",
    "    .join(vk_stats_df, on='meme_source_id')\n",
    "    .select('meme_id', pl.col('meme_source_id').alias('vk_meme_source_id'), pl.col('views').alias('raw_views'), pl.col('likes').alias('raw_likes'), 'raw_likes_p25', 'raw_likes_p50', 'raw_likes_p75')\n",
    ")"
   ]
  },
  {
   "cell_type": "code",
   "execution_count": 14,
   "metadata": {},
   "outputs": [
    {
     "data": {
      "text/html": [
       "<div><style>\n",
       ".dataframe > thead > tr,\n",
       ".dataframe > tbody > tr {\n",
       "  text-align: right;\n",
       "  white-space: pre-wrap;\n",
       "}\n",
       "</style>\n",
       "<small>shape: (20_106, 7)</small><table border=\"1\" class=\"dataframe\"><thead><tr><th>meme_id</th><th>vk_meme_source_id</th><th>raw_views</th><th>raw_likes</th><th>raw_likes_p25</th><th>raw_likes_p50</th><th>raw_likes_p75</th></tr><tr><td>i64</td><td>i64</td><td>i64</td><td>i64</td><td>f64</td><td>f64</td><td>f64</td></tr></thead><tbody><tr><td>84939</td><td>71</td><td>1570</td><td>14</td><td>74.0</td><td>122.0</td><td>188.0</td></tr><tr><td>816078</td><td>3</td><td>9264</td><td>146</td><td>159.0</td><td>216.0</td><td>300.0</td></tr><tr><td>1374823</td><td>69</td><td>4231</td><td>30</td><td>55.0</td><td>89.0</td><td>159.0</td></tr><tr><td>673517</td><td>62</td><td>22667</td><td>501</td><td>525.0</td><td>736.0</td><td>1083.0</td></tr><tr><td>460988</td><td>63</td><td>50272</td><td>1391</td><td>622.0</td><td>926.0</td><td>1597.0</td></tr><tr><td>&hellip;</td><td>&hellip;</td><td>&hellip;</td><td>&hellip;</td><td>&hellip;</td><td>&hellip;</td><td>&hellip;</td></tr><tr><td>8137816</td><td>54</td><td>7012</td><td>176</td><td>226.0</td><td>312.0</td><td>497.0</td></tr><tr><td>7438661</td><td>56</td><td>28875</td><td>97</td><td>47.0</td><td>71.0</td><td>130.0</td></tr><tr><td>7438663</td><td>56</td><td>20514</td><td>172</td><td>47.0</td><td>71.0</td><td>130.0</td></tr><tr><td>8181555</td><td>50</td><td>17414</td><td>925</td><td>452.0</td><td>788.0</td><td>1769.0</td></tr><tr><td>8186101</td><td>54</td><td>11197</td><td>336</td><td>226.0</td><td>312.0</td><td>497.0</td></tr></tbody></table></div>"
      ],
      "text/plain": [
       "shape: (20_106, 7)\n",
       "┌─────────┬────────────────┬───────────┬───────────┬───────────────┬───────────────┬───────────────┐\n",
       "│ meme_id ┆ vk_meme_source ┆ raw_views ┆ raw_likes ┆ raw_likes_p25 ┆ raw_likes_p50 ┆ raw_likes_p75 │\n",
       "│ ---     ┆ _id            ┆ ---       ┆ ---       ┆ ---           ┆ ---           ┆ ---           │\n",
       "│ i64     ┆ ---            ┆ i64       ┆ i64       ┆ f64           ┆ f64           ┆ f64           │\n",
       "│         ┆ i64            ┆           ┆           ┆               ┆               ┆               │\n",
       "╞═════════╪════════════════╪═══════════╪═══════════╪═══════════════╪═══════════════╪═══════════════╡\n",
       "│ 84939   ┆ 71             ┆ 1570      ┆ 14        ┆ 74.0          ┆ 122.0         ┆ 188.0         │\n",
       "│ 816078  ┆ 3              ┆ 9264      ┆ 146       ┆ 159.0         ┆ 216.0         ┆ 300.0         │\n",
       "│ 1374823 ┆ 69             ┆ 4231      ┆ 30        ┆ 55.0          ┆ 89.0          ┆ 159.0         │\n",
       "│ 673517  ┆ 62             ┆ 22667     ┆ 501       ┆ 525.0         ┆ 736.0         ┆ 1083.0        │\n",
       "│ 460988  ┆ 63             ┆ 50272     ┆ 1391      ┆ 622.0         ┆ 926.0         ┆ 1597.0        │\n",
       "│ …       ┆ …              ┆ …         ┆ …         ┆ …             ┆ …             ┆ …             │\n",
       "│ 8137816 ┆ 54             ┆ 7012      ┆ 176       ┆ 226.0         ┆ 312.0         ┆ 497.0         │\n",
       "│ 7438661 ┆ 56             ┆ 28875     ┆ 97        ┆ 47.0          ┆ 71.0          ┆ 130.0         │\n",
       "│ 7438663 ┆ 56             ┆ 20514     ┆ 172       ┆ 47.0          ┆ 71.0          ┆ 130.0         │\n",
       "│ 8181555 ┆ 50             ┆ 17414     ┆ 925       ┆ 452.0         ┆ 788.0         ┆ 1769.0        │\n",
       "│ 8186101 ┆ 54             ┆ 11197     ┆ 336       ┆ 226.0         ┆ 312.0         ┆ 497.0         │\n",
       "└─────────┴────────────────┴───────────┴───────────┴───────────────┴───────────────┴───────────────┘"
      ]
     },
     "execution_count": 14,
     "metadata": {},
     "output_type": "execute_result"
    }
   ],
   "source": [
    "vk_meme_stats_df"
   ]
  },
  {
   "cell_type": "code",
   "execution_count": 15,
   "metadata": {},
   "outputs": [],
   "source": [
    "vk_stats_df.write_parquet('vk_stats.pq')"
   ]
  },
  {
   "cell_type": "markdown",
   "metadata": {},
   "source": [
    "## Meme features v1\n",
    "\n",
    "Trying to reimplement the current production meme_stats table"
   ]
  },
  {
   "cell_type": "code",
   "execution_count": 16,
   "metadata": {},
   "outputs": [],
   "source": [
    "def get_meme_stats_day(date_dtm, user_features_daily_df=None):\n",
    "    stats = (\n",
    "        user_meme_proc_df\n",
    "        .filter(pl.col('sent_at') < date_dtm)\n",
    "        .with_columns(pl.col('sent_at').dt.truncate('1d').alias('date_dtm'))\n",
    "    )\n",
    "    if user_features_daily_df is not None:\n",
    "        fresh_users = (\n",
    "            user_features_daily_df\n",
    "            .filter(pl.col('n_memes_sent') < 300)\n",
    "            .select('user_id', 'date_dtm')\n",
    "        )\n",
    "        stats = stats.join(fresh_users, on=['user_id', 'date_dtm'], how='inner')\n",
    "    \n",
    "    stats = (\n",
    "        stats\n",
    "        .group_by('meme_id').agg(\n",
    "            (pl.col('reaction_id').count() + pl.col('reaction_id').null_count()).alias('n_memes_sent'),\n",
    "            (pl.col('reaction_id') == 1).cast(pl.Int64).sum().alias('n_likes'),\n",
    "            (pl.col('reaction_id') == 2).cast(pl.Int64).sum().alias('n_dislikes'),\n",
    "        )\n",
    "    )\n",
    "\n",
    "    return (\n",
    "        meme_df\n",
    "        .select(pl.col('id').alias('meme_id'), 'language_code', 'created_at', 'meme_source_id', 'status')\n",
    "        .join(meme_source_df.select('id', 'url'), left_on='meme_source_id', right_on='id')\n",
    "        .filter(pl.col('created_at') < date_dtm)\n",
    "        .join(stats, on='meme_id', how='left')\n",
    "        .join(vk_meme_stats_df, on='meme_id', how='left')\n",
    "        .fill_null(0)\n",
    "        .with_columns((pl.lit(date_dtm) - pl.col('created_at')).dt.total_days().alias('age_days'))\n",
    "        .drop('created_at')\n",
    "        .with_columns(pl.lit(date_dtm).dt.truncate('1d').alias('date_dtm'))\n",
    "    )"
   ]
  },
  {
   "cell_type": "code",
   "execution_count": 17,
   "metadata": {},
   "outputs": [
    {
     "data": {
      "text/html": [
       "<div><style>\n",
       ".dataframe > thead > tr,\n",
       ".dataframe > tbody > tr {\n",
       "  text-align: right;\n",
       "  white-space: pre-wrap;\n",
       "}\n",
       "</style>\n",
       "<small>shape: (30_542, 16)</small><table border=\"1\" class=\"dataframe\"><thead><tr><th>meme_id</th><th>language_code</th><th>meme_source_id</th><th>status</th><th>url</th><th>n_memes_sent</th><th>n_likes</th><th>n_dislikes</th><th>vk_meme_source_id</th><th>raw_views</th><th>raw_likes</th><th>raw_likes_p25</th><th>raw_likes_p50</th><th>raw_likes_p75</th><th>age_days</th><th>date_dtm</th></tr><tr><td>i64</td><td>str</td><td>i64</td><td>str</td><td>str</td><td>u32</td><td>i64</td><td>i64</td><td>i64</td><td>i64</td><td>i64</td><td>f64</td><td>f64</td><td>f64</td><td>i64</td><td>datetime[μs]</td></tr></thead><tbody><tr><td>334508</td><td>&quot;ru&quot;</td><td>109</td><td>&quot;ok&quot;</td><td>&quot;https://t.me/k…</td><td>14</td><td>6</td><td>8</td><td>0</td><td>0</td><td>0</td><td>0.0</td><td>0.0</td><td>0.0</td><td>38</td><td>2024-04-01 00:00:00</td></tr><tr><td>221082</td><td>&quot;ru&quot;</td><td>110</td><td>&quot;ok&quot;</td><td>&quot;https://t.me/w…</td><td>6</td><td>2</td><td>4</td><td>0</td><td>0</td><td>0</td><td>0.0</td><td>0.0</td><td>0.0</td><td>40</td><td>2024-04-01 00:00:00</td></tr><tr><td>317457</td><td>&quot;en&quot;</td><td>27</td><td>&quot;ok&quot;</td><td>&quot;https://t.me/a…</td><td>18</td><td>9</td><td>9</td><td>0</td><td>0</td><td>0</td><td>0.0</td><td>0.0</td><td>0.0</td><td>39</td><td>2024-04-01 00:00:00</td></tr><tr><td>1645268</td><td>&quot;ru&quot;</td><td>110</td><td>&quot;ok&quot;</td><td>&quot;https://t.me/w…</td><td>26</td><td>13</td><td>13</td><td>0</td><td>0</td><td>0</td><td>0.0</td><td>0.0</td><td>0.0</td><td>22</td><td>2024-04-01 00:00:00</td></tr><tr><td>212537</td><td>&quot;ru&quot;</td><td>97</td><td>&quot;ok&quot;</td><td>&quot;https://t.me/t…</td><td>18</td><td>5</td><td>13</td><td>0</td><td>0</td><td>0</td><td>0.0</td><td>0.0</td><td>0.0</td><td>40</td><td>2024-04-01 00:00:00</td></tr><tr><td>&hellip;</td><td>&hellip;</td><td>&hellip;</td><td>&hellip;</td><td>&hellip;</td><td>&hellip;</td><td>&hellip;</td><td>&hellip;</td><td>&hellip;</td><td>&hellip;</td><td>&hellip;</td><td>&hellip;</td><td>&hellip;</td><td>&hellip;</td><td>&hellip;</td><td>&hellip;</td></tr><tr><td>3560</td><td>&quot;ru&quot;</td><td>91</td><td>&quot;ok&quot;</td><td>&quot;https://t.me/a…</td><td>62</td><td>21</td><td>41</td><td>0</td><td>0</td><td>0</td><td>0.0</td><td>0.0</td><td>0.0</td><td>42</td><td>2024-04-01 00:00:00</td></tr><tr><td>84932</td><td>&quot;ru&quot;</td><td>109</td><td>&quot;ok&quot;</td><td>&quot;https://t.me/k…</td><td>23</td><td>9</td><td>14</td><td>0</td><td>0</td><td>0</td><td>0.0</td><td>0.0</td><td>0.0</td><td>41</td><td>2024-04-01 00:00:00</td></tr><tr><td>585</td><td>&quot;ru&quot;</td><td>80</td><td>&quot;ok&quot;</td><td>&quot;https://t.me/m…</td><td>16</td><td>4</td><td>12</td><td>0</td><td>0</td><td>0</td><td>0.0</td><td>0.0</td><td>0.0</td><td>43</td><td>2024-04-01 00:00:00</td></tr><tr><td>384892</td><td>&quot;ru&quot;</td><td>23</td><td>&quot;ok&quot;</td><td>&quot;https://t.me/l…</td><td>34</td><td>14</td><td>20</td><td>0</td><td>0</td><td>0</td><td>0.0</td><td>0.0</td><td>0.0</td><td>38</td><td>2024-04-01 00:00:00</td></tr><tr><td>397866</td><td>&quot;ru&quot;</td><td>95</td><td>&quot;ok&quot;</td><td>&quot;https://t.me/l…</td><td>10</td><td>4</td><td>6</td><td>0</td><td>0</td><td>0</td><td>0.0</td><td>0.0</td><td>0.0</td><td>38</td><td>2024-04-01 00:00:00</td></tr></tbody></table></div>"
      ],
      "text/plain": [
       "shape: (30_542, 16)\n",
       "┌─────────┬────────────┬────────────┬────────┬───┬────────────┬────────────┬──────────┬────────────┐\n",
       "│ meme_id ┆ language_c ┆ meme_sourc ┆ status ┆ … ┆ raw_likes_ ┆ raw_likes_ ┆ age_days ┆ date_dtm   │\n",
       "│ ---     ┆ ode        ┆ e_id       ┆ ---    ┆   ┆ p50        ┆ p75        ┆ ---      ┆ ---        │\n",
       "│ i64     ┆ ---        ┆ ---        ┆ str    ┆   ┆ ---        ┆ ---        ┆ i64      ┆ datetime[μ │\n",
       "│         ┆ str        ┆ i64        ┆        ┆   ┆ f64        ┆ f64        ┆          ┆ s]         │\n",
       "╞═════════╪════════════╪════════════╪════════╪═══╪════════════╪════════════╪══════════╪════════════╡\n",
       "│ 334508  ┆ ru         ┆ 109        ┆ ok     ┆ … ┆ 0.0        ┆ 0.0        ┆ 38       ┆ 2024-04-01 │\n",
       "│         ┆            ┆            ┆        ┆   ┆            ┆            ┆          ┆ 00:00:00   │\n",
       "│ 221082  ┆ ru         ┆ 110        ┆ ok     ┆ … ┆ 0.0        ┆ 0.0        ┆ 40       ┆ 2024-04-01 │\n",
       "│         ┆            ┆            ┆        ┆   ┆            ┆            ┆          ┆ 00:00:00   │\n",
       "│ 317457  ┆ en         ┆ 27         ┆ ok     ┆ … ┆ 0.0        ┆ 0.0        ┆ 39       ┆ 2024-04-01 │\n",
       "│         ┆            ┆            ┆        ┆   ┆            ┆            ┆          ┆ 00:00:00   │\n",
       "│ 1645268 ┆ ru         ┆ 110        ┆ ok     ┆ … ┆ 0.0        ┆ 0.0        ┆ 22       ┆ 2024-04-01 │\n",
       "│         ┆            ┆            ┆        ┆   ┆            ┆            ┆          ┆ 00:00:00   │\n",
       "│ 212537  ┆ ru         ┆ 97         ┆ ok     ┆ … ┆ 0.0        ┆ 0.0        ┆ 40       ┆ 2024-04-01 │\n",
       "│         ┆            ┆            ┆        ┆   ┆            ┆            ┆          ┆ 00:00:00   │\n",
       "│ …       ┆ …          ┆ …          ┆ …      ┆ … ┆ …          ┆ …          ┆ …        ┆ …          │\n",
       "│ 3560    ┆ ru         ┆ 91         ┆ ok     ┆ … ┆ 0.0        ┆ 0.0        ┆ 42       ┆ 2024-04-01 │\n",
       "│         ┆            ┆            ┆        ┆   ┆            ┆            ┆          ┆ 00:00:00   │\n",
       "│ 84932   ┆ ru         ┆ 109        ┆ ok     ┆ … ┆ 0.0        ┆ 0.0        ┆ 41       ┆ 2024-04-01 │\n",
       "│         ┆            ┆            ┆        ┆   ┆            ┆            ┆          ┆ 00:00:00   │\n",
       "│ 585     ┆ ru         ┆ 80         ┆ ok     ┆ … ┆ 0.0        ┆ 0.0        ┆ 43       ┆ 2024-04-01 │\n",
       "│         ┆            ┆            ┆        ┆   ┆            ┆            ┆          ┆ 00:00:00   │\n",
       "│ 384892  ┆ ru         ┆ 23         ┆ ok     ┆ … ┆ 0.0        ┆ 0.0        ┆ 38       ┆ 2024-04-01 │\n",
       "│         ┆            ┆            ┆        ┆   ┆            ┆            ┆          ┆ 00:00:00   │\n",
       "│ 397866  ┆ ru         ┆ 95         ┆ ok     ┆ … ┆ 0.0        ┆ 0.0        ┆ 38       ┆ 2024-04-01 │\n",
       "│         ┆            ┆            ┆        ┆   ┆            ┆            ┆          ┆ 00:00:00   │\n",
       "└─────────┴────────────┴────────────┴────────┴───┴────────────┴────────────┴──────────┴────────────┘"
      ]
     },
     "execution_count": 17,
     "metadata": {},
     "output_type": "execute_result"
    }
   ],
   "source": [
    "# Testing\n",
    "get_meme_stats_day(datetime(2024, 4, 1))"
   ]
  },
  {
   "cell_type": "code",
   "execution_count": 18,
   "metadata": {},
   "outputs": [],
   "source": [
    "# Not very reliable though no constants\n",
    "# Drop the first day\n",
    "dates_dtm = user_meme_df.select(pl.col('sent_at').dt.truncate('1d')).unique().sort('sent_at').get_column('sent_at').to_list()"
   ]
  },
  {
   "cell_type": "code",
   "execution_count": 19,
   "metadata": {},
   "outputs": [],
   "source": [
    "res = []\n",
    "for date_dtm in dates_dtm:\n",
    "    res.append(get_meme_stats_day(date_dtm))\n",
    "\n",
    "meme_features_daily_df = (\n",
    "    pl.concat(res)\n",
    "    .join(meme_df.select('id', 'meme_source_id'), left_on='meme_id', right_on='id')\n",
    ")"
   ]
  },
  {
   "cell_type": "code",
   "execution_count": 20,
   "metadata": {},
   "outputs": [],
   "source": [
    "meme_features_daily_df.write_parquet('meme_features_daily.pq')"
   ]
  },
  {
   "cell_type": "markdown",
   "metadata": {},
   "source": [
    "## User features\n",
    "\n",
    "Trying to reimplement the current production user_stats table"
   ]
  },
  {
   "cell_type": "code",
   "execution_count": 21,
   "metadata": {},
   "outputs": [],
   "source": [
    "def get_user_stats_day(user_meme_proc_df, date_dtm):\n",
    "    return (\n",
    "        user_meme_proc_df\n",
    "        .select('user_id', 'meme_id', 'sent_at', 'reaction_id')\n",
    "        .filter(pl.col('sent_at') < date_dtm)\n",
    "        .group_by('user_id').agg(\n",
    "            (pl.col('reaction_id').count() + pl.col('reaction_id').null_count()).alias('n_memes_sent'),\n",
    "            (pl.col('reaction_id') == 1).cast(pl.Int64).sum().alias('n_likes'),\n",
    "            (pl.col('reaction_id') == 2).cast(pl.Int64).sum().alias('n_dislikes'),\n",
    "        )\n",
    "        .join(user_df.select('id', 'created_at'), left_on='user_id', right_on='id')\n",
    "        .with_columns((pl.lit(date_dtm) - pl.col('created_at')).dt.total_days().alias('user_age_days'))\n",
    "        .drop('created_at')\n",
    "        .with_columns(pl.lit(date_dtm).dt.truncate('1d').alias('date_dtm'))\n",
    "    )\n"
   ]
  },
  {
   "cell_type": "code",
   "execution_count": 22,
   "metadata": {},
   "outputs": [
    {
     "data": {
      "text/html": [
       "<div><style>\n",
       ".dataframe > thead > tr,\n",
       ".dataframe > tbody > tr {\n",
       "  text-align: right;\n",
       "  white-space: pre-wrap;\n",
       "}\n",
       "</style>\n",
       "<small>shape: (3_828, 6)</small><table border=\"1\" class=\"dataframe\"><thead><tr><th>user_id</th><th>n_memes_sent</th><th>n_likes</th><th>n_dislikes</th><th>user_age_days</th><th>date_dtm</th></tr><tr><td>i64</td><td>u32</td><td>i64</td><td>i64</td><td>i64</td><td>datetime[μs]</td></tr></thead><tbody><tr><td>320313545</td><td>4378</td><td>62</td><td>4273</td><td>42</td><td>2024-04-01 00:00:00</td></tr><tr><td>1137935514</td><td>1</td><td>0</td><td>0</td><td>42</td><td>2024-04-01 00:00:00</td></tr><tr><td>912433863</td><td>350</td><td>273</td><td>37</td><td>42</td><td>2024-04-01 00:00:00</td></tr><tr><td>6369180715</td><td>17</td><td>14</td><td>0</td><td>6</td><td>2024-04-01 00:00:00</td></tr><tr><td>984118712</td><td>85</td><td>43</td><td>38</td><td>42</td><td>2024-04-01 00:00:00</td></tr><tr><td>&hellip;</td><td>&hellip;</td><td>&hellip;</td><td>&hellip;</td><td>&hellip;</td><td>&hellip;</td></tr><tr><td>1396732769</td><td>10782</td><td>9415</td><td>1261</td><td>41</td><td>2024-04-01 00:00:00</td></tr><tr><td>355168099</td><td>1330</td><td>87</td><td>1222</td><td>40</td><td>2024-04-01 00:00:00</td></tr><tr><td>329524183</td><td>5210</td><td>72</td><td>5098</td><td>42</td><td>2024-04-01 00:00:00</td></tr><tr><td>6906848105</td><td>6118</td><td>5654</td><td>420</td><td>41</td><td>2024-04-01 00:00:00</td></tr><tr><td>6645262330</td><td>1</td><td>0</td><td>0</td><td>39</td><td>2024-04-01 00:00:00</td></tr></tbody></table></div>"
      ],
      "text/plain": [
       "shape: (3_828, 6)\n",
       "┌────────────┬──────────────┬─────────┬────────────┬───────────────┬─────────────────────┐\n",
       "│ user_id    ┆ n_memes_sent ┆ n_likes ┆ n_dislikes ┆ user_age_days ┆ date_dtm            │\n",
       "│ ---        ┆ ---          ┆ ---     ┆ ---        ┆ ---           ┆ ---                 │\n",
       "│ i64        ┆ u32          ┆ i64     ┆ i64        ┆ i64           ┆ datetime[μs]        │\n",
       "╞════════════╪══════════════╪═════════╪════════════╪═══════════════╪═════════════════════╡\n",
       "│ 320313545  ┆ 4378         ┆ 62      ┆ 4273       ┆ 42            ┆ 2024-04-01 00:00:00 │\n",
       "│ 1137935514 ┆ 1            ┆ 0       ┆ 0          ┆ 42            ┆ 2024-04-01 00:00:00 │\n",
       "│ 912433863  ┆ 350          ┆ 273     ┆ 37         ┆ 42            ┆ 2024-04-01 00:00:00 │\n",
       "│ 6369180715 ┆ 17           ┆ 14      ┆ 0          ┆ 6             ┆ 2024-04-01 00:00:00 │\n",
       "│ 984118712  ┆ 85           ┆ 43      ┆ 38         ┆ 42            ┆ 2024-04-01 00:00:00 │\n",
       "│ …          ┆ …            ┆ …       ┆ …          ┆ …             ┆ …                   │\n",
       "│ 1396732769 ┆ 10782        ┆ 9415    ┆ 1261       ┆ 41            ┆ 2024-04-01 00:00:00 │\n",
       "│ 355168099  ┆ 1330         ┆ 87      ┆ 1222       ┆ 40            ┆ 2024-04-01 00:00:00 │\n",
       "│ 329524183  ┆ 5210         ┆ 72      ┆ 5098       ┆ 42            ┆ 2024-04-01 00:00:00 │\n",
       "│ 6906848105 ┆ 6118         ┆ 5654    ┆ 420        ┆ 41            ┆ 2024-04-01 00:00:00 │\n",
       "│ 6645262330 ┆ 1            ┆ 0       ┆ 0          ┆ 39            ┆ 2024-04-01 00:00:00 │\n",
       "└────────────┴──────────────┴─────────┴────────────┴───────────────┴─────────────────────┘"
      ]
     },
     "execution_count": 22,
     "metadata": {},
     "output_type": "execute_result"
    }
   ],
   "source": [
    "# Testing\n",
    "get_user_stats_day(user_meme_df, datetime(2024, 4, 1))"
   ]
  },
  {
   "cell_type": "code",
   "execution_count": 23,
   "metadata": {},
   "outputs": [],
   "source": [
    "res = []\n",
    "for date_dtm in dates_dtm:\n",
    "    res.append(get_user_stats_day(user_meme_proc_df, date_dtm))\n",
    "\n",
    "user_features_daily_df = (\n",
    "    pl.concat(res)\n",
    ")"
   ]
  },
  {
   "cell_type": "code",
   "execution_count": 24,
   "metadata": {},
   "outputs": [],
   "source": [
    "user_features_daily_df.write_parquet('user_features_daily.pq')"
   ]
  },
  {
   "cell_type": "markdown",
   "metadata": {},
   "source": [
    "## Meme features V2 - more strict filtration\n",
    "\n",
    "Ignore old users (more than 200 reactions) in meme stats\n",
    "\n",
    "The idea is that users with many responces have too high like rate with sometimes strange taste of good memes."
   ]
  },
  {
   "cell_type": "code",
   "execution_count": 25,
   "metadata": {},
   "outputs": [],
   "source": [
    "res = []\n",
    "for date_dtm in dates_dtm:\n",
    "    res.append(get_meme_stats_day(date_dtm, user_features_daily_df))\n",
    "\n",
    "meme_features_daily_v2_df = (\n",
    "    pl.concat(res)\n",
    "    .join(meme_df.select('id', 'meme_source_id'), left_on='meme_id', right_on='id')\n",
    ")"
   ]
  },
  {
   "cell_type": "code",
   "execution_count": 26,
   "metadata": {},
   "outputs": [
    {
     "data": {
      "text/html": [
       "<div><style>\n",
       ".dataframe > thead > tr,\n",
       ".dataframe > tbody > tr {\n",
       "  text-align: right;\n",
       "  white-space: pre-wrap;\n",
       "}\n",
       "</style>\n",
       "<small>shape: (1, 17)</small><table border=\"1\" class=\"dataframe\"><thead><tr><th>meme_id</th><th>language_code</th><th>meme_source_id</th><th>status</th><th>url</th><th>n_memes_sent</th><th>n_likes</th><th>n_dislikes</th><th>vk_meme_source_id</th><th>raw_views</th><th>raw_likes</th><th>raw_likes_p25</th><th>raw_likes_p50</th><th>raw_likes_p75</th><th>age_days</th><th>date_dtm</th><th>meme_source_id_right</th></tr><tr><td>i64</td><td>str</td><td>i64</td><td>str</td><td>str</td><td>u32</td><td>i64</td><td>i64</td><td>i64</td><td>i64</td><td>i64</td><td>f64</td><td>f64</td><td>f64</td><td>i64</td><td>datetime[μs]</td><td>i64</td></tr></thead><tbody><tr><td>112898</td><td>&quot;ru&quot;</td><td>12</td><td>&quot;ok&quot;</td><td>&quot;https://t.me/m…</td><td>16</td><td>13</td><td>3</td><td>0</td><td>0</td><td>0</td><td>0.0</td><td>0.0</td><td>0.0</td><td>71</td><td>2024-05-01 00:00:00</td><td>12</td></tr></tbody></table></div>"
      ],
      "text/plain": [
       "shape: (1, 17)\n",
       "┌─────────┬────────────┬────────────┬────────┬───┬────────────┬──────────┬────────────┬────────────┐\n",
       "│ meme_id ┆ language_c ┆ meme_sourc ┆ status ┆ … ┆ raw_likes_ ┆ age_days ┆ date_dtm   ┆ meme_sourc │\n",
       "│ ---     ┆ ode        ┆ e_id       ┆ ---    ┆   ┆ p75        ┆ ---      ┆ ---        ┆ e_id_right │\n",
       "│ i64     ┆ ---        ┆ ---        ┆ str    ┆   ┆ ---        ┆ i64      ┆ datetime[μ ┆ ---        │\n",
       "│         ┆ str        ┆ i64        ┆        ┆   ┆ f64        ┆          ┆ s]         ┆ i64        │\n",
       "╞═════════╪════════════╪════════════╪════════╪═══╪════════════╪══════════╪════════════╪════════════╡\n",
       "│ 112898  ┆ ru         ┆ 12         ┆ ok     ┆ … ┆ 0.0        ┆ 71       ┆ 2024-05-01 ┆ 12         │\n",
       "│         ┆            ┆            ┆        ┆   ┆            ┆          ┆ 00:00:00   ┆            │\n",
       "└─────────┴────────────┴────────────┴────────┴───┴────────────┴──────────┴────────────┴────────────┘"
      ]
     },
     "execution_count": 26,
     "metadata": {},
     "output_type": "execute_result"
    }
   ],
   "source": [
    "meme_features_daily_v2_df.filter(pl.col('meme_id') == 112898).filter(pl.col('date_dtm') == datetime(2024, 5, 1))"
   ]
  },
  {
   "cell_type": "code",
   "execution_count": 27,
   "metadata": {},
   "outputs": [],
   "source": [
    "meme_features_daily_v2_df.write_parquet('meme_features_daily_v2.pq')"
   ]
  }
 ],
 "metadata": {
  "kernelspec": {
   "display_name": "general_311",
   "language": "python",
   "name": "python3"
  },
  "language_info": {
   "codemirror_mode": {
    "name": "ipython",
    "version": 3
   },
   "file_extension": ".py",
   "mimetype": "text/x-python",
   "name": "python",
   "nbconvert_exporter": "python",
   "pygments_lexer": "ipython3",
   "version": "3.11.9"
  }
 },
 "nbformat": 4,
 "nbformat_minor": 2
}
