{
 "cells": [
  {
   "cell_type": "markdown",
   "metadata": {},
   "source": [
    "# Cold Start Dataset\n",
    "\n",
    "Two files are prepared in this notebook\n",
    "\n",
    "* Train set for the cold start offline tests\n",
    "* Historical features\n",
    "\n",
    "## Train set\n",
    "\n",
    "Train samples are collections of seen and future (target) items at some moment of time\n",
    "\n",
    "Fields\n",
    "\n",
    "* `user_id`\n",
    "* `hist_size`: memes with reactions at the moment of time\n",
    "* `dtm`: timestamp of the train sample\n",
    "* `hist_memes`, `hist_reactions`: memes from history\n",
    "* `target_memes`, `target_reactions`: memes from future\n",
    "\n",
    "Be careful with out-of-time validation. User samples contains same values (target goes to history through the time). Consider only user or both user and time splits.\n",
    "\n",
    "## Historical features\n",
    "\n",
    "Features for every day. Contains fields from meme_stats which is used in prod.\n",
    "\n",
    "Fields\n",
    "\n",
    "* `meme_id`\n",
    "* `n_likes`\n",
    "* `n_dislikes`\n",
    "* `n_memes_sent`\n",
    "* `age_days`"
   ]
  },
  {
   "cell_type": "code",
   "execution_count": 1,
   "metadata": {},
   "outputs": [],
   "source": [
    "import polars as pl\n",
    "from datetime import datetime\n",
    "import numpy as np\n",
    "from tqdm.notebook import tqdm"
   ]
  },
  {
   "cell_type": "code",
   "execution_count": 2,
   "metadata": {},
   "outputs": [],
   "source": [
    "dtm_fmt = \"%B %-d, %Y, %I:%M %p\""
   ]
  },
  {
   "cell_type": "code",
   "execution_count": 3,
   "metadata": {},
   "outputs": [],
   "source": [
    "user_meme_df = pl.read_csv('user_meme_reaction_240401_240506.csv')\n",
    "user_df = pl.read_csv('user_240507.csv')\n",
    "meme_df = pl.read_csv('meme_240507.csv')"
   ]
  },
  {
   "cell_type": "code",
   "execution_count": 4,
   "metadata": {},
   "outputs": [],
   "source": [
    "# Only new users\n",
    "\n",
    "user_proc_df = (\n",
    "    user_df\n",
    "    .with_columns(pl.col('created_at').str.to_datetime(dtm_fmt))\n",
    "    .filter(pl.col('created_at') >= datetime(2024, 3, 1))\n",
    "    .drop('type', 'blocked_bot_at', 'inviter_id', 'last_active_at')\n",
    ")"
   ]
  },
  {
   "cell_type": "code",
   "execution_count": 8,
   "metadata": {},
   "outputs": [],
   "source": [
    "# Remove non-reacts\n",
    "# Add reaction number\n",
    "# Leave only new users\n",
    "\n",
    "user_meme_proc_df = (\n",
    "    user_meme_df\n",
    "    .with_columns(pl.col('sent_at').str.to_datetime(dtm_fmt))\n",
    "    .drop('reacted_at')\n",
    "    .with_columns(pl.col('reaction_id').fill_null(2))\n",
    "    .sort('user_id', 'sent_at')\n",
    "    .with_columns(reaction_num=pl.first().cum_count().over('user_id'))\n",
    "    .join(user_proc_df.select('id'), left_on='user_id', right_on='id', how='inner')\n",
    ")"
   ]
  },
  {
   "cell_type": "code",
   "execution_count": 9,
   "metadata": {},
   "outputs": [
    {
     "data": {
      "text/html": [
       "<div><style>\n",
       ".dataframe > thead > tr,\n",
       ".dataframe > tbody > tr {\n",
       "  text-align: right;\n",
       "  white-space: pre-wrap;\n",
       "}\n",
       "</style>\n",
       "<small>shape: (1, 6)</small><table border=\"1\" class=\"dataframe\"><thead><tr><th>user_id</th><th>meme_id</th><th>recommended_by</th><th>sent_at</th><th>reaction_id</th><th>reacted_at</th></tr><tr><td>u32</td><td>u32</td><td>u32</td><td>u32</td><td>u32</td><td>u32</td></tr></thead><tbody><tr><td>10423</td><td>10423</td><td>10423</td><td>10423</td><td>9292</td><td>9292</td></tr></tbody></table></div>"
      ],
      "text/plain": [
       "shape: (1, 6)\n",
       "┌─────────┬─────────┬────────────────┬─────────┬─────────────┬────────────┐\n",
       "│ user_id ┆ meme_id ┆ recommended_by ┆ sent_at ┆ reaction_id ┆ reacted_at │\n",
       "│ ---     ┆ ---     ┆ ---            ┆ ---     ┆ ---         ┆ ---        │\n",
       "│ u32     ┆ u32     ┆ u32            ┆ u32     ┆ u32         ┆ u32        │\n",
       "╞═════════╪═════════╪════════════════╪═════════╪═════════════╪════════════╡\n",
       "│ 10423   ┆ 10423   ┆ 10423          ┆ 10423   ┆ 9292        ┆ 9292       │\n",
       "└─────────┴─────────┴────────────────┴─────────┴─────────────┴────────────┘"
      ]
     },
     "execution_count": 9,
     "metadata": {},
     "output_type": "execute_result"
    }
   ],
   "source": [
    "user_meme_df.filter(pl.col('recommended_by') == 'random_best_ab_240422').count()"
   ]
  },
  {
   "cell_type": "code",
   "execution_count": 10,
   "metadata": {},
   "outputs": [],
   "source": [
    "def prepare_data_user(user_meme_proc_df, user_id, chunk_size=10):\n",
    "    \"\"\"\n",
    "    Splits reactions on chunks\n",
    "    Fills historical and target memes\n",
    "    The number of output samples is equal to the number of chunks\n",
    "    \"\"\"\n",
    "    res = []\n",
    "    user_meme_slice = user_meme_proc_df.filter(pl.col('user_id') == user_id).sort('sent_at')\n",
    "    \n",
    "    if len(user_meme_slice) == 0:\n",
    "        return res\n",
    "\n",
    "    n_reactions = user_meme_slice.select('reaction_num').max().item()\n",
    "\n",
    "    cur_idx = 0\n",
    "\n",
    "    while cur_idx < n_reactions:\n",
    "\n",
    "        filt_hist = pl.col('reaction_num') <= cur_idx\n",
    "        filt_target = pl.col('reaction_num') > cur_idx\n",
    "\n",
    "        d = {\n",
    "            'user_id': user_id,\n",
    "            'hist_size': len(user_meme_slice.filter(filt_hist)),\n",
    "            'dtm': user_meme_slice.filter(filt_target).select('sent_at').min().item(),\n",
    "            'date_dtm': user_meme_slice.filter(filt_target).select(pl.col('sent_at').dt.truncate('1d')).min().item(),\n",
    "            'hist_memes': user_meme_slice.filter(filt_hist).get_column('meme_id').to_list(),\n",
    "            'hist_reactions': user_meme_slice.filter(filt_hist).get_column('reaction_id').to_list(),\n",
    "            'target_memes': user_meme_slice.filter(filt_target).get_column('meme_id').to_list(),\n",
    "            'target_reactions': user_meme_slice.filter(filt_target).get_column('reaction_id').to_list(),\n",
    "            'target_recommended_by': user_meme_slice.filter(filt_target).get_column('recommended_by').to_list(),\n",
    "        }\n",
    "        res.append(d)\n",
    "        cur_idx += chunk_size\n",
    "\n",
    "    return res"
   ]
  },
  {
   "cell_type": "code",
   "execution_count": 11,
   "metadata": {},
   "outputs": [
    {
     "data": {
      "text/plain": [
       "[{'user_id': 1,\n",
       "  'hist_size': 0,\n",
       "  'dtm': datetime.datetime(2024, 1, 1, 1, 0),\n",
       "  'date_dtm': datetime.datetime(2024, 1, 1, 0, 0),\n",
       "  'hist_memes': [],\n",
       "  'hist_reactions': [],\n",
       "  'target_memes': [1, 2, 3, 4, 5],\n",
       "  'target_reactions': [1, 1, 1, 1, 1],\n",
       "  'target_recommended_by': ['best_meme_from_each_source',\n",
       "   'best_meme_from_each_source',\n",
       "   'best_meme_from_each_source',\n",
       "   'best_meme_from_each_source',\n",
       "   'best_meme_from_each_source']},\n",
       " {'user_id': 1,\n",
       "  'hist_size': 2,\n",
       "  'dtm': datetime.datetime(2024, 1, 3, 1, 0),\n",
       "  'date_dtm': datetime.datetime(2024, 1, 3, 0, 0),\n",
       "  'hist_memes': [1, 2],\n",
       "  'hist_reactions': [1, 1],\n",
       "  'target_memes': [3, 4, 5],\n",
       "  'target_reactions': [1, 1, 1],\n",
       "  'target_recommended_by': ['best_meme_from_each_source',\n",
       "   'best_meme_from_each_source',\n",
       "   'best_meme_from_each_source']},\n",
       " {'user_id': 1,\n",
       "  'hist_size': 4,\n",
       "  'dtm': datetime.datetime(2024, 1, 5, 1, 0),\n",
       "  'date_dtm': datetime.datetime(2024, 1, 5, 0, 0),\n",
       "  'hist_memes': [1, 2, 3, 4],\n",
       "  'hist_reactions': [1, 1, 1, 1],\n",
       "  'target_memes': [5],\n",
       "  'target_reactions': [1],\n",
       "  'target_recommended_by': ['best_meme_from_each_source']}]"
      ]
     },
     "execution_count": 11,
     "metadata": {},
     "output_type": "execute_result"
    }
   ],
   "source": [
    "test_user_meme_df = pl.DataFrame({'user_id': [1] * 5, 'reaction_num': list(range(1, 6)), 'reaction_id': [1] * 5, 'meme_id': list(range(1, 6)), 'sent_at': [datetime(2024, 1, i, 1) for i in range(1, 6)], 'recommended_by': ['best_meme_from_each_source'] * 5})\n",
    "prepare_data_user(test_user_meme_df, 1, chunk_size=2)"
   ]
  },
  {
   "cell_type": "code",
   "execution_count": 12,
   "metadata": {},
   "outputs": [
    {
     "data": {
      "application/vnd.jupyter.widget-view+json": {
       "model_id": "58fb53a438754ae9bb0e547553ba5b1e",
       "version_major": 2,
       "version_minor": 0
      },
      "text/plain": [
       "  0%|          | 0/8293 [00:00<?, ?it/s]"
      ]
     },
     "metadata": {},
     "output_type": "display_data"
    }
   ],
   "source": [
    "res = []\n",
    "chunk_size = 10\n",
    "\n",
    "for user_id in tqdm(user_proc_df.get_column('id').to_list()):\n",
    "    res.extend(prepare_data_user(user_meme_proc_df, user_id, chunk_size=chunk_size))\n",
    "coldstart_dataset_df = pl.DataFrame(res)"
   ]
  },
  {
   "cell_type": "code",
   "execution_count": 13,
   "metadata": {},
   "outputs": [],
   "source": [
    "coldstart_dataset_df.write_parquet('coldstart_dataset.pq')"
   ]
  },
  {
   "cell_type": "markdown",
   "metadata": {},
   "source": [
    "## Meme features v1\n",
    "\n",
    "Trying to reimplement the current production meme_stats table"
   ]
  },
  {
   "cell_type": "code",
   "execution_count": 14,
   "metadata": {},
   "outputs": [],
   "source": [
    "meme_proc_df = (\n",
    "    meme_df\n",
    "    .with_columns(pl.col('created_at').str.to_datetime(dtm_fmt))\n",
    "    .select('id', 'created_at', 'language_code')\n",
    ")"
   ]
  },
  {
   "cell_type": "code",
   "execution_count": 15,
   "metadata": {},
   "outputs": [],
   "source": [
    "user_meme_proc_v2_df = (\n",
    "    user_meme_df\n",
    "    .with_columns(pl.col('sent_at').str.to_datetime(dtm_fmt))\n",
    "    .drop('reacted_at')\n",
    "    .join(user_df.select('id'), left_on='user_id', right_on='id', how='inner')\n",
    ")"
   ]
  },
  {
   "cell_type": "code",
   "execution_count": 16,
   "metadata": {},
   "outputs": [],
   "source": [
    "def get_meme_stats_day(user_meme_proc_df, meme_proc_df, date_dtm):\n",
    "    stats = (\n",
    "        user_meme_proc_df\n",
    "        .filter(pl.col('sent_at') < date_dtm)\n",
    "        .group_by('meme_id').agg(\n",
    "            (pl.col('reaction_id').count() + pl.col('reaction_id').null_count()).alias('n_memes_sent'),\n",
    "            (pl.col('reaction_id') == 1).cast(pl.Int64).sum().alias('n_likes'),\n",
    "            (pl.col('reaction_id') == 2).cast(pl.Int64).sum().alias('n_dislikes'),\n",
    "        )\n",
    "    )\n",
    "    return (\n",
    "        meme_proc_df\n",
    "        .select(pl.col('id').alias('meme_id'), 'language_code', 'created_at')\n",
    "        .filter(pl.col('created_at') < date_dtm)\n",
    "        .join(stats, on='meme_id', how='left')\n",
    "        .fill_null(0)\n",
    "        .with_columns((pl.lit(date_dtm) - pl.col('created_at')).dt.total_days().alias('age_days'))\n",
    "        .drop('created_at')\n",
    "        .with_columns(pl.lit(date_dtm).dt.truncate('1d').alias('date_dtm'))\n",
    "    )"
   ]
  },
  {
   "cell_type": "code",
   "execution_count": 17,
   "metadata": {},
   "outputs": [
    {
     "data": {
      "text/html": [
       "<div><style>\n",
       ".dataframe > thead > tr,\n",
       ".dataframe > tbody > tr {\n",
       "  text-align: right;\n",
       "  white-space: pre-wrap;\n",
       "}\n",
       "</style>\n",
       "<small>shape: (38_473, 7)</small><table border=\"1\" class=\"dataframe\"><thead><tr><th>meme_id</th><th>language_code</th><th>n_memes_sent</th><th>n_likes</th><th>n_dislikes</th><th>age_days</th><th>date_dtm</th></tr><tr><td>str</td><td>str</td><td>u32</td><td>i64</td><td>i64</td><td>i64</td><td>datetime[μs]</td></tr></thead><tbody><tr><td>&quot;1,694,876&quot;</td><td>&quot;fr&quot;</td><td>0</td><td>0</td><td>0</td><td>22</td><td>2024-04-01 00:00:00</td></tr><tr><td>&quot;5,028&quot;</td><td>&quot;en&quot;</td><td>0</td><td>0</td><td>0</td><td>42</td><td>2024-04-01 00:00:00</td></tr><tr><td>&quot;12,486&quot;</td><td>&quot;ru&quot;</td><td>0</td><td>0</td><td>0</td><td>42</td><td>2024-04-01 00:00:00</td></tr><tr><td>&quot;3,770,729&quot;</td><td>&quot;ru&quot;</td><td>0</td><td>0</td><td>0</td><td>2</td><td>2024-04-01 00:00:00</td></tr><tr><td>&quot;3,323,726&quot;</td><td>&quot;ru&quot;</td><td>0</td><td>0</td><td>0</td><td>6</td><td>2024-04-01 00:00:00</td></tr><tr><td>&hellip;</td><td>&hellip;</td><td>&hellip;</td><td>&hellip;</td><td>&hellip;</td><td>&hellip;</td><td>&hellip;</td></tr><tr><td>&quot;12,504&quot;</td><td>&quot;ru&quot;</td><td>0</td><td>0</td><td>0</td><td>42</td><td>2024-04-01 00:00:00</td></tr><tr><td>&quot;3,946,802&quot;</td><td>&quot;ru&quot;</td><td>0</td><td>0</td><td>0</td><td>0</td><td>2024-04-01 00:00:00</td></tr><tr><td>&quot;7,096&quot;</td><td>&quot;ru&quot;</td><td>0</td><td>0</td><td>0</td><td>42</td><td>2024-04-01 00:00:00</td></tr><tr><td>&quot;2,377,569&quot;</td><td>&quot;ru&quot;</td><td>0</td><td>0</td><td>0</td><td>15</td><td>2024-04-01 00:00:00</td></tr><tr><td>&quot;2,952,002&quot;</td><td>&quot;ru&quot;</td><td>0</td><td>0</td><td>0</td><td>9</td><td>2024-04-01 00:00:00</td></tr></tbody></table></div>"
      ],
      "text/plain": [
       "shape: (38_473, 7)\n",
       "┌───────────┬───────────────┬──────────────┬─────────┬────────────┬──────────┬─────────────────────┐\n",
       "│ meme_id   ┆ language_code ┆ n_memes_sent ┆ n_likes ┆ n_dislikes ┆ age_days ┆ date_dtm            │\n",
       "│ ---       ┆ ---           ┆ ---          ┆ ---     ┆ ---        ┆ ---      ┆ ---                 │\n",
       "│ str       ┆ str           ┆ u32          ┆ i64     ┆ i64        ┆ i64      ┆ datetime[μs]        │\n",
       "╞═══════════╪═══════════════╪══════════════╪═════════╪════════════╪══════════╪═════════════════════╡\n",
       "│ 1,694,876 ┆ fr            ┆ 0            ┆ 0       ┆ 0          ┆ 22       ┆ 2024-04-01 00:00:00 │\n",
       "│ 5,028     ┆ en            ┆ 0            ┆ 0       ┆ 0          ┆ 42       ┆ 2024-04-01 00:00:00 │\n",
       "│ 12,486    ┆ ru            ┆ 0            ┆ 0       ┆ 0          ┆ 42       ┆ 2024-04-01 00:00:00 │\n",
       "│ 3,770,729 ┆ ru            ┆ 0            ┆ 0       ┆ 0          ┆ 2        ┆ 2024-04-01 00:00:00 │\n",
       "│ 3,323,726 ┆ ru            ┆ 0            ┆ 0       ┆ 0          ┆ 6        ┆ 2024-04-01 00:00:00 │\n",
       "│ …         ┆ …             ┆ …            ┆ …       ┆ …          ┆ …        ┆ …                   │\n",
       "│ 12,504    ┆ ru            ┆ 0            ┆ 0       ┆ 0          ┆ 42       ┆ 2024-04-01 00:00:00 │\n",
       "│ 3,946,802 ┆ ru            ┆ 0            ┆ 0       ┆ 0          ┆ 0        ┆ 2024-04-01 00:00:00 │\n",
       "│ 7,096     ┆ ru            ┆ 0            ┆ 0       ┆ 0          ┆ 42       ┆ 2024-04-01 00:00:00 │\n",
       "│ 2,377,569 ┆ ru            ┆ 0            ┆ 0       ┆ 0          ┆ 15       ┆ 2024-04-01 00:00:00 │\n",
       "│ 2,952,002 ┆ ru            ┆ 0            ┆ 0       ┆ 0          ┆ 9        ┆ 2024-04-01 00:00:00 │\n",
       "└───────────┴───────────────┴──────────────┴─────────┴────────────┴──────────┴─────────────────────┘"
      ]
     },
     "execution_count": 17,
     "metadata": {},
     "output_type": "execute_result"
    }
   ],
   "source": [
    "# Testing\n",
    "get_meme_stats_day(user_meme_proc_v2_df, meme_proc_df, datetime(2024, 4, 1))"
   ]
  },
  {
   "cell_type": "code",
   "execution_count": 18,
   "metadata": {},
   "outputs": [],
   "source": [
    "# Not very reliable though no constants\n",
    "# Drop the first day\n",
    "dates_dtm = user_meme_proc_v2_df.select(pl.col('sent_at').dt.truncate('1d')).unique().sort('sent_at').get_column('sent_at').to_list()"
   ]
  },
  {
   "cell_type": "code",
   "execution_count": 19,
   "metadata": {},
   "outputs": [],
   "source": [
    "res = []\n",
    "for date_dtm in dates_dtm:\n",
    "    res.append(get_meme_stats_day(user_meme_proc_v2_df, meme_proc_df, date_dtm))\n",
    "\n",
    "meme_features_daily_df = (\n",
    "    pl.concat(res)\n",
    "    .join(meme_df.select('id', 'meme_source_id'), left_on='meme_id', right_on='id')\n",
    ")"
   ]
  },
  {
   "cell_type": "code",
   "execution_count": 20,
   "metadata": {},
   "outputs": [],
   "source": [
    "meme_features_daily_df.write_parquet('meme_features_daily.pq')"
   ]
  },
  {
   "cell_type": "markdown",
   "metadata": {},
   "source": [
    "## User features\n",
    "\n",
    "Trying to reimplement the current production user_stats table"
   ]
  },
  {
   "cell_type": "code",
   "execution_count": 21,
   "metadata": {},
   "outputs": [],
   "source": [
    "user_created_df = (\n",
    "    user_df\n",
    "    .with_columns(pl.col('created_at').str.to_datetime(dtm_fmt))\n",
    "    .select('id', 'created_at')\n",
    ")"
   ]
  },
  {
   "cell_type": "code",
   "execution_count": 22,
   "metadata": {},
   "outputs": [],
   "source": [
    "def get_user_stats_day(user_meme_proc_df, date_dtm):\n",
    "    return (\n",
    "        user_meme_proc_df\n",
    "        .filter(pl.col('sent_at') < date_dtm)\n",
    "        .group_by('user_id').agg(\n",
    "            (pl.col('reaction_id').count() + pl.col('reaction_id').null_count()).alias('n_memes_sent'),\n",
    "            (pl.col('reaction_id') == 1).cast(pl.Int64).sum().alias('n_likes'),\n",
    "            (pl.col('reaction_id') == 2).cast(pl.Int64).sum().alias('n_dislikes'),\n",
    "        )\n",
    "        .join(user_created_df, left_on='user_id', right_on='id')\n",
    "        .with_columns((pl.lit(date_dtm) - pl.col('created_at')).dt.total_days().alias('user_age_days'))\n",
    "        .drop('created_at')\n",
    "        .with_columns(pl.lit(date_dtm).dt.truncate('1d').alias('date_dtm'))\n",
    "    )\n"
   ]
  },
  {
   "cell_type": "code",
   "execution_count": 23,
   "metadata": {},
   "outputs": [
    {
     "data": {
      "text/html": [
       "<div><style>\n",
       ".dataframe > thead > tr,\n",
       ".dataframe > tbody > tr {\n",
       "  text-align: right;\n",
       "  white-space: pre-wrap;\n",
       "}\n",
       "</style>\n",
       "<small>shape: (0, 6)</small><table border=\"1\" class=\"dataframe\"><thead><tr><th>user_id</th><th>n_memes_sent</th><th>n_likes</th><th>n_dislikes</th><th>user_age_days</th><th>date_dtm</th></tr><tr><td>str</td><td>u32</td><td>i64</td><td>i64</td><td>i64</td><td>datetime[μs]</td></tr></thead><tbody></tbody></table></div>"
      ],
      "text/plain": [
       "shape: (0, 6)\n",
       "┌─────────┬──────────────┬─────────┬────────────┬───────────────┬──────────────┐\n",
       "│ user_id ┆ n_memes_sent ┆ n_likes ┆ n_dislikes ┆ user_age_days ┆ date_dtm     │\n",
       "│ ---     ┆ ---          ┆ ---     ┆ ---        ┆ ---           ┆ ---          │\n",
       "│ str     ┆ u32          ┆ i64     ┆ i64        ┆ i64           ┆ datetime[μs] │\n",
       "╞═════════╪══════════════╪═════════╪════════════╪═══════════════╪══════════════╡\n",
       "└─────────┴──────────────┴─────────┴────────────┴───────────────┴──────────────┘"
      ]
     },
     "execution_count": 23,
     "metadata": {},
     "output_type": "execute_result"
    }
   ],
   "source": [
    "# Testing\n",
    "get_user_stats_day(user_meme_proc_v2_df, datetime(2024, 4, 1))"
   ]
  },
  {
   "cell_type": "code",
   "execution_count": 24,
   "metadata": {},
   "outputs": [],
   "source": [
    "res = []\n",
    "for date_dtm in dates_dtm:\n",
    "    res.append(get_user_stats_day(user_meme_proc_v2_df, date_dtm))\n",
    "\n",
    "user_features_daily_df = (\n",
    "    pl.concat(res)\n",
    ")"
   ]
  },
  {
   "cell_type": "code",
   "execution_count": 25,
   "metadata": {},
   "outputs": [],
   "source": [
    "user_features_daily_df.write_parquet('user_features_daily.pq')"
   ]
  },
  {
   "cell_type": "markdown",
   "metadata": {},
   "source": [
    "## Meme features V2 - more strict filtration\n",
    "\n",
    "Ignore old users (more than 200 reactions) in meme stats\n",
    "\n",
    "The idea is that users with many responces have too high like rate with sometimes strange taste of good memes."
   ]
  },
  {
   "cell_type": "code",
   "execution_count": 26,
   "metadata": {},
   "outputs": [
    {
     "data": {
      "text/html": [
       "<div><style>\n",
       ".dataframe > thead > tr,\n",
       ".dataframe > tbody > tr {\n",
       "  text-align: right;\n",
       "  white-space: pre-wrap;\n",
       "}\n",
       "</style>\n",
       "<small>shape: (2, 6)</small><table border=\"1\" class=\"dataframe\"><thead><tr><th>user_id</th><th>n_memes_sent</th><th>n_likes</th><th>n_dislikes</th><th>user_age_days</th><th>date_dtm</th></tr><tr><td>str</td><td>u32</td><td>i64</td><td>i64</td><td>i64</td><td>datetime[μs]</td></tr></thead><tbody><tr><td>&quot;1,443,261,702&quot;</td><td>17</td><td>6</td><td>10</td><td>43</td><td>2024-04-02 00:00:00</td></tr><tr><td>&quot;486,191,407&quot;</td><td>18</td><td>5</td><td>12</td><td>0</td><td>2024-04-02 00:00:00</td></tr></tbody></table></div>"
      ],
      "text/plain": [
       "shape: (2, 6)\n",
       "┌───────────────┬──────────────┬─────────┬────────────┬───────────────┬─────────────────────┐\n",
       "│ user_id       ┆ n_memes_sent ┆ n_likes ┆ n_dislikes ┆ user_age_days ┆ date_dtm            │\n",
       "│ ---           ┆ ---          ┆ ---     ┆ ---        ┆ ---           ┆ ---                 │\n",
       "│ str           ┆ u32          ┆ i64     ┆ i64        ┆ i64           ┆ datetime[μs]        │\n",
       "╞═══════════════╪══════════════╪═════════╪════════════╪═══════════════╪═════════════════════╡\n",
       "│ 1,443,261,702 ┆ 17           ┆ 6       ┆ 10         ┆ 43            ┆ 2024-04-02 00:00:00 │\n",
       "│ 486,191,407   ┆ 18           ┆ 5       ┆ 12         ┆ 0             ┆ 2024-04-02 00:00:00 │\n",
       "└───────────────┴──────────────┴─────────┴────────────┴───────────────┴─────────────────────┘"
      ]
     },
     "execution_count": 26,
     "metadata": {},
     "output_type": "execute_result"
    }
   ],
   "source": [
    "user_features_daily_df.head(2)"
   ]
  },
  {
   "cell_type": "code",
   "execution_count": 27,
   "metadata": {},
   "outputs": [],
   "source": [
    "def get_meme_stats_day_v2(user_meme_proc_df, meme_proc_df, user_features_daily_df, date_dtm):\n",
    "    fresh_users = (\n",
    "        user_features_daily_df\n",
    "        .filter(pl.col('n_memes_sent') < 200)\n",
    "        .select('user_id', 'date_dtm')\n",
    "    )\n",
    "\n",
    "    stats = (\n",
    "        user_meme_proc_df\n",
    "        .filter(pl.col('sent_at') < date_dtm)\n",
    "        .with_columns(pl.col('sent_at').dt.truncate('1d').alias('date_dtm'))\n",
    "        .join(fresh_users, on=['user_id', 'date_dtm'], how='inner')\n",
    "        .drop('date_dtm')\n",
    "        .group_by('meme_id').agg(\n",
    "            (pl.col('reaction_id').count() + pl.col('reaction_id').null_count()).alias('n_memes_sent'),\n",
    "            (pl.col('reaction_id') == 1).cast(pl.Int64).sum().alias('n_likes'),\n",
    "            (pl.col('reaction_id') == 2).cast(pl.Int64).sum().alias('n_dislikes'),\n",
    "        )\n",
    "    )\n",
    "    return (\n",
    "        meme_proc_df\n",
    "        .select(pl.col('id').alias('meme_id'), 'language_code', 'created_at')\n",
    "        .filter(pl.col('created_at') < date_dtm)\n",
    "        .join(stats, on='meme_id', how='left')\n",
    "        .fill_null(0)\n",
    "        .with_columns((pl.lit(date_dtm) - pl.col('created_at')).dt.total_days().alias('age_days'))\n",
    "        .drop('created_at')\n",
    "        .with_columns(pl.lit(date_dtm).dt.truncate('1d').alias('date_dtm'))\n",
    "    )"
   ]
  },
  {
   "cell_type": "code",
   "execution_count": 28,
   "metadata": {},
   "outputs": [
    {
     "data": {
      "text/html": [
       "<div><style>\n",
       ".dataframe > thead > tr,\n",
       ".dataframe > tbody > tr {\n",
       "  text-align: right;\n",
       "  white-space: pre-wrap;\n",
       "}\n",
       "</style>\n",
       "<small>shape: (38_473, 7)</small><table border=\"1\" class=\"dataframe\"><thead><tr><th>meme_id</th><th>language_code</th><th>n_memes_sent</th><th>n_likes</th><th>n_dislikes</th><th>age_days</th><th>date_dtm</th></tr><tr><td>str</td><td>str</td><td>u32</td><td>i64</td><td>i64</td><td>i64</td><td>datetime[μs]</td></tr></thead><tbody><tr><td>&quot;1,694,876&quot;</td><td>&quot;fr&quot;</td><td>0</td><td>0</td><td>0</td><td>22</td><td>2024-04-01 00:00:00</td></tr><tr><td>&quot;5,028&quot;</td><td>&quot;en&quot;</td><td>0</td><td>0</td><td>0</td><td>42</td><td>2024-04-01 00:00:00</td></tr><tr><td>&quot;12,486&quot;</td><td>&quot;ru&quot;</td><td>0</td><td>0</td><td>0</td><td>42</td><td>2024-04-01 00:00:00</td></tr><tr><td>&quot;3,770,729&quot;</td><td>&quot;ru&quot;</td><td>0</td><td>0</td><td>0</td><td>2</td><td>2024-04-01 00:00:00</td></tr><tr><td>&quot;3,323,726&quot;</td><td>&quot;ru&quot;</td><td>0</td><td>0</td><td>0</td><td>6</td><td>2024-04-01 00:00:00</td></tr><tr><td>&hellip;</td><td>&hellip;</td><td>&hellip;</td><td>&hellip;</td><td>&hellip;</td><td>&hellip;</td><td>&hellip;</td></tr><tr><td>&quot;12,504&quot;</td><td>&quot;ru&quot;</td><td>0</td><td>0</td><td>0</td><td>42</td><td>2024-04-01 00:00:00</td></tr><tr><td>&quot;3,946,802&quot;</td><td>&quot;ru&quot;</td><td>0</td><td>0</td><td>0</td><td>0</td><td>2024-04-01 00:00:00</td></tr><tr><td>&quot;7,096&quot;</td><td>&quot;ru&quot;</td><td>0</td><td>0</td><td>0</td><td>42</td><td>2024-04-01 00:00:00</td></tr><tr><td>&quot;2,377,569&quot;</td><td>&quot;ru&quot;</td><td>0</td><td>0</td><td>0</td><td>15</td><td>2024-04-01 00:00:00</td></tr><tr><td>&quot;2,952,002&quot;</td><td>&quot;ru&quot;</td><td>0</td><td>0</td><td>0</td><td>9</td><td>2024-04-01 00:00:00</td></tr></tbody></table></div>"
      ],
      "text/plain": [
       "shape: (38_473, 7)\n",
       "┌───────────┬───────────────┬──────────────┬─────────┬────────────┬──────────┬─────────────────────┐\n",
       "│ meme_id   ┆ language_code ┆ n_memes_sent ┆ n_likes ┆ n_dislikes ┆ age_days ┆ date_dtm            │\n",
       "│ ---       ┆ ---           ┆ ---          ┆ ---     ┆ ---        ┆ ---      ┆ ---                 │\n",
       "│ str       ┆ str           ┆ u32          ┆ i64     ┆ i64        ┆ i64      ┆ datetime[μs]        │\n",
       "╞═══════════╪═══════════════╪══════════════╪═════════╪════════════╪══════════╪═════════════════════╡\n",
       "│ 1,694,876 ┆ fr            ┆ 0            ┆ 0       ┆ 0          ┆ 22       ┆ 2024-04-01 00:00:00 │\n",
       "│ 5,028     ┆ en            ┆ 0            ┆ 0       ┆ 0          ┆ 42       ┆ 2024-04-01 00:00:00 │\n",
       "│ 12,486    ┆ ru            ┆ 0            ┆ 0       ┆ 0          ┆ 42       ┆ 2024-04-01 00:00:00 │\n",
       "│ 3,770,729 ┆ ru            ┆ 0            ┆ 0       ┆ 0          ┆ 2        ┆ 2024-04-01 00:00:00 │\n",
       "│ 3,323,726 ┆ ru            ┆ 0            ┆ 0       ┆ 0          ┆ 6        ┆ 2024-04-01 00:00:00 │\n",
       "│ …         ┆ …             ┆ …            ┆ …       ┆ …          ┆ …        ┆ …                   │\n",
       "│ 12,504    ┆ ru            ┆ 0            ┆ 0       ┆ 0          ┆ 42       ┆ 2024-04-01 00:00:00 │\n",
       "│ 3,946,802 ┆ ru            ┆ 0            ┆ 0       ┆ 0          ┆ 0        ┆ 2024-04-01 00:00:00 │\n",
       "│ 7,096     ┆ ru            ┆ 0            ┆ 0       ┆ 0          ┆ 42       ┆ 2024-04-01 00:00:00 │\n",
       "│ 2,377,569 ┆ ru            ┆ 0            ┆ 0       ┆ 0          ┆ 15       ┆ 2024-04-01 00:00:00 │\n",
       "│ 2,952,002 ┆ ru            ┆ 0            ┆ 0       ┆ 0          ┆ 9        ┆ 2024-04-01 00:00:00 │\n",
       "└───────────┴───────────────┴──────────────┴─────────┴────────────┴──────────┴─────────────────────┘"
      ]
     },
     "execution_count": 28,
     "metadata": {},
     "output_type": "execute_result"
    }
   ],
   "source": [
    "# Testing\n",
    "get_meme_stats_day_v2(user_meme_proc_v2_df, meme_proc_df, user_features_daily_df, datetime(2024, 4, 1))"
   ]
  },
  {
   "cell_type": "code",
   "execution_count": 29,
   "metadata": {},
   "outputs": [],
   "source": [
    "# Not very reliable though no constants\n",
    "# Drop the first day\n",
    "dates_dtm = user_meme_proc_v2_df.select(pl.col('sent_at').dt.truncate('1d')).unique().sort('sent_at').get_column('sent_at').to_list()"
   ]
  },
  {
   "cell_type": "code",
   "execution_count": 30,
   "metadata": {},
   "outputs": [],
   "source": [
    "res = []\n",
    "for date_dtm in dates_dtm:\n",
    "    res.append(get_meme_stats_day_v2(user_meme_proc_v2_df, meme_proc_df, user_features_daily_df, date_dtm))\n",
    "\n",
    "meme_features_daily_v2_df = (\n",
    "    pl.concat(res)\n",
    "    .join(meme_df.select('id', 'meme_source_id'), left_on='meme_id', right_on='id')\n",
    ")"
   ]
  },
  {
   "cell_type": "code",
   "execution_count": 31,
   "metadata": {},
   "outputs": [],
   "source": [
    "meme_features_daily_v2_df.write_parquet('meme_features_daily_v2.pq')"
   ]
  }
 ],
 "metadata": {
  "kernelspec": {
   "display_name": "general_311",
   "language": "python",
   "name": "python3"
  },
  "language_info": {
   "codemirror_mode": {
    "name": "ipython",
    "version": 3
   },
   "file_extension": ".py",
   "mimetype": "text/x-python",
   "name": "python",
   "nbconvert_exporter": "python",
   "pygments_lexer": "ipython3",
   "version": "3.11.9"
  }
 },
 "nbformat": 4,
 "nbformat_minor": 2
}
