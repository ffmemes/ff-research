{
 "cells": [
  {
   "cell_type": "markdown",
   "metadata": {},
   "source": [
    "# Cold Start - AB 240513 Analysis\n",
    "\n",
    "Only session length metric"
   ]
  },
  {
   "cell_type": "code",
   "execution_count": 1,
   "metadata": {},
   "outputs": [],
   "source": [
    "from datetime import datetime\n",
    "\n",
    "import numpy as np\n",
    "import polars as pl"
   ]
  },
  {
   "cell_type": "code",
   "execution_count": 2,
   "metadata": {},
   "outputs": [],
   "source": [
    "user_df = pl.read_parquet('user.pq')\n",
    "user_language_df = pl.read_parquet('user_language.pq')"
   ]
  },
  {
   "cell_type": "code",
   "execution_count": 3,
   "metadata": {},
   "outputs": [],
   "source": [
    "users_ru_en = user_language_df.filter(pl.col('language_code').is_in(['ru', 'en'])).select(pl.col('user_id').unique())"
   ]
  },
  {
   "cell_type": "code",
   "execution_count": 4,
   "metadata": {},
   "outputs": [],
   "source": [
    "users = (\n",
    "    user_df\n",
    "    .filter(pl.col('created_at') >= datetime(2024, 5, 15))\n",
    "    .with_columns(is_test=pl.when(pl.col('id') % 100 < 50)\n",
    "                  .then(pl.lit('test')).otherwise(pl.lit('control')))\n",
    "    .join(users_ru_en, left_on='id', right_on='user_id', how='inner')\n",
    "    .select(pl.col('id').alias('user_id'), 'is_test')\n",
    ")"
   ]
  },
  {
   "cell_type": "code",
   "execution_count": 5,
   "metadata": {},
   "outputs": [],
   "source": [
    "user_meme_df = (\n",
    "    pl.read_parquet('user_meme_reaction.pq')\n",
    "    .with_columns(pl.col('reaction_id').fill_null(2))\n",
    "    .sort('user_id', 'sent_at')\n",
    "    .with_columns(reaction_num=pl.first().cum_count().over('user_id'))\n",
    "    .filter(pl.col('reaction_num') <= 30)\n",
    ")"
   ]
  },
  {
   "cell_type": "code",
   "execution_count": 6,
   "metadata": {},
   "outputs": [
    {
     "data": {
      "text/html": [
       "<div><style>\n",
       ".dataframe > thead > tr,\n",
       ".dataframe > tbody > tr {\n",
       "  text-align: right;\n",
       "  white-space: pre-wrap;\n",
       "}\n",
       "</style>\n",
       "<small>shape: (2, 2)</small><table border=\"1\" class=\"dataframe\"><thead><tr><th>is_test</th><th>len</th></tr><tr><td>str</td><td>u32</td></tr></thead><tbody><tr><td>&quot;test&quot;</td><td>329</td></tr><tr><td>&quot;control&quot;</td><td>393</td></tr></tbody></table></div>"
      ],
      "text/plain": [
       "shape: (2, 2)\n",
       "┌─────────┬─────┐\n",
       "│ is_test ┆ len │\n",
       "│ ---     ┆ --- │\n",
       "│ str     ┆ u32 │\n",
       "╞═════════╪═════╡\n",
       "│ test    ┆ 329 │\n",
       "│ control ┆ 393 │\n",
       "└─────────┴─────┘"
      ]
     },
     "execution_count": 6,
     "metadata": {},
     "output_type": "execute_result"
    }
   ],
   "source": [
    "users.group_by('is_test').len()"
   ]
  },
  {
   "cell_type": "code",
   "execution_count": 7,
   "metadata": {},
   "outputs": [],
   "source": [
    "session_lens = (\n",
    "    user_meme_df\n",
    "    .group_by('user_id')\n",
    "    .agg(pl.max('reaction_num'))\n",
    ")"
   ]
  },
  {
   "cell_type": "code",
   "execution_count": 8,
   "metadata": {},
   "outputs": [],
   "source": [
    "users_by_gr = {}\n",
    "users_by_gr['test'] = users.filter(pl.col('is_test') == 'test').select('user_id')\n",
    "users_by_gr['control'] = users.filter(pl.col('is_test') == 'control').select('user_id')"
   ]
  },
  {
   "cell_type": "code",
   "execution_count": 9,
   "metadata": {},
   "outputs": [],
   "source": [
    "session_lens_by_gr = {'test': [], 'control': []}\n",
    "session_len_uplifts = []\n",
    "\n",
    "for i in range(1000):\n",
    "    for gr in ['test', 'control']:\n",
    "        cur_users = users_by_gr[gr].sample(len(users_by_gr[gr]), with_replacement=True, shuffle=True, seed=i+42)\n",
    "        session_lens_by_gr[gr].append(session_lens.join(cur_users, on='user_id').select(pl.mean('reaction_num')).item(0, 0))\n",
    "    session_len_uplifts.append(session_lens_by_gr['test'][i] / session_lens_by_gr['control'][i])"
   ]
  },
  {
   "cell_type": "code",
   "execution_count": 10,
   "metadata": {},
   "outputs": [
    {
     "name": "stdout",
     "output_type": "stream",
     "text": [
      "Session length. Test mean = 11.19. Control mean = 9.12. Uplift = 1.24 +- 0.31\n"
     ]
    }
   ],
   "source": [
    "test_mean = np.array(session_lens_by_gr['test']).mean()\n",
    "control_mean = np.array(session_lens_by_gr['control']).mean()\n",
    "uplift_mean = np.array(session_len_uplifts).mean()\n",
    "uplift_std = np.array(session_len_uplifts).std()\n",
    "print(f'Session length. Test mean = {test_mean:.2f}. Control mean = {control_mean:.2f}. Uplift = {uplift_mean:.2f} +- {1.96 * uplift_std:.2f}')"
   ]
  }
 ],
 "metadata": {
  "kernelspec": {
   "display_name": "general_311",
   "language": "python",
   "name": "python3"
  },
  "language_info": {
   "codemirror_mode": {
    "name": "ipython",
    "version": 3
   },
   "file_extension": ".py",
   "mimetype": "text/x-python",
   "name": "python",
   "nbconvert_exporter": "python",
   "pygments_lexer": "ipython3",
   "version": "3.11.9"
  }
 },
 "nbformat": 4,
 "nbformat_minor": 2
}
