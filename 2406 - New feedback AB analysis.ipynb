{
 "cells": [
  {
   "cell_type": "markdown",
   "metadata": {},
   "source": [
    "# 2406 New feedback AB analysis\n",
    "\n",
    "Changing user feedback from \"like-dislike\" to \"like-next\""
   ]
  },
  {
   "cell_type": "code",
   "execution_count": 47,
   "metadata": {},
   "outputs": [],
   "source": [
    "from datetime import datetime\n",
    "import os\n",
    "\n",
    "import pandas as pd\n",
    "import polars as pl\n",
    "import numpy as np\n",
    "import psycopg2\n",
    "from dotenv import load_dotenv"
   ]
  },
  {
   "cell_type": "code",
   "execution_count": 4,
   "metadata": {},
   "outputs": [],
   "source": [
    "load_dotenv()\n",
    "DATABASE_URL = os.environ['DATABASE_URL']\n",
    "conn = psycopg2.connect(DATABASE_URL)"
   ]
  },
  {
   "cell_type": "code",
   "execution_count": 5,
   "metadata": {},
   "outputs": [],
   "source": [
    "user_df = pl.read_database('select * from public.user', conn)"
   ]
  },
  {
   "cell_type": "code",
   "execution_count": 6,
   "metadata": {},
   "outputs": [],
   "source": [
    "meme_df = pl.read_database(\"select id, meme_source_id, raw_meme_id, status, type, telegram_file_id, caption, language_code, created_at, updated_at, published_at, ocr_result #>> '{}' ocr_result from public.meme\", conn)"
   ]
  },
  {
   "cell_type": "code",
   "execution_count": 7,
   "metadata": {},
   "outputs": [],
   "source": [
    "res = []\n",
    "dates = pd.date_range(start='2024-06-06', end='2024-06-09', freq='d').strftime('%Y-%m-%d')\n",
    "for d_from, d_to in zip(dates, dates[1:]):\n",
    "    res.append(pl.read_database(f\"select * from public.user_meme_reaction where sent_at >= '{d_from}'::timestamp and sent_at < '{d_to}'::timestamp\", conn))\n",
    "res = [df for df in res if len(df)]"
   ]
  },
  {
   "cell_type": "code",
   "execution_count": 8,
   "metadata": {},
   "outputs": [],
   "source": [
    "user_meme_df = pl.concat(res)"
   ]
  },
  {
   "cell_type": "code",
   "execution_count": 12,
   "metadata": {},
   "outputs": [],
   "source": [
    "user_meme_df = user_meme_df.filter(pl.col('reacted_at') >= datetime(2024, 6, 6, 21))"
   ]
  },
  {
   "cell_type": "code",
   "execution_count": 22,
   "metadata": {},
   "outputs": [],
   "source": [
    "user_meme_df = user_meme_df.with_columns(pl.when(pl.col('user_id') % 4 == 0).then(pl.lit('test')).otherwise(pl.lit('control')).alias('group'))"
   ]
  },
  {
   "cell_type": "code",
   "execution_count": 38,
   "metadata": {},
   "outputs": [],
   "source": [
    "n_reactions_df = user_meme_df.group_by(['user_id', 'group']).len()"
   ]
  },
  {
   "cell_type": "code",
   "execution_count": 70,
   "metadata": {},
   "outputs": [],
   "source": [
    "users_by_gr = {}\n",
    "for gr in ['test', 'control']:\n",
    "    users_by_gr[gr] = user_meme_df.filter(pl.col('group') == gr).select(pl.col('user_id').unique())"
   ]
  },
  {
   "cell_type": "code",
   "execution_count": 71,
   "metadata": {},
   "outputs": [],
   "source": [
    "n_reactions = {'test': [], 'control': []}\n",
    "for i in range(1000):\n",
    "    for gr in ['test', 'control']:\n",
    "        cur_users = users_by_gr[gr].sample(len(users_by_gr[gr]), with_replacement=True, shuffle=True, seed=i+42)\n",
    "        cnt = n_reactions_df.filter(pl.col('group') == gr).join(cur_users, on='user_id').select(pl.sum('len')).to_numpy()[0, 0]\n",
    "        if gr == 'control':\n",
    "            cnt /= 3\n",
    "        n_reactions[gr].append(cnt)"
   ]
  },
  {
   "cell_type": "code",
   "execution_count": 74,
   "metadata": {},
   "outputs": [
    {
     "name": "stdout",
     "output_type": "stream",
     "text": [
      "test 17823.67 +- 174.76\n",
      "control 17293.70 +- 94.92\n"
     ]
    }
   ],
   "source": [
    "for gr in ['test', 'control']:\n",
    "    mean = np.array(n_reactions[gr]).mean()\n",
    "    std = np.array(n_reactions[gr]).std() / np.sqrt(len(n_reactions[gr]))\n",
    "    print(f'{gr} {mean:.2f} +- {1.98 * std:.2f}')"
   ]
  }
 ],
 "metadata": {
  "kernelspec": {
   "display_name": "general_311",
   "language": "python",
   "name": "python3"
  },
  "language_info": {
   "codemirror_mode": {
    "name": "ipython",
    "version": 3
   },
   "file_extension": ".py",
   "mimetype": "text/x-python",
   "name": "python",
   "nbconvert_exporter": "python",
   "pygments_lexer": "ipython3",
   "version": "3.11.9"
  }
 },
 "nbformat": 4,
 "nbformat_minor": 2
}
