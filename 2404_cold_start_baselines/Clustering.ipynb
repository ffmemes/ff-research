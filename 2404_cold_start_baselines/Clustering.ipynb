{
 "cells": [
  {
   "cell_type": "markdown",
   "metadata": {},
   "source": [
    "# Using ALS + KMeans to get meme clusters"
   ]
  },
  {
   "cell_type": "code",
   "execution_count": 1,
   "metadata": {},
   "outputs": [],
   "source": [
    "from datetime import datetime\n",
    "\n",
    "import polars as pl\n",
    "from implicit.als import AlternatingLeastSquares\n",
    "from scipy import sparse\n",
    "from sklearn.cluster import KMeans\n",
    "from sklearn.preprocessing import LabelEncoder"
   ]
  },
  {
   "cell_type": "code",
   "execution_count": 2,
   "metadata": {},
   "outputs": [],
   "source": [
    "dtm_fmt = \"%B %-d, %Y, %I:%M %p\""
   ]
  },
  {
   "cell_type": "code",
   "execution_count": 65,
   "metadata": {},
   "outputs": [],
   "source": [
    "fresh_users = (\n",
    "    pl.read_parquet('user_features_daily.pq')\n",
    "    .filter(pl.col('date_dtm') == datetime(2024, 3, 31))\n",
    "    .filter(pl.col('n_memes_sent') < 1000)\n",
    ")"
   ]
  },
  {
   "cell_type": "code",
   "execution_count": 66,
   "metadata": {},
   "outputs": [],
   "source": [
    "user_meme_df = (\n",
    "    pl.read_csv('user_meme_reaction_240301_240413.csv')\n",
    "    .with_columns(pl.col('sent_at').str.to_datetime(dtm_fmt))\n",
    "    .with_columns(pl.col('reaction_id').fill_null(2))\n",
    "    .with_columns(pl.col('reaction_id').map_elements(lambda x: 1 if x == 1 else -1, pl.Int64))\n",
    "    .filter(pl.col('sent_at') < datetime(2024, 4, 1))\n",
    "    .join(fresh_users.select('user_id'), on='user_id', how='inner')\n",
    ")"
   ]
  },
  {
   "cell_type": "code",
   "execution_count": 67,
   "metadata": {},
   "outputs": [
    {
     "data": {
      "text/plain": [
       "(165060, 6)"
      ]
     },
     "execution_count": 67,
     "metadata": {},
     "output_type": "execute_result"
    }
   ],
   "source": [
    "user_meme_df.shape"
   ]
  },
  {
   "cell_type": "code",
   "execution_count": 68,
   "metadata": {},
   "outputs": [],
   "source": [
    "le_user = LabelEncoder().fit(user_meme_df.select('user_id').unique().get_column('user_id').to_list())\n",
    "le_meme = LabelEncoder().fit(user_meme_df.select('meme_id').unique().get_column('meme_id').to_list())"
   ]
  },
  {
   "cell_type": "code",
   "execution_count": 69,
   "metadata": {},
   "outputs": [],
   "source": [
    "n_users = le_user.classes_.shape[0]\n",
    "n_memes = le_meme.classes_.shape[0]"
   ]
  },
  {
   "cell_type": "code",
   "execution_count": 70,
   "metadata": {},
   "outputs": [],
   "source": [
    "users = le_user.transform(user_meme_df.get_column('user_id'))\n",
    "memes = le_meme.transform(user_meme_df.get_column('meme_id'))\n",
    "reactions = user_meme_df.get_column('reaction_id').to_numpy()"
   ]
  },
  {
   "cell_type": "code",
   "execution_count": 71,
   "metadata": {},
   "outputs": [],
   "source": [
    "user_meme = sparse.coo_array((reactions, (users, memes)), shape=(n_users, n_memes)).tocsr()"
   ]
  },
  {
   "cell_type": "code",
   "execution_count": 87,
   "metadata": {},
   "outputs": [],
   "source": [
    "model = AlternatingLeastSquares(factors=32, regularization=1000, alpha=1, iterations=15, calculate_training_loss=True)"
   ]
  },
  {
   "cell_type": "code",
   "execution_count": 88,
   "metadata": {},
   "outputs": [
    {
     "name": "stderr",
     "output_type": "stream",
     "text": [
      "/Users/adledovskiy/venvs/general_311/lib/python3.11/site-packages/implicit/utils.py:164: ParameterWarning: Method expects CSR input, and was passed csr_array instead. Converting to CSR took 9.5367431640625e-07 seconds\n",
      "  warnings.warn(\n"
     ]
    },
    {
     "data": {
      "application/vnd.jupyter.widget-view+json": {
       "model_id": "f19ed306d38a4fe2a0d6c17863abcc12",
       "version_major": 2,
       "version_minor": 0
      },
      "text/plain": [
       "  0%|          | 0/15 [00:00<?, ?it/s]"
      ]
     },
     "metadata": {},
     "output_type": "display_data"
    }
   ],
   "source": [
    "model.fit(user_meme)"
   ]
  },
  {
   "cell_type": "code",
   "execution_count": 89,
   "metadata": {},
   "outputs": [],
   "source": [
    "item_embeds = model.item_factors"
   ]
  },
  {
   "cell_type": "code",
   "execution_count": 91,
   "metadata": {},
   "outputs": [],
   "source": [
    "cluster = KMeans(n_clusters=10)"
   ]
  },
  {
   "cell_type": "code",
   "execution_count": 92,
   "metadata": {},
   "outputs": [],
   "source": [
    "clusters = cluster.fit_predict(item_embeds)"
   ]
  },
  {
   "cell_type": "code",
   "execution_count": 93,
   "metadata": {},
   "outputs": [
    {
     "data": {
      "text/plain": [
       "polars.config.Config"
      ]
     },
     "execution_count": 93,
     "metadata": {},
     "output_type": "execute_result"
    }
   ],
   "source": [
    "pl.Config().set_tbl_rows(30)"
   ]
  },
  {
   "cell_type": "code",
   "execution_count": 94,
   "metadata": {},
   "outputs": [
    {
     "data": {
      "text/html": [
       "<div><style>\n",
       ".dataframe > thead > tr,\n",
       ".dataframe > tbody > tr {\n",
       "  text-align: right;\n",
       "  white-space: pre-wrap;\n",
       "}\n",
       "</style>\n",
       "<small>shape: (10, 2)</small><table border=\"1\" class=\"dataframe\"><thead><tr><th></th><th>count</th></tr><tr><td>i32</td><td>u32</td></tr></thead><tbody><tr><td>8</td><td>508</td></tr><tr><td>7</td><td>517</td></tr><tr><td>9</td><td>531</td></tr><tr><td>3</td><td>539</td></tr><tr><td>4</td><td>576</td></tr><tr><td>1</td><td>725</td></tr><tr><td>2</td><td>756</td></tr><tr><td>6</td><td>1275</td></tr><tr><td>5</td><td>2458</td></tr><tr><td>0</td><td>10592</td></tr></tbody></table></div>"
      ],
      "text/plain": [
       "shape: (10, 2)\n",
       "┌─────┬───────┐\n",
       "│     ┆ count │\n",
       "│ --- ┆ ---   │\n",
       "│ i32 ┆ u32   │\n",
       "╞═════╪═══════╡\n",
       "│ 8   ┆ 508   │\n",
       "│ 7   ┆ 517   │\n",
       "│ 9   ┆ 531   │\n",
       "│ 3   ┆ 539   │\n",
       "│ 4   ┆ 576   │\n",
       "│ 1   ┆ 725   │\n",
       "│ 2   ┆ 756   │\n",
       "│ 6   ┆ 1275  │\n",
       "│ 5   ┆ 2458  │\n",
       "│ 0   ┆ 10592 │\n",
       "└─────┴───────┘"
      ]
     },
     "execution_count": 94,
     "metadata": {},
     "output_type": "execute_result"
    }
   ],
   "source": [
    "pl.Series(clusters).value_counts().sort('count')"
   ]
  },
  {
   "cell_type": "code",
   "execution_count": 95,
   "metadata": {},
   "outputs": [],
   "source": [
    "res = []\n",
    "for meme_id, cluster_id in zip(le_meme.classes_, clusters):\n",
    "    res.append({'meme_id': meme_id, 'cluster_id': cluster_id})\n",
    "pl.DataFrame(res).write_parquet('meme_clusters.pq')"
   ]
  },
  {
   "cell_type": "code",
   "execution_count": null,
   "metadata": {},
   "outputs": [],
   "source": []
  }
 ],
 "metadata": {
  "kernelspec": {
   "display_name": "general_311",
   "language": "python",
   "name": "python3"
  },
  "language_info": {
   "codemirror_mode": {
    "name": "ipython",
    "version": 3
   },
   "file_extension": ".py",
   "mimetype": "text/x-python",
   "name": "python",
   "nbconvert_exporter": "python",
   "pygments_lexer": "ipython3",
   "version": "3.11.9"
  }
 },
 "nbformat": 4,
 "nbformat_minor": 2
}
