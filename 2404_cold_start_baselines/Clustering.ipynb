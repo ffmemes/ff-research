{
 "cells": [
  {
   "cell_type": "markdown",
   "metadata": {},
   "source": [
    "# Using ALS + KMeans to get meme clusters"
   ]
  },
  {
   "cell_type": "code",
   "execution_count": 4,
   "metadata": {},
   "outputs": [],
   "source": [
    "from datetime import datetime\n",
    "\n",
    "import polars as pl\n",
    "from implicit.als import AlternatingLeastSquares\n",
    "from scipy import sparse\n",
    "from sklearn.cluster import KMeans\n",
    "from sklearn.preprocessing import LabelEncoder"
   ]
  },
  {
   "cell_type": "code",
   "execution_count": 5,
   "metadata": {},
   "outputs": [],
   "source": [
    "dtm_fmt = \"%B %-d, %Y, %I:%M %p\""
   ]
  },
  {
   "cell_type": "code",
   "execution_count": 11,
   "metadata": {},
   "outputs": [],
   "source": [
    "user_meme_df = (\n",
    "    pl.read_csv('user_meme_reaction_240301_240413.csv')\n",
    "    .with_columns(pl.col('sent_at').str.to_datetime(dtm_fmt))\n",
    "    .with_columns(pl.col('reaction_id').fill_null(2))\n",
    "    .with_columns(pl.col('reaction_id').map_elements(lambda x: 1 if x == 1 else -1, pl.Int64))\n",
    "    .filter(pl.col('sent_at') < datetime(2024, 4, 1))\n",
    ")"
   ]
  },
  {
   "cell_type": "code",
   "execution_count": 13,
   "metadata": {},
   "outputs": [],
   "source": [
    "le_user = LabelEncoder().fit(user_meme_df.select('user_id').unique().get_column('user_id').to_list())\n",
    "le_meme = LabelEncoder().fit(user_meme_df.select('meme_id').unique().get_column('meme_id').to_list())"
   ]
  },
  {
   "cell_type": "code",
   "execution_count": 14,
   "metadata": {},
   "outputs": [],
   "source": [
    "n_users = le_user.classes_.shape[0]\n",
    "n_memes = le_meme.classes_.shape[0]"
   ]
  },
  {
   "cell_type": "code",
   "execution_count": 15,
   "metadata": {},
   "outputs": [],
   "source": [
    "users = le_user.transform(user_meme_df.get_column('user_id'))\n",
    "memes = le_meme.transform(user_meme_df.get_column('meme_id'))\n",
    "reactions = user_meme_df.get_column('reaction_id').to_numpy()"
   ]
  },
  {
   "cell_type": "code",
   "execution_count": 16,
   "metadata": {},
   "outputs": [],
   "source": [
    "user_meme = sparse.coo_array((reactions, (users, memes)), shape=(n_users, n_memes)).tocsr()"
   ]
  },
  {
   "cell_type": "code",
   "execution_count": null,
   "metadata": {},
   "outputs": [],
   "source": [
    "model = AlternatingLeastSquares(factors=64)"
   ]
  },
  {
   "cell_type": "code",
   "execution_count": null,
   "metadata": {},
   "outputs": [],
   "source": [
    "model.fit(user_meme)"
   ]
  },
  {
   "cell_type": "code",
   "execution_count": 19,
   "metadata": {},
   "outputs": [],
   "source": [
    "item_embeds = model.item_factors"
   ]
  },
  {
   "cell_type": "code",
   "execution_count": 20,
   "metadata": {},
   "outputs": [],
   "source": [
    "cluster = KMeans(n_clusters=10)"
   ]
  },
  {
   "cell_type": "code",
   "execution_count": 21,
   "metadata": {},
   "outputs": [],
   "source": [
    "clusters = cluster.fit_predict(item_embeds)"
   ]
  },
  {
   "cell_type": "code",
   "execution_count": 22,
   "metadata": {},
   "outputs": [
    {
     "data": {
      "text/html": [
       "<div><style>\n",
       ".dataframe > thead > tr,\n",
       ".dataframe > tbody > tr {\n",
       "  text-align: right;\n",
       "  white-space: pre-wrap;\n",
       "}\n",
       "</style>\n",
       "<small>shape: (10, 2)</small><table border=\"1\" class=\"dataframe\"><thead><tr><th></th><th>count</th></tr><tr><td>i32</td><td>u32</td></tr></thead><tbody><tr><td>0</td><td>2410</td></tr><tr><td>5</td><td>26</td></tr><tr><td>9</td><td>3352</td></tr><tr><td>1</td><td>1145</td></tr><tr><td>3</td><td>3755</td></tr><tr><td>4</td><td>16242</td></tr><tr><td>8</td><td>591</td></tr><tr><td>6</td><td>1561</td></tr><tr><td>7</td><td>315</td></tr><tr><td>2</td><td>364</td></tr></tbody></table></div>"
      ],
      "text/plain": [
       "shape: (10, 2)\n",
       "┌─────┬───────┐\n",
       "│     ┆ count │\n",
       "│ --- ┆ ---   │\n",
       "│ i32 ┆ u32   │\n",
       "╞═════╪═══════╡\n",
       "│ 0   ┆ 2410  │\n",
       "│ 5   ┆ 26    │\n",
       "│ 9   ┆ 3352  │\n",
       "│ 1   ┆ 1145  │\n",
       "│ 3   ┆ 3755  │\n",
       "│ 4   ┆ 16242 │\n",
       "│ 8   ┆ 591   │\n",
       "│ 6   ┆ 1561  │\n",
       "│ 7   ┆ 315   │\n",
       "│ 2   ┆ 364   │\n",
       "└─────┴───────┘"
      ]
     },
     "execution_count": 22,
     "metadata": {},
     "output_type": "execute_result"
    }
   ],
   "source": [
    "pl.Series(clusters).value_counts()"
   ]
  },
  {
   "cell_type": "code",
   "execution_count": 23,
   "metadata": {},
   "outputs": [],
   "source": [
    "res = []\n",
    "for meme_id, cluster_id in zip(le_meme.classes_, clusters):\n",
    "    res.append({'meme_id': meme_id, 'cluster_id': cluster_id})\n",
    "pl.DataFrame(res).write_parquet('meme_clusters.pq')"
   ]
  }
 ],
 "metadata": {
  "kernelspec": {
   "display_name": "general_311",
   "language": "python",
   "name": "python3"
  },
  "language_info": {
   "codemirror_mode": {
    "name": "ipython",
    "version": 3
   },
   "file_extension": ".py",
   "mimetype": "text/x-python",
   "name": "python",
   "nbconvert_exporter": "python",
   "pygments_lexer": "ipython3",
   "version": "3.11.9"
  }
 },
 "nbformat": 4,
 "nbformat_minor": 2
}
