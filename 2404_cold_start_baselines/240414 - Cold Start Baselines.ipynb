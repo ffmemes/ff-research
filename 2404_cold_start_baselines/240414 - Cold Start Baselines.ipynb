{
 "cells": [
  {
   "cell_type": "markdown",
   "metadata": {},
   "source": [
    "# Cold Start Baselines\n",
    "\n",
    "Algorithms\n",
    "\n",
    "1. `best_memes_from_each_source`. Current production (with small diffs)"
   ]
  },
  {
   "cell_type": "code",
   "execution_count": 22,
   "metadata": {},
   "outputs": [],
   "source": [
    "import hashlib\n",
    "from datetime import datetime\n",
    "\n",
    "import numpy as np\n",
    "import polars as pl\n",
    "from sklearn.model_selection import train_test_split"
   ]
  },
  {
   "cell_type": "code",
   "execution_count": 9,
   "metadata": {},
   "outputs": [],
   "source": [
    "coldstart_df = pl.read_parquet('coldstart_dataset.pq')\n",
    "meme_features_daily_df = pl.read_parquet('meme_features_daily.pq')"
   ]
  },
  {
   "cell_type": "code",
   "execution_count": 10,
   "metadata": {},
   "outputs": [
    {
     "data": {
      "text/html": [
       "<div><style>\n",
       ".dataframe > thead > tr,\n",
       ".dataframe > tbody > tr {\n",
       "  text-align: right;\n",
       "  white-space: pre-wrap;\n",
       "}\n",
       "</style>\n",
       "<small>shape: (1, 8)</small><table border=\"1\" class=\"dataframe\"><thead><tr><th>user_id</th><th>hist_size</th><th>dtm</th><th>date_dtm</th><th>hist_memes</th><th>hist_reactions</th><th>target_memes</th><th>target_reactions</th></tr><tr><td>str</td><td>i64</td><td>datetime[μs]</td><td>datetime[μs]</td><td>list[str]</td><td>list[i64]</td><td>list[str]</td><td>list[i64]</td></tr></thead><tbody><tr><td>&quot;486,191,407&quot;</td><td>20</td><td>2024-04-03 19:20:00</td><td>2024-04-03 00:00:00</td><td>[&quot;1,237,876&quot;, &quot;2,829,942&quot;, … &quot;3,755,263&quot;]</td><td>[2, 2, … 1]</td><td>[&quot;1,197,484&quot;, &quot;3,546,640&quot;, … &quot;893&quot;]</td><td>[2, 2, … 2]</td></tr></tbody></table></div>"
      ],
      "text/plain": [
       "shape: (1, 8)\n",
       "┌────────────┬───────────┬────────────┬────────────┬───────────┬───────────┬───────────┬───────────┐\n",
       "│ user_id    ┆ hist_size ┆ dtm        ┆ date_dtm   ┆ hist_meme ┆ hist_reac ┆ target_me ┆ target_re │\n",
       "│ ---        ┆ ---       ┆ ---        ┆ ---        ┆ s         ┆ tions     ┆ mes       ┆ actions   │\n",
       "│ str        ┆ i64       ┆ datetime[μ ┆ datetime[μ ┆ ---       ┆ ---       ┆ ---       ┆ ---       │\n",
       "│            ┆           ┆ s]         ┆ s]         ┆ list[str] ┆ list[i64] ┆ list[str] ┆ list[i64] │\n",
       "╞════════════╪═══════════╪════════════╪════════════╪═══════════╪═══════════╪═══════════╪═══════════╡\n",
       "│ 486,191,40 ┆ 20        ┆ 2024-04-03 ┆ 2024-04-03 ┆ [\"1,237,8 ┆ [2, 2, …  ┆ [\"1,197,4 ┆ [2, 2, …  │\n",
       "│ 7          ┆           ┆ 19:20:00   ┆ 00:00:00   ┆ 76\", \"2,8 ┆ 1]        ┆ 84\", \"3,5 ┆ 2]        │\n",
       "│            ┆           ┆            ┆            ┆ 29,942\",  ┆           ┆ 46,640\",  ┆           │\n",
       "│            ┆           ┆            ┆            ┆ … \"3,…    ┆           ┆ … \"89…    ┆           │\n",
       "└────────────┴───────────┴────────────┴────────────┴───────────┴───────────┴───────────┴───────────┘"
      ]
     },
     "execution_count": 10,
     "metadata": {},
     "output_type": "execute_result"
    }
   ],
   "source": [
    "coldstart_df.slice(2, 1)"
   ]
  },
  {
   "cell_type": "code",
   "execution_count": 11,
   "metadata": {},
   "outputs": [
    {
     "name": "stdout",
     "output_type": "stream",
     "text": [
      "train size = 3288 users, test size = 823 users\n"
     ]
    }
   ],
   "source": [
    "user_ids = coldstart_df.get_column('user_id').unique().to_list()\n",
    "train_user_ids, test_user_ids = train_test_split(user_ids, test_size=0.2, random_state=42)\n",
    "print(f'train size = {len(train_user_ids)} users, test size = {len(test_user_ids)} users')"
   ]
  },
  {
   "cell_type": "code",
   "execution_count": 12,
   "metadata": {},
   "outputs": [
    {
     "data": {
      "text/plain": [
       "7337"
      ]
     },
     "execution_count": 12,
     "metadata": {},
     "output_type": "execute_result"
    }
   ],
   "source": [
    "train_df = (\n",
    "    coldstart_df\n",
    "    .filter(pl.col('user_id').is_in(train_user_ids))\n",
    "    .filter(pl.col('hist_size') <= 30)\n",
    ")\n",
    "len(train_df)"
   ]
  },
  {
   "cell_type": "code",
   "execution_count": 13,
   "metadata": {},
   "outputs": [
    {
     "data": {
      "text/html": [
       "<div><style>\n",
       ".dataframe > thead > tr,\n",
       ".dataframe > tbody > tr {\n",
       "  text-align: right;\n",
       "  white-space: pre-wrap;\n",
       "}\n",
       "</style>\n",
       "<small>shape: (1, 7)</small><table border=\"1\" class=\"dataframe\"><thead><tr><th>meme_id</th><th>n_memes_sent</th><th>n_likes</th><th>n_dislikes</th><th>age_days</th><th>date_dtm</th><th>meme_source_id</th></tr><tr><td>str</td><td>u32</td><td>i64</td><td>i64</td><td>i64</td><td>datetime[μs]</td><td>i64</td></tr></thead><tbody><tr><td>&quot;12,528&quot;</td><td>0</td><td>0</td><td>0</td><td>11</td><td>2024-03-01 00:00:00</td><td>46</td></tr></tbody></table></div>"
      ],
      "text/plain": [
       "shape: (1, 7)\n",
       "┌─────────┬──────────────┬─────────┬────────────┬──────────┬─────────────────────┬────────────────┐\n",
       "│ meme_id ┆ n_memes_sent ┆ n_likes ┆ n_dislikes ┆ age_days ┆ date_dtm            ┆ meme_source_id │\n",
       "│ ---     ┆ ---          ┆ ---     ┆ ---        ┆ ---      ┆ ---                 ┆ ---            │\n",
       "│ str     ┆ u32          ┆ i64     ┆ i64        ┆ i64      ┆ datetime[μs]        ┆ i64            │\n",
       "╞═════════╪══════════════╪═════════╪════════════╪══════════╪═════════════════════╪════════════════╡\n",
       "│ 12,528  ┆ 0            ┆ 0       ┆ 0          ┆ 11       ┆ 2024-03-01 00:00:00 ┆ 46             │\n",
       "└─────────┴──────────────┴─────────┴────────────┴──────────┴─────────────────────┴────────────────┘"
      ]
     },
     "execution_count": 13,
     "metadata": {},
     "output_type": "execute_result"
    }
   ],
   "source": [
    "meme_features_daily_df.head(1)"
   ]
  },
  {
   "cell_type": "code",
   "execution_count": 14,
   "metadata": {},
   "outputs": [],
   "source": [
    "# Similar to production. Simplifications:\n",
    "# Memes without stats were omitted\n",
    "# Top impression feature is omitted (gives 1.0 vs 0.8 for top 1 meme from a source by its telegram impressions)\n",
    "# Impressions without reactions are omitted\n",
    "\n",
    "score = pl.when(pl.col('age_days') < 14).then(1.0).otherwise(0.8) * pl.col('n_likes') / (pl.col('n_likes') + pl.col('n_dislikes'))\n",
    "\n",
    "\n",
    "def best_meme_from_each_source(meme_features_daily_df, date_dtm):\n",
    "    return (\n",
    "        meme_features_daily_df\n",
    "        .filter(pl.col('date_dtm') == date_dtm)\n",
    "        .filter(pl.col('n_likes') + pl.col('n_dislikes') > 0)\n",
    "        .with_columns(score.alias('score'))\n",
    "        .sort('score', descending=True)\n",
    "        .group_by('meme_source_id')\n",
    "        .agg(pl.all().first())\n",
    "        .get_column('meme_id')\n",
    "        .to_list()\n",
    "    )\n",
    "\n",
    "best_meme_from_each_source_cache = {}\n",
    "for date_dtm in train_df.select('date_dtm').unique().get_column('date_dtm').to_list():\n",
    "    best_meme_from_each_source_cache[date_dtm] = best_meme_from_each_source(meme_features_daily_df, date_dtm)"
   ]
  },
  {
   "cell_type": "code",
   "execution_count": 15,
   "metadata": {},
   "outputs": [
    {
     "data": {
      "text/plain": [
       "['1,474,105',\n",
       " '3,970,854',\n",
       " '3,755,263',\n",
       " '1,288,860',\n",
       " '3,719,949',\n",
       " '1,405,096',\n",
       " '469',\n",
       " '1,085,286',\n",
       " '3,098,702',\n",
       " '232']"
      ]
     },
     "execution_count": 15,
     "metadata": {},
     "output_type": "execute_result"
    }
   ],
   "source": [
    "best_meme_from_each_source_cache[datetime(2024, 4, 1)][:10]"
   ]
  },
  {
   "cell_type": "code",
   "execution_count": 16,
   "metadata": {},
   "outputs": [],
   "source": [
    "# Similar to production. Simplifications:\n",
    "# Memes without stats were omitted\n",
    "# Top impression feature is omitted (gives 1.0 vs 0.8 for top 1 meme from a source by its telegram impressions)\n",
    "# Impressions without reactions are omitted\n",
    "\n",
    "score = pl.when(pl.col('age_days') < 14).then(1.0).otherwise(0.8) * pl.col('n_likes') / (pl.col('n_likes') + pl.col('n_dislikes'))\n",
    "\n",
    "def random_recs(user_id, meme_features_daily_df, date_dtm):\n",
    "    hash = int(hashlib.sha256(user_id.encode('utf-8')).hexdigest(), 16) % 10**8\n",
    "    return (\n",
    "        meme_features_daily_df\n",
    "        .filter(pl.col('date_dtm') == date_dtm)\n",
    "        .sample(1000, seed=hash)\n",
    "        .get_column('meme_id')\n",
    "        .to_list()\n",
    "    )"
   ]
  },
  {
   "cell_type": "code",
   "execution_count": 17,
   "metadata": {},
   "outputs": [],
   "source": [
    "def filter_seen(recs, hist_memes):\n",
    "    \"\"\"Filters memes that were seen\"\"\"\n",
    "    return [meme_id for meme_id in recs if meme_id not in hist_memes]"
   ]
  },
  {
   "cell_type": "code",
   "execution_count": 18,
   "metadata": {},
   "outputs": [],
   "source": [
    "def estimate(recs, target_memes, target_reactions):\n",
    "    \"\"\"Matches recs with future seen memes from target list\n",
    "    Calculates likes and dislikes\"\"\"\n",
    "    likes = 0\n",
    "    dislikes = 0\n",
    "    for meme_id in recs:\n",
    "        if meme_id not in target_memes:\n",
    "            continue\n",
    "        idx = target_memes.index(meme_id)\n",
    "        reaction = target_reactions[idx]\n",
    "        if reaction == 1:\n",
    "            likes += 1\n",
    "            continue\n",
    "        if reaction == 2:\n",
    "            dislikes += 1\n",
    "            continue\n",
    "\n",
    "    if (likes + dislikes) == 0:\n",
    "        return None, None\n",
    "\n",
    "    return likes, dislikes"
   ]
  },
  {
   "cell_type": "code",
   "execution_count": 26,
   "metadata": {},
   "outputs": [
    {
     "name": "stdout",
     "output_type": "stream",
     "text": [
      "Likes - 1883, Like Rate = 0.485 +-0.016\n"
     ]
    }
   ],
   "source": [
    "# Testing best_meme_from_each_source\n",
    "# Taking tops from the cache\n",
    "# Filtering seen\n",
    "# Taking top 100 (need to choose thresholds, for this alg top-10 performed similarly)\n",
    "\n",
    "rows = []\n",
    "for row in train_df.iter_rows(named=True):\n",
    "    recs = best_meme_from_each_source_cache[row['date_dtm']]\n",
    "    recs = filter_seen(recs, row['hist_memes'])\n",
    "    recs = recs[:100]\n",
    "    likes, dislikes = estimate(recs, row['target_memes'], row['target_reactions'])\n",
    "    rows.append({\n",
    "        'user_id': row['user_id'],\n",
    "        'hist_size': row['hist_size'],\n",
    "        'date_dtm': row['date_dtm'],\n",
    "        'likes': likes,\n",
    "        'dislikes': dislikes,\n",
    "    })\n",
    "results_df = pl.DataFrame(rows)\n",
    "\n",
    "likes = results_df['likes'].sum()\n",
    "n = results_df['likes'].sum() + results_df['dislikes'].sum()\n",
    "lr = results_df['likes'].sum() / (results_df['likes'].sum() + results_df['dislikes'].sum())\n",
    "std = np.sqrt(lr * (1 - lr) / n)\n",
    "print(f'Likes - {likes}, Like Rate = {lr:.3f} +-{std * 1.98:.3f}')"
   ]
  },
  {
   "cell_type": "code",
   "execution_count": 25,
   "metadata": {},
   "outputs": [
    {
     "name": "stdout",
     "output_type": "stream",
     "text": [
      "Likes - 715, Like Rate = 0.495 +-0.026\n"
     ]
    }
   ],
   "source": [
    "# Testing random recs\n",
    "# I think it has no sense due to biased dataset (no actually random memes in production)\n",
    "\n",
    "rows = []\n",
    "for row in train_df.iter_rows(named=True):\n",
    "    recs = random_recs(row['user_id'], meme_features_daily_df, row['date_dtm'])\n",
    "    recs = filter_seen(recs, row['hist_memes'])\n",
    "    recs = recs[:100]\n",
    "    likes, dislikes = estimate(recs, row['target_memes'], row['target_reactions'])\n",
    "    rows.append({\n",
    "        'user_id': row['user_id'],\n",
    "        'hist_size': row['hist_size'],\n",
    "        'date_dtm': row['date_dtm'],\n",
    "        'likes': likes,\n",
    "        'dislikes': dislikes,\n",
    "    })\n",
    "results_df = pl.DataFrame(rows)\n",
    "\n",
    "likes = results_df['likes'].sum()\n",
    "n = results_df['likes'].sum() + results_df['dislikes'].sum()\n",
    "lr = results_df['likes'].sum() / (results_df['likes'].sum() + results_df['dislikes'].sum())\n",
    "std = np.sqrt(lr * (1 - lr) / n)\n",
    "print(f'Likes - {likes}, Like Rate = {lr:.3f} +-{std * 1.98:.3f}')\n"
   ]
  }
 ],
 "metadata": {
  "kernelspec": {
   "display_name": "general_311",
   "language": "python",
   "name": "python3"
  },
  "language_info": {
   "codemirror_mode": {
    "name": "ipython",
    "version": 3
   },
   "file_extension": ".py",
   "mimetype": "text/x-python",
   "name": "python",
   "nbconvert_exporter": "python",
   "pygments_lexer": "ipython3",
   "version": "3.11.9"
  }
 },
 "nbformat": 4,
 "nbformat_minor": 2
}
