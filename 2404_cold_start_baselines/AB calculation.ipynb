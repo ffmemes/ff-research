{
 "cells": [
  {
   "cell_type": "markdown",
   "metadata": {},
   "source": [
    "# AB test setup calculation\n",
    "\n",
    "This notebooks estimates the amount of data which is needed to get an appropriate MDE for cold start recs test\n",
    "\n",
    "Metrics\n",
    "\n",
    "* Like Rate\n",
    "* First session length\n",
    "\n",
    "Test details\n",
    "\n",
    "* T test\n",
    "* For Like Rate std is calculated as sqrt(pq / n) using the assumption of normality\n",
    "* Alpha = 0.05, Beta = 0.2"
   ]
  },
  {
   "cell_type": "code",
   "execution_count": 2,
   "metadata": {},
   "outputs": [],
   "source": [
    "import polars as pl\n",
    "from datetime import datetime\n",
    "from scipy import stats\n",
    "import numpy as np"
   ]
  },
  {
   "cell_type": "code",
   "execution_count": 3,
   "metadata": {},
   "outputs": [],
   "source": [
    "dtm_fmt = \"%B %-d, %Y, %I:%M %p\""
   ]
  },
  {
   "cell_type": "code",
   "execution_count": 4,
   "metadata": {},
   "outputs": [],
   "source": [
    "user_meme_df = pl.read_csv('user_meme_reaction_240301_240413.csv')\n",
    "user_df = pl.read_csv('user_240414.csv')"
   ]
  },
  {
   "cell_type": "code",
   "execution_count": 5,
   "metadata": {},
   "outputs": [],
   "source": [
    "# Only new users in April\n",
    "# Not bots\n",
    "\n",
    "user_proc_df = (\n",
    "    user_df\n",
    "    .with_columns(pl.col('created_at').str.to_datetime(dtm_fmt))\n",
    "    .filter(pl.col('type') != 'blocked_bot')\n",
    "    .filter(pl.col('created_at') >= datetime(2024, 4, 1))\n",
    "    .drop('type', 'blocked_bot_at', 'inviter_id', 'last_active_at')\n",
    ")"
   ]
  },
  {
   "cell_type": "code",
   "execution_count": 40,
   "metadata": {},
   "outputs": [
    {
     "data": {
      "text/html": [
       "<div><style>\n",
       ".dataframe > thead > tr,\n",
       ".dataframe > tbody > tr {\n",
       "  text-align: right;\n",
       "  white-space: pre-wrap;\n",
       "}\n",
       "</style>\n",
       "<small>shape: (13, 4)</small><table border=\"1\" class=\"dataframe\"><thead><tr><th>sent_date</th><th>count</th><th>likes</th><th>lr</th></tr><tr><td>datetime[μs]</td><td>u32</td><td>i32</td><td>f64</td></tr></thead><tbody><tr><td>2024-04-01 00:00:00</td><td>10425</td><td>5718</td><td>0.548489</td></tr><tr><td>2024-04-02 00:00:00</td><td>1455</td><td>791</td><td>0.543643</td></tr><tr><td>2024-04-03 00:00:00</td><td>3438</td><td>1567</td><td>0.455788</td></tr><tr><td>2024-04-04 00:00:00</td><td>2807</td><td>1517</td><td>0.540435</td></tr><tr><td>2024-04-05 00:00:00</td><td>2192</td><td>1031</td><td>0.470347</td></tr><tr><td>2024-04-06 00:00:00</td><td>1902</td><td>944</td><td>0.49632</td></tr><tr><td>2024-04-07 00:00:00</td><td>1780</td><td>998</td><td>0.560674</td></tr><tr><td>2024-04-08 00:00:00</td><td>2278</td><td>895</td><td>0.392888</td></tr><tr><td>2024-04-09 00:00:00</td><td>1572</td><td>636</td><td>0.40458</td></tr><tr><td>2024-04-10 00:00:00</td><td>1555</td><td>732</td><td>0.47074</td></tr><tr><td>2024-04-11 00:00:00</td><td>1118</td><td>506</td><td>0.452594</td></tr><tr><td>2024-04-12 00:00:00</td><td>1271</td><td>622</td><td>0.489378</td></tr><tr><td>2024-04-13 00:00:00</td><td>1100</td><td>546</td><td>0.496364</td></tr></tbody></table></div>"
      ],
      "text/plain": [
       "shape: (13, 4)\n",
       "┌─────────────────────┬───────┬───────┬──────────┐\n",
       "│ sent_date           ┆ count ┆ likes ┆ lr       │\n",
       "│ ---                 ┆ ---   ┆ ---   ┆ ---      │\n",
       "│ datetime[μs]        ┆ u32   ┆ i32   ┆ f64      │\n",
       "╞═════════════════════╪═══════╪═══════╪══════════╡\n",
       "│ 2024-04-01 00:00:00 ┆ 10425 ┆ 5718  ┆ 0.548489 │\n",
       "│ 2024-04-02 00:00:00 ┆ 1455  ┆ 791   ┆ 0.543643 │\n",
       "│ 2024-04-03 00:00:00 ┆ 3438  ┆ 1567  ┆ 0.455788 │\n",
       "│ 2024-04-04 00:00:00 ┆ 2807  ┆ 1517  ┆ 0.540435 │\n",
       "│ 2024-04-05 00:00:00 ┆ 2192  ┆ 1031  ┆ 0.470347 │\n",
       "│ 2024-04-06 00:00:00 ┆ 1902  ┆ 944   ┆ 0.49632  │\n",
       "│ 2024-04-07 00:00:00 ┆ 1780  ┆ 998   ┆ 0.560674 │\n",
       "│ 2024-04-08 00:00:00 ┆ 2278  ┆ 895   ┆ 0.392888 │\n",
       "│ 2024-04-09 00:00:00 ┆ 1572  ┆ 636   ┆ 0.40458  │\n",
       "│ 2024-04-10 00:00:00 ┆ 1555  ┆ 732   ┆ 0.47074  │\n",
       "│ 2024-04-11 00:00:00 ┆ 1118  ┆ 506   ┆ 0.452594 │\n",
       "│ 2024-04-12 00:00:00 ┆ 1271  ┆ 622   ┆ 0.489378 │\n",
       "│ 2024-04-13 00:00:00 ┆ 1100  ┆ 546   ┆ 0.496364 │\n",
       "└─────────────────────┴───────┴───────┴──────────┘"
      ]
     },
     "execution_count": 40,
     "metadata": {},
     "output_type": "execute_result"
    }
   ],
   "source": [
    "# Remove non-reacts\n",
    "# Add reaction number\n",
    "# Leave only first 30 reactions\n",
    "# Leave only new users\n",
    "\n",
    "(\n",
    "    user_meme_df\n",
    "    .with_columns(pl.col('sent_at').str.to_datetime(dtm_fmt))\n",
    "    .with_columns(sent_date=pl.col('sent_at').dt.truncate('1d'))\n",
    "    .filter(pl.col('sent_at') >= datetime(2024, 4, 1))\n",
    "    .drop('reacted_at')\n",
    "    .with_columns(pl.col('reaction_id').fill_null(2))\n",
    "    .sort('user_id', 'sent_at')\n",
    "    .with_columns(reaction_num=pl.first().cum_count().over('user_id'))\n",
    "    .join(user_proc_df.select('id'), left_on='user_id', right_on='id', how='inner')\n",
    "    .filter(pl.col('reaction_num') <= 30)\n",
    "    .with_columns(is_like=pl.when(pl.col('reaction_id') == 1).then(1).otherwise(0))\n",
    "    .group_by('sent_date')\n",
    "    .agg(\n",
    "        pl.len().alias('count'),\n",
    "        pl.sum('is_like').alias('likes'),\n",
    "    )\n",
    "    .with_columns((pl.col('likes') / pl.col('count')).alias('lr'))\n",
    "    .sort('sent_date')\n",
    ")"
   ]
  },
  {
   "cell_type": "markdown",
   "metadata": {},
   "source": [
    "* Lets assume 1000 reactions from new users daily\n",
    "* Averate LR = 0.5\n",
    "* Alpha = 0.05\n",
    "* Beta = 0.2"
   ]
  },
  {
   "cell_type": "code",
   "execution_count": 40,
   "metadata": {},
   "outputs": [],
   "source": [
    "def mde(n_days, n_daily, group_percent, p, alpha, beta):\n",
    "    return (stats.norm.ppf(1 - alpha / 2) + stats.norm.ppf(1 - beta)) * np.sqrt(p * (1 - p) / n_days / n_daily / group_percent)"
   ]
  },
  {
   "cell_type": "code",
   "execution_count": 48,
   "metadata": {},
   "outputs": [],
   "source": [
    "n_daily = 1000\n",
    "p = 0.5\n",
    "alpha = 0.05\n",
    "beta = 0.2\n",
    "\n",
    "group_percent_list = [0.05, 0.1, 0.2, 0.5]\n",
    "n_days_list = [1, 2, 3, 5, 7, 14]\n",
    "\n",
    "res = []\n",
    "for group_percent in group_percent_list:\n",
    "    for n_days in n_days_list:\n",
    "        res.append({\n",
    "            'n_days': n_days,\n",
    "            'group_percent': group_percent,\n",
    "            'mde': mde(n_days, n_daily, group_percent, p, alpha, beta)\n",
    "        })\n",
    "\n",
    "res = pl.DataFrame(res)\n"
   ]
  },
  {
   "cell_type": "code",
   "execution_count": null,
   "metadata": {},
   "outputs": [],
   "source": [
    "pl.Config.set_tbl_rows(100)"
   ]
  },
  {
   "cell_type": "code",
   "execution_count": 50,
   "metadata": {},
   "outputs": [
    {
     "data": {
      "text/html": [
       "<div><style>\n",
       ".dataframe > thead > tr,\n",
       ".dataframe > tbody > tr {\n",
       "  text-align: right;\n",
       "  white-space: pre-wrap;\n",
       "}\n",
       "</style>\n",
       "<small>shape: (24, 3)</small><table border=\"1\" class=\"dataframe\"><thead><tr><th>n_days</th><th>group_percent</th><th>mde</th></tr><tr><td>i64</td><td>f64</td><td>f64</td></tr></thead><tbody><tr><td>1</td><td>0.05</td><td>0.198102</td></tr><tr><td>2</td><td>0.05</td><td>0.140079</td></tr><tr><td>3</td><td>0.05</td><td>0.114374</td></tr><tr><td>5</td><td>0.05</td><td>0.088594</td></tr><tr><td>7</td><td>0.05</td><td>0.074876</td></tr><tr><td>14</td><td>0.05</td><td>0.052945</td></tr><tr><td>1</td><td>0.1</td><td>0.140079</td></tr><tr><td>2</td><td>0.1</td><td>0.099051</td></tr><tr><td>3</td><td>0.1</td><td>0.080875</td></tr><tr><td>5</td><td>0.1</td><td>0.062645</td></tr><tr><td>7</td><td>0.1</td><td>0.052945</td></tr><tr><td>14</td><td>0.1</td><td>0.037438</td></tr><tr><td>1</td><td>0.2</td><td>0.099051</td></tr><tr><td>2</td><td>0.2</td><td>0.07004</td></tr><tr><td>3</td><td>0.2</td><td>0.057187</td></tr><tr><td>5</td><td>0.2</td><td>0.044297</td></tr><tr><td>7</td><td>0.2</td><td>0.037438</td></tr><tr><td>14</td><td>0.2</td><td>0.026472</td></tr><tr><td>1</td><td>0.5</td><td>0.062645</td></tr><tr><td>2</td><td>0.5</td><td>0.044297</td></tr><tr><td>3</td><td>0.5</td><td>0.036168</td></tr><tr><td>5</td><td>0.5</td><td>0.028016</td></tr><tr><td>7</td><td>0.5</td><td>0.023678</td></tr><tr><td>14</td><td>0.5</td><td>0.016743</td></tr></tbody></table></div>"
      ],
      "text/plain": [
       "shape: (24, 3)\n",
       "┌────────┬───────────────┬──────────┐\n",
       "│ n_days ┆ group_percent ┆ mde      │\n",
       "│ ---    ┆ ---           ┆ ---      │\n",
       "│ i64    ┆ f64           ┆ f64      │\n",
       "╞════════╪═══════════════╪══════════╡\n",
       "│ 1      ┆ 0.05          ┆ 0.198102 │\n",
       "│ 2      ┆ 0.05          ┆ 0.140079 │\n",
       "│ 3      ┆ 0.05          ┆ 0.114374 │\n",
       "│ 5      ┆ 0.05          ┆ 0.088594 │\n",
       "│ 7      ┆ 0.05          ┆ 0.074876 │\n",
       "│ 14     ┆ 0.05          ┆ 0.052945 │\n",
       "│ 1      ┆ 0.1           ┆ 0.140079 │\n",
       "│ 2      ┆ 0.1           ┆ 0.099051 │\n",
       "│ 3      ┆ 0.1           ┆ 0.080875 │\n",
       "│ 5      ┆ 0.1           ┆ 0.062645 │\n",
       "│ 7      ┆ 0.1           ┆ 0.052945 │\n",
       "│ 14     ┆ 0.1           ┆ 0.037438 │\n",
       "│ 1      ┆ 0.2           ┆ 0.099051 │\n",
       "│ 2      ┆ 0.2           ┆ 0.07004  │\n",
       "│ 3      ┆ 0.2           ┆ 0.057187 │\n",
       "│ 5      ┆ 0.2           ┆ 0.044297 │\n",
       "│ 7      ┆ 0.2           ┆ 0.037438 │\n",
       "│ 14     ┆ 0.2           ┆ 0.026472 │\n",
       "│ 1      ┆ 0.5           ┆ 0.062645 │\n",
       "│ 2      ┆ 0.5           ┆ 0.044297 │\n",
       "│ 3      ┆ 0.5           ┆ 0.036168 │\n",
       "│ 5      ┆ 0.5           ┆ 0.028016 │\n",
       "│ 7      ┆ 0.5           ┆ 0.023678 │\n",
       "│ 14     ┆ 0.5           ┆ 0.016743 │\n",
       "└────────┴───────────────┴──────────┘"
      ]
     },
     "execution_count": 50,
     "metadata": {},
     "output_type": "execute_result"
    }
   ],
   "source": [
    "res.sort(['group_percent', 'n_days'])"
   ]
  },
  {
   "cell_type": "markdown",
   "metadata": {},
   "source": [
    "## Similar calculations for the first session length\n",
    "\n",
    "First session length is actually max(session_length, 30)"
   ]
  },
  {
   "cell_type": "code",
   "execution_count": 48,
   "metadata": {},
   "outputs": [
    {
     "data": {
      "text/html": [
       "<div><style>\n",
       ".dataframe > thead > tr,\n",
       ".dataframe > tbody > tr {\n",
       "  text-align: right;\n",
       "  white-space: pre-wrap;\n",
       "}\n",
       "</style>\n",
       "<small>shape: (13, 4)</small><table border=\"1\" class=\"dataframe\"><thead><tr><th>create_date</th><th>mean</th><th>std</th><th>len</th></tr><tr><td>datetime[μs]</td><td>f64</td><td>f64</td><td>u32</td></tr></thead><tbody><tr><td>2024-04-01 00:00:00</td><td>14.748545</td><td>19.79798</td><td>859</td></tr><tr><td>2024-04-02 00:00:00</td><td>9.337017</td><td>21.18522</td><td>181</td></tr><tr><td>2024-04-03 00:00:00</td><td>15.88189</td><td>23.247329</td><td>127</td></tr><tr><td>2024-04-04 00:00:00</td><td>20.935065</td><td>42.402009</td><td>154</td></tr><tr><td>2024-04-05 00:00:00</td><td>19.18797</td><td>36.729591</td><td>133</td></tr><tr><td>2024-04-06 00:00:00</td><td>12.630252</td><td>20.123713</td><td>119</td></tr><tr><td>2024-04-07 00:00:00</td><td>23.017241</td><td>47.188241</td><td>116</td></tr><tr><td>2024-04-08 00:00:00</td><td>17.831325</td><td>31.582574</td><td>83</td></tr><tr><td>2024-04-09 00:00:00</td><td>18.988372</td><td>42.772584</td><td>86</td></tr><tr><td>2024-04-10 00:00:00</td><td>24.278481</td><td>49.977671</td><td>79</td></tr><tr><td>2024-04-11 00:00:00</td><td>12.333333</td><td>19.388224</td><td>63</td></tr><tr><td>2024-04-12 00:00:00</td><td>36.327273</td><td>120.82587</td><td>55</td></tr><tr><td>2024-04-13 00:00:00</td><td>14.95082</td><td>18.388788</td><td>61</td></tr></tbody></table></div>"
      ],
      "text/plain": [
       "shape: (13, 4)\n",
       "┌─────────────────────┬───────────┬───────────┬─────┐\n",
       "│ create_date         ┆ mean      ┆ std       ┆ len │\n",
       "│ ---                 ┆ ---       ┆ ---       ┆ --- │\n",
       "│ datetime[μs]        ┆ f64       ┆ f64       ┆ u32 │\n",
       "╞═════════════════════╪═══════════╪═══════════╪═════╡\n",
       "│ 2024-04-01 00:00:00 ┆ 14.748545 ┆ 19.79798  ┆ 859 │\n",
       "│ 2024-04-02 00:00:00 ┆ 9.337017  ┆ 21.18522  ┆ 181 │\n",
       "│ 2024-04-03 00:00:00 ┆ 15.88189  ┆ 23.247329 ┆ 127 │\n",
       "│ 2024-04-04 00:00:00 ┆ 20.935065 ┆ 42.402009 ┆ 154 │\n",
       "│ 2024-04-05 00:00:00 ┆ 19.18797  ┆ 36.729591 ┆ 133 │\n",
       "│ 2024-04-06 00:00:00 ┆ 12.630252 ┆ 20.123713 ┆ 119 │\n",
       "│ 2024-04-07 00:00:00 ┆ 23.017241 ┆ 47.188241 ┆ 116 │\n",
       "│ 2024-04-08 00:00:00 ┆ 17.831325 ┆ 31.582574 ┆ 83  │\n",
       "│ 2024-04-09 00:00:00 ┆ 18.988372 ┆ 42.772584 ┆ 86  │\n",
       "│ 2024-04-10 00:00:00 ┆ 24.278481 ┆ 49.977671 ┆ 79  │\n",
       "│ 2024-04-11 00:00:00 ┆ 12.333333 ┆ 19.388224 ┆ 63  │\n",
       "│ 2024-04-12 00:00:00 ┆ 36.327273 ┆ 120.82587 ┆ 55  │\n",
       "│ 2024-04-13 00:00:00 ┆ 14.95082  ┆ 18.388788 ┆ 61  │\n",
       "└─────────────────────┴───────────┴───────────┴─────┘"
      ]
     },
     "execution_count": 48,
     "metadata": {},
     "output_type": "execute_result"
    }
   ],
   "source": [
    "# Take a first session from each user\n",
    "# Calculate its size\n",
    "# Session is bounded by 1 hour pause in replies\n",
    "\n",
    "\n",
    "(\n",
    "    user_meme_df\n",
    "    .with_columns(pl.col('sent_at').str.to_datetime(dtm_fmt))\n",
    "    .with_columns(sent_date=pl.col('sent_at').dt.truncate('1d'))\n",
    "    .filter(pl.col('sent_at') >= datetime(2024, 4, 1))\n",
    "    .drop('reacted_at')\n",
    "    .with_columns(pl.col('reaction_id').fill_null(2))\n",
    "    .sort('user_id', 'sent_at')\n",
    "    .with_columns(reaction_num=pl.first().cum_count().over('user_id'))\n",
    "    .join(user_proc_df.select('id'), left_on='user_id', right_on='id', how='inner')\n",
    "    .with_columns(is_like=pl.when(pl.col('reaction_id') == 1).then(1).otherwise(0))\n",
    "    .with_columns(prev_sent_at=pl.col('sent_at').shift(1).over('user_id'))\n",
    "    .with_columns(lag=(pl.col('sent_at') - pl.col('prev_sent_at')))\n",
    "    .with_columns(is_new_session=(pl.col('lag').dt.total_hours() > 1).cast(pl.Int64))\n",
    "    .with_columns(session_num=pl.col('is_new_session').cum_sum().over('user_id').fill_null(0))\n",
    "    .filter(pl.col('session_num') == 0)\n",
    "    .group_by('user_id')\n",
    "    .len()\n",
    "    .join(user_proc_df, left_on='user_id', right_on='id')\n",
    "    .with_columns(create_date=pl.col('created_at').dt.truncate('1d'))\n",
    "    .group_by('create_date')\n",
    "    .agg(pl.col('len').mean().alias('mean'), pl.col('len').std().alias('std'), pl.len())\n",
    "    .sort('create_date')\n",
    ")"
   ]
  },
  {
   "cell_type": "markdown",
   "metadata": {},
   "source": [
    "* Lets assume 100 users daily\n",
    "* Average std as 40\n",
    "* Alpha = 0.05\n",
    "* Beta = 0.2"
   ]
  },
  {
   "cell_type": "code",
   "execution_count": 45,
   "metadata": {},
   "outputs": [],
   "source": [
    "def mde(n_days, n_daily, group_percent, std, alpha, beta):\n",
    "    return (stats.norm.ppf(1 - alpha / 2) + stats.norm.ppf(1 - beta)) * std / np.sqrt(n_days * n_daily * group_percent)"
   ]
  },
  {
   "cell_type": "code",
   "execution_count": 46,
   "metadata": {},
   "outputs": [],
   "source": [
    "n_daily = 100\n",
    "std = 40\n",
    "alpha = 0.05\n",
    "beta = 0.2\n",
    "\n",
    "group_percent_list = [0.05, 0.1, 0.2, 0.5]\n",
    "n_days_list = [1, 2, 3, 5, 7, 14]\n",
    "\n",
    "res = []\n",
    "for group_percent in group_percent_list:\n",
    "    for n_days in n_days_list:\n",
    "        res.append({\n",
    "            'n_days': n_days,\n",
    "            'group_percent': group_percent,\n",
    "            'mde': mde(n_days, n_daily, group_percent, std, alpha, beta)\n",
    "        })\n",
    "\n",
    "res = pl.DataFrame(res)\n"
   ]
  },
  {
   "cell_type": "code",
   "execution_count": 47,
   "metadata": {},
   "outputs": [
    {
     "data": {
      "text/html": [
       "<div><style>\n",
       ".dataframe > thead > tr,\n",
       ".dataframe > tbody > tr {\n",
       "  text-align: right;\n",
       "  white-space: pre-wrap;\n",
       "}\n",
       "</style>\n",
       "<small>shape: (24, 3)</small><table border=\"1\" class=\"dataframe\"><thead><tr><th>n_days</th><th>group_percent</th><th>mde</th></tr><tr><td>i64</td><td>f64</td><td>f64</td></tr></thead><tbody><tr><td>1</td><td>0.05</td><td>50.11628</td></tr><tr><td>2</td><td>0.05</td><td>35.437561</td></tr><tr><td>3</td><td>0.05</td><td>28.934648</td></tr><tr><td>5</td><td>0.05</td><td>22.412682</td></tr><tr><td>7</td><td>0.05</td><td>18.942173</td></tr><tr><td>14</td><td>0.05</td><td>13.394139</td></tr><tr><td>1</td><td>0.1</td><td>35.437561</td></tr><tr><td>2</td><td>0.1</td><td>25.05814</td></tr><tr><td>3</td><td>0.1</td><td>20.459886</td></tr><tr><td>5</td><td>0.1</td><td>15.848159</td></tr><tr><td>7</td><td>0.1</td><td>13.394139</td></tr><tr><td>14</td><td>0.1</td><td>9.471087</td></tr><tr><td>1</td><td>0.2</td><td>25.05814</td></tr><tr><td>2</td><td>0.2</td><td>17.718781</td></tr><tr><td>3</td><td>0.2</td><td>14.467324</td></tr><tr><td>5</td><td>0.2</td><td>11.206341</td></tr><tr><td>7</td><td>0.2</td><td>9.471087</td></tr><tr><td>14</td><td>0.2</td><td>6.69707</td></tr><tr><td>1</td><td>0.5</td><td>15.848159</td></tr><tr><td>2</td><td>0.5</td><td>11.206341</td></tr><tr><td>3</td><td>0.5</td><td>9.149939</td></tr><tr><td>5</td><td>0.5</td><td>7.087512</td></tr><tr><td>7</td><td>0.5</td><td>5.990041</td></tr><tr><td>14</td><td>0.5</td><td>4.235599</td></tr></tbody></table></div>"
      ],
      "text/plain": [
       "shape: (24, 3)\n",
       "┌────────┬───────────────┬───────────┐\n",
       "│ n_days ┆ group_percent ┆ mde       │\n",
       "│ ---    ┆ ---           ┆ ---       │\n",
       "│ i64    ┆ f64           ┆ f64       │\n",
       "╞════════╪═══════════════╪═══════════╡\n",
       "│ 1      ┆ 0.05          ┆ 50.11628  │\n",
       "│ 2      ┆ 0.05          ┆ 35.437561 │\n",
       "│ 3      ┆ 0.05          ┆ 28.934648 │\n",
       "│ 5      ┆ 0.05          ┆ 22.412682 │\n",
       "│ 7      ┆ 0.05          ┆ 18.942173 │\n",
       "│ 14     ┆ 0.05          ┆ 13.394139 │\n",
       "│ 1      ┆ 0.1           ┆ 35.437561 │\n",
       "│ 2      ┆ 0.1           ┆ 25.05814  │\n",
       "│ 3      ┆ 0.1           ┆ 20.459886 │\n",
       "│ 5      ┆ 0.1           ┆ 15.848159 │\n",
       "│ 7      ┆ 0.1           ┆ 13.394139 │\n",
       "│ 14     ┆ 0.1           ┆ 9.471087  │\n",
       "│ 1      ┆ 0.2           ┆ 25.05814  │\n",
       "│ 2      ┆ 0.2           ┆ 17.718781 │\n",
       "│ 3      ┆ 0.2           ┆ 14.467324 │\n",
       "│ 5      ┆ 0.2           ┆ 11.206341 │\n",
       "│ 7      ┆ 0.2           ┆ 9.471087  │\n",
       "│ 14     ┆ 0.2           ┆ 6.69707   │\n",
       "│ 1      ┆ 0.5           ┆ 15.848159 │\n",
       "│ 2      ┆ 0.5           ┆ 11.206341 │\n",
       "│ 3      ┆ 0.5           ┆ 9.149939  │\n",
       "│ 5      ┆ 0.5           ┆ 7.087512  │\n",
       "│ 7      ┆ 0.5           ┆ 5.990041  │\n",
       "│ 14     ┆ 0.5           ┆ 4.235599  │\n",
       "└────────┴───────────────┴───────────┘"
      ]
     },
     "execution_count": 47,
     "metadata": {},
     "output_type": "execute_result"
    }
   ],
   "source": [
    "res"
   ]
  }
 ],
 "metadata": {
  "kernelspec": {
   "display_name": "general_311",
   "language": "python",
   "name": "python3"
  },
  "language_info": {
   "codemirror_mode": {
    "name": "ipython",
    "version": 3
   },
   "file_extension": ".py",
   "mimetype": "text/x-python",
   "name": "python",
   "nbconvert_exporter": "python",
   "pygments_lexer": "ipython3",
   "version": "3.11.9"
  }
 },
 "nbformat": 4,
 "nbformat_minor": 2
}
