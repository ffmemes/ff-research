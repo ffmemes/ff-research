{
 "cells": [
  {
   "cell_type": "markdown",
   "metadata": {},
   "source": [
    "# Cold Start Dataset\n",
    "\n",
    "Two files are prepared in this notebook\n",
    "\n",
    "* Train set for the cold start offline tests\n",
    "* Historical features\n",
    "\n",
    "## Train set\n",
    "\n",
    "Train samples are collections of seen and future (target) items at some moment of time\n",
    "\n",
    "Fields\n",
    "\n",
    "* `user_id`\n",
    "* `hist_size`: memes with reactions at the moment of time\n",
    "* `dtm`: timestamp of the train sample\n",
    "* `hist_memes`, `hist_reactions`: memes from history\n",
    "* `target_memes`, `target_reactions`: memes from future\n",
    "\n",
    "Be careful with out-of-time validation. User samples contains same values (target goes to history through the time). Consider only user or both user and time splits.\n",
    "\n",
    "## Historical features\n",
    "\n",
    "Features for every day. Contains fields from meme_stats which is used in prod.\n",
    "\n",
    "Fields\n",
    "\n",
    "* `meme_id`\n",
    "* `n_likes`\n",
    "* `n_dislikes`\n",
    "* `n_memes_sent`\n",
    "* `age_days`"
   ]
  },
  {
   "cell_type": "code",
   "execution_count": 1,
   "metadata": {},
   "outputs": [],
   "source": [
    "import polars as pl\n",
    "from datetime import datetime\n",
    "import numpy as np\n",
    "from tqdm.notebook import tqdm"
   ]
  },
  {
   "cell_type": "code",
   "execution_count": 2,
   "metadata": {},
   "outputs": [],
   "source": [
    "dtm_fmt = \"%B %-d, %Y, %I:%M %p\""
   ]
  },
  {
   "cell_type": "code",
   "execution_count": 3,
   "metadata": {},
   "outputs": [],
   "source": [
    "user_meme_df = pl.read_csv('user_meme_reaction_240301_240413.csv')\n",
    "user_df = pl.read_csv('user_240414.csv')\n",
    "meme_df = pl.read_csv('memes_240414.csv')"
   ]
  },
  {
   "cell_type": "code",
   "execution_count": 5,
   "metadata": {},
   "outputs": [],
   "source": [
    "# Only new users\n",
    "# Not bots\n",
    "\n",
    "user_proc_df = (\n",
    "    user_df\n",
    "    .with_columns(pl.col('created_at').str.to_datetime(dtm_fmt))\n",
    "    .filter(pl.col('type') != 'blocked_bot')\n",
    "    .filter(pl.col('created_at') >= datetime(2024, 3, 1))\n",
    "    .drop('type', 'blocked_bot_at', 'inviter_id', 'last_active_at')\n",
    ")"
   ]
  },
  {
   "cell_type": "code",
   "execution_count": 6,
   "metadata": {},
   "outputs": [],
   "source": [
    "# Remove non-reacts\n",
    "# Add reaction number\n",
    "# Leave only new users\n",
    "\n",
    "user_meme_proc_df = (\n",
    "    user_meme_df\n",
    "    .with_columns(pl.col('sent_at').str.to_datetime(dtm_fmt))\n",
    "    .drop('reacted_at')\n",
    "    .with_columns(pl.col('reaction_id').fill_null(2))\n",
    "    .sort('user_id', 'sent_at')\n",
    "    .with_columns(reaction_num=pl.first().cum_count().over('user_id'))\n",
    "    .join(user_proc_df.select('id'), left_on='user_id', right_on='id', how='inner')\n",
    ")"
   ]
  },
  {
   "cell_type": "code",
   "execution_count": 7,
   "metadata": {},
   "outputs": [
    {
     "data": {
      "text/html": [
       "<div><style>\n",
       ".dataframe > thead > tr,\n",
       ".dataframe > tbody > tr {\n",
       "  text-align: right;\n",
       "  white-space: pre-wrap;\n",
       "}\n",
       "</style>\n",
       "<small>shape: (1, 6)</small><table border=\"1\" class=\"dataframe\"><thead><tr><th>user_id</th><th>meme_id</th><th>recommended_by</th><th>sent_at</th><th>reaction_id</th><th>reaction_num</th></tr><tr><td>str</td><td>str</td><td>str</td><td>datetime[μs]</td><td>i64</td><td>u32</td></tr></thead><tbody><tr><td>&quot;1,000,596,187&quot;</td><td>&quot;2,262,297&quot;</td><td>&quot;multiply_all_s…</td><td>2024-03-17 14:16:00</td><td>2</td><td>1</td></tr></tbody></table></div>"
      ],
      "text/plain": [
       "shape: (1, 6)\n",
       "┌───────────────┬───────────┬─────────────────────┬──────────────┬─────────────┬──────────────┐\n",
       "│ user_id       ┆ meme_id   ┆ recommended_by      ┆ sent_at      ┆ reaction_id ┆ reaction_num │\n",
       "│ ---           ┆ ---       ┆ ---                 ┆ ---          ┆ ---         ┆ ---          │\n",
       "│ str           ┆ str       ┆ str                 ┆ datetime[μs] ┆ i64         ┆ u32          │\n",
       "╞═══════════════╪═══════════╪═════════════════════╪══════════════╪═════════════╪══════════════╡\n",
       "│ 1,000,596,187 ┆ 2,262,297 ┆ multiply_all_scores ┆ 2024-03-17   ┆ 2           ┆ 1            │\n",
       "│               ┆           ┆                     ┆ 14:16:00     ┆             ┆              │\n",
       "└───────────────┴───────────┴─────────────────────┴──────────────┴─────────────┴──────────────┘"
      ]
     },
     "execution_count": 7,
     "metadata": {},
     "output_type": "execute_result"
    }
   ],
   "source": [
    "user_meme_proc_df.head(1)"
   ]
  },
  {
   "cell_type": "code",
   "execution_count": 8,
   "metadata": {},
   "outputs": [],
   "source": [
    "def prepare_data_user(user_meme_proc_df, user_id, chunk_size=10):\n",
    "    \"\"\"\n",
    "    Splits reactions on chunks\n",
    "    Fills historical and target memes\n",
    "    The number of output samples is equal to the number of chunks\n",
    "    \"\"\"\n",
    "    res = []\n",
    "    user_meme_slice = user_meme_proc_df.filter(pl.col('user_id') == user_id).sort('sent_at')\n",
    "    \n",
    "    if len(user_meme_slice) == 0:\n",
    "        return res\n",
    "\n",
    "    n_reactions = user_meme_slice.select('reaction_num').max().item()\n",
    "\n",
    "    cur_idx = 0\n",
    "\n",
    "    while cur_idx < n_reactions:\n",
    "\n",
    "        filt_hist = pl.col('reaction_num') <= cur_idx\n",
    "        filt_target = pl.col('reaction_num') > cur_idx\n",
    "\n",
    "        d = {\n",
    "            'user_id': user_id,\n",
    "            'hist_size': len(user_meme_slice.filter(filt_hist)),\n",
    "            'dtm': user_meme_slice.filter(filt_target).select('sent_at').min().item(),\n",
    "            'date_dtm': user_meme_slice.filter(filt_target).select(pl.col('sent_at').dt.truncate('1d')).min().item(),\n",
    "            'hist_memes': user_meme_slice.filter(filt_hist).get_column('meme_id').to_list(),\n",
    "            'hist_reactions': user_meme_slice.filter(filt_hist).get_column('reaction_id').to_list(),\n",
    "            'target_memes': user_meme_slice.filter(filt_target).get_column('meme_id').to_list(),\n",
    "            'target_reactions': user_meme_slice.filter(filt_target).get_column('reaction_id').to_list(),\n",
    "        }\n",
    "        res.append(d)\n",
    "        cur_idx += chunk_size\n",
    "\n",
    "    return res"
   ]
  },
  {
   "cell_type": "code",
   "execution_count": 9,
   "metadata": {},
   "outputs": [
    {
     "data": {
      "text/plain": [
       "[{'user_id': 1,\n",
       "  'hist_size': 0,\n",
       "  'dtm': datetime.datetime(2024, 1, 1, 1, 0),\n",
       "  'date_dtm': datetime.datetime(2024, 1, 1, 0, 0),\n",
       "  'hist_memes': [],\n",
       "  'hist_reactions': [],\n",
       "  'target_memes': [1, 2, 3, 4, 5],\n",
       "  'target_reactions': [1, 1, 1, 1, 1]},\n",
       " {'user_id': 1,\n",
       "  'hist_size': 2,\n",
       "  'dtm': datetime.datetime(2024, 1, 3, 1, 0),\n",
       "  'date_dtm': datetime.datetime(2024, 1, 3, 0, 0),\n",
       "  'hist_memes': [1, 2],\n",
       "  'hist_reactions': [1, 1],\n",
       "  'target_memes': [3, 4, 5],\n",
       "  'target_reactions': [1, 1, 1]},\n",
       " {'user_id': 1,\n",
       "  'hist_size': 4,\n",
       "  'dtm': datetime.datetime(2024, 1, 5, 1, 0),\n",
       "  'date_dtm': datetime.datetime(2024, 1, 5, 0, 0),\n",
       "  'hist_memes': [1, 2, 3, 4],\n",
       "  'hist_reactions': [1, 1, 1, 1],\n",
       "  'target_memes': [5],\n",
       "  'target_reactions': [1]}]"
      ]
     },
     "execution_count": 9,
     "metadata": {},
     "output_type": "execute_result"
    }
   ],
   "source": [
    "test_user_meme_df = pl.DataFrame({'user_id': [1] * 5, 'reaction_num': list(range(1, 6)), 'reaction_id': [1] * 5, 'meme_id': list(range(1, 6)), 'sent_at': [datetime(2024, 1, i, 1) for i in range(1, 6)]})\n",
    "prepare_data_user(test_user_meme_df, 1, chunk_size=2)"
   ]
  },
  {
   "cell_type": "code",
   "execution_count": null,
   "metadata": {},
   "outputs": [],
   "source": [
    "res = []\n",
    "chunk_size = 10\n",
    "\n",
    "for user_id in tqdm(user_proc_df.get_column('id').to_list()):\n",
    "    res.extend(prepare_data_user(user_meme_proc_df, user_id, chunk_size=chunk_size))\n",
    "coldstart_dataset_df = pl.DataFrame(res)"
   ]
  },
  {
   "cell_type": "code",
   "execution_count": 10,
   "metadata": {},
   "outputs": [],
   "source": [
    "coldstart_dataset_df.write_parquet('coldstart_dataset.pq')"
   ]
  },
  {
   "cell_type": "markdown",
   "metadata": {},
   "source": [
    "## Meme features v1\n",
    "\n",
    "Trying to reimplement the current production meme_stats table"
   ]
  },
  {
   "cell_type": "code",
   "execution_count": 11,
   "metadata": {},
   "outputs": [],
   "source": [
    "meme_proc_df = (\n",
    "    meme_df\n",
    "    .with_columns(pl.col('created_at').str.to_datetime(dtm_fmt))\n",
    "    .select('id', 'created_at', 'language_code')\n",
    ")"
   ]
  },
  {
   "cell_type": "code",
   "execution_count": 12,
   "metadata": {},
   "outputs": [],
   "source": [
    "# Remove bots\n",
    "\n",
    "user_meme_proc_v2_df = (\n",
    "    user_meme_df\n",
    "    .with_columns(pl.col('sent_at').str.to_datetime(dtm_fmt))\n",
    "    .drop('reacted_at')\n",
    "    .join(user_df.filter(pl.col('type') == 'user').select('id'), left_on='user_id', right_on='id', how='inner')\n",
    ")"
   ]
  },
  {
   "cell_type": "code",
   "execution_count": 32,
   "metadata": {},
   "outputs": [],
   "source": [
    "def get_meme_stats_day(user_meme_proc_df, meme_proc_df, date_dtm):\n",
    "    stats = (\n",
    "        user_meme_proc_df\n",
    "        .filter(pl.col('sent_at') < date_dtm)\n",
    "        .group_by('meme_id').agg(\n",
    "            (pl.col('reaction_id').count() + pl.col('reaction_id').null_count()).alias('n_memes_sent'),\n",
    "            (pl.col('reaction_id') == 1).cast(pl.Int64).sum().alias('n_likes'),\n",
    "            (pl.col('reaction_id') == 2).cast(pl.Int64).sum().alias('n_dislikes'),\n",
    "        )\n",
    "    )\n",
    "    return (\n",
    "        meme_proc_df\n",
    "        .select(pl.col('id').alias('meme_id'), 'language_code', 'created_at')\n",
    "        .filter(pl.col('created_at') < date_dtm)\n",
    "        .join(stats, on='meme_id', how='left')\n",
    "        .fill_null(0)\n",
    "        .with_columns((pl.lit(date_dtm) - pl.col('created_at')).dt.total_days().alias('age_days'))\n",
    "        .drop('created_at')\n",
    "        .with_columns(pl.lit(date_dtm).dt.truncate('1d').alias('date_dtm'))\n",
    "    )"
   ]
  },
  {
   "cell_type": "code",
   "execution_count": 33,
   "metadata": {},
   "outputs": [
    {
     "data": {
      "text/html": [
       "<div><style>\n",
       ".dataframe > thead > tr,\n",
       ".dataframe > tbody > tr {\n",
       "  text-align: right;\n",
       "  white-space: pre-wrap;\n",
       "}\n",
       "</style>\n",
       "<small>shape: (38_473, 7)</small><table border=\"1\" class=\"dataframe\"><thead><tr><th>meme_id</th><th>language_code</th><th>n_memes_sent</th><th>n_likes</th><th>n_dislikes</th><th>age_days</th><th>date_dtm</th></tr><tr><td>str</td><td>str</td><td>u32</td><td>i64</td><td>i64</td><td>i64</td><td>datetime[μs]</td></tr></thead><tbody><tr><td>&quot;3,282,095&quot;</td><td>&quot;en&quot;</td><td>0</td><td>0</td><td>0</td><td>6</td><td>2024-04-01 00:00:00</td></tr><tr><td>&quot;3,379,190&quot;</td><td>&quot;ru&quot;</td><td>0</td><td>0</td><td>0</td><td>5</td><td>2024-04-01 00:00:00</td></tr><tr><td>&quot;1,200,106&quot;</td><td>&quot;ru&quot;</td><td>4</td><td>1</td><td>3</td><td>27</td><td>2024-04-01 00:00:00</td></tr><tr><td>&quot;3,609,318&quot;</td><td>&quot;en&quot;</td><td>14</td><td>6</td><td>8</td><td>3</td><td>2024-04-01 00:00:00</td></tr><tr><td>&quot;3,494,088&quot;</td><td>&quot;en&quot;</td><td>8</td><td>5</td><td>3</td><td>4</td><td>2024-04-01 00:00:00</td></tr><tr><td>&hellip;</td><td>&hellip;</td><td>&hellip;</td><td>&hellip;</td><td>&hellip;</td><td>&hellip;</td><td>&hellip;</td></tr><tr><td>&quot;3,081,777&quot;</td><td>&quot;ru&quot;</td><td>60</td><td>32</td><td>22</td><td>8</td><td>2024-04-01 00:00:00</td></tr><tr><td>&quot;3,297,779&quot;</td><td>&quot;en&quot;</td><td>5</td><td>3</td><td>1</td><td>6</td><td>2024-04-01 00:00:00</td></tr><tr><td>&quot;3,862,528&quot;</td><td>&quot;en&quot;</td><td>17</td><td>14</td><td>3</td><td>1</td><td>2024-04-01 00:00:00</td></tr><tr><td>&quot;3,184,430&quot;</td><td>&quot;en&quot;</td><td>11</td><td>4</td><td>6</td><td>7</td><td>2024-04-01 00:00:00</td></tr><tr><td>&quot;3,609,793&quot;</td><td>&quot;ru&quot;</td><td>0</td><td>0</td><td>0</td><td>3</td><td>2024-04-01 00:00:00</td></tr></tbody></table></div>"
      ],
      "text/plain": [
       "shape: (38_473, 7)\n",
       "┌───────────┬───────────────┬──────────────┬─────────┬────────────┬──────────┬─────────────────────┐\n",
       "│ meme_id   ┆ language_code ┆ n_memes_sent ┆ n_likes ┆ n_dislikes ┆ age_days ┆ date_dtm            │\n",
       "│ ---       ┆ ---           ┆ ---          ┆ ---     ┆ ---        ┆ ---      ┆ ---                 │\n",
       "│ str       ┆ str           ┆ u32          ┆ i64     ┆ i64        ┆ i64      ┆ datetime[μs]        │\n",
       "╞═══════════╪═══════════════╪══════════════╪═════════╪════════════╪══════════╪═════════════════════╡\n",
       "│ 3,282,095 ┆ en            ┆ 0            ┆ 0       ┆ 0          ┆ 6        ┆ 2024-04-01 00:00:00 │\n",
       "│ 3,379,190 ┆ ru            ┆ 0            ┆ 0       ┆ 0          ┆ 5        ┆ 2024-04-01 00:00:00 │\n",
       "│ 1,200,106 ┆ ru            ┆ 4            ┆ 1       ┆ 3          ┆ 27       ┆ 2024-04-01 00:00:00 │\n",
       "│ 3,609,318 ┆ en            ┆ 14           ┆ 6       ┆ 8          ┆ 3        ┆ 2024-04-01 00:00:00 │\n",
       "│ 3,494,088 ┆ en            ┆ 8            ┆ 5       ┆ 3          ┆ 4        ┆ 2024-04-01 00:00:00 │\n",
       "│ …         ┆ …             ┆ …            ┆ …       ┆ …          ┆ …        ┆ …                   │\n",
       "│ 3,081,777 ┆ ru            ┆ 60           ┆ 32      ┆ 22         ┆ 8        ┆ 2024-04-01 00:00:00 │\n",
       "│ 3,297,779 ┆ en            ┆ 5            ┆ 3       ┆ 1          ┆ 6        ┆ 2024-04-01 00:00:00 │\n",
       "│ 3,862,528 ┆ en            ┆ 17           ┆ 14      ┆ 3          ┆ 1        ┆ 2024-04-01 00:00:00 │\n",
       "│ 3,184,430 ┆ en            ┆ 11           ┆ 4       ┆ 6          ┆ 7        ┆ 2024-04-01 00:00:00 │\n",
       "│ 3,609,793 ┆ ru            ┆ 0            ┆ 0       ┆ 0          ┆ 3        ┆ 2024-04-01 00:00:00 │\n",
       "└───────────┴───────────────┴──────────────┴─────────┴────────────┴──────────┴─────────────────────┘"
      ]
     },
     "execution_count": 33,
     "metadata": {},
     "output_type": "execute_result"
    }
   ],
   "source": [
    "# Testing\n",
    "get_meme_stats_day(user_meme_proc_v2_df, meme_proc_df, datetime(2024, 4, 1))"
   ]
  },
  {
   "cell_type": "code",
   "execution_count": 16,
   "metadata": {},
   "outputs": [],
   "source": [
    "# Not very reliable though no constants\n",
    "# Drop the first day\n",
    "dates_dtm = user_meme_proc_v2_df.select(pl.col('sent_at').dt.truncate('1d')).unique().sort('sent_at').get_column('sent_at').to_list()"
   ]
  },
  {
   "cell_type": "code",
   "execution_count": 17,
   "metadata": {},
   "outputs": [],
   "source": [
    "res = []\n",
    "for date_dtm in dates_dtm:\n",
    "    res.append(get_meme_stats_day(user_meme_proc_v2_df, meme_proc_df, date_dtm))\n",
    "\n",
    "meme_features_daily_df = (\n",
    "    pl.concat(res)\n",
    "    .join(meme_df.select('id', 'meme_source_id'), left_on='meme_id', right_on='id')\n",
    ")"
   ]
  },
  {
   "cell_type": "code",
   "execution_count": 18,
   "metadata": {},
   "outputs": [],
   "source": [
    "meme_features_daily_df.write_parquet('meme_features_daily.pq')"
   ]
  },
  {
   "cell_type": "markdown",
   "metadata": {},
   "source": [
    "## User features\n",
    "\n",
    "Trying to reimplement the current production user_stats table"
   ]
  },
  {
   "cell_type": "code",
   "execution_count": 19,
   "metadata": {},
   "outputs": [],
   "source": [
    "user_created_df = (\n",
    "    user_df\n",
    "    .with_columns(pl.col('created_at').str.to_datetime(dtm_fmt))\n",
    "    .select('id', 'created_at')\n",
    ")"
   ]
  },
  {
   "cell_type": "code",
   "execution_count": 21,
   "metadata": {},
   "outputs": [],
   "source": [
    "def get_user_stats_day(user_meme_proc_df, date_dtm):\n",
    "    return (\n",
    "        user_meme_proc_df\n",
    "        .filter(pl.col('sent_at') < date_dtm)\n",
    "        .group_by('user_id').agg(\n",
    "            (pl.col('reaction_id').count() + pl.col('reaction_id').null_count()).alias('n_memes_sent'),\n",
    "            (pl.col('reaction_id') == 1).cast(pl.Int64).sum().alias('n_likes'),\n",
    "            (pl.col('reaction_id') == 2).cast(pl.Int64).sum().alias('n_dislikes'),\n",
    "        )\n",
    "        .join(user_created_df, left_on='user_id', right_on='id')\n",
    "        .with_columns((pl.lit(date_dtm) - pl.col('created_at')).dt.total_days().alias('user_age_days'))\n",
    "        .drop('created_at')\n",
    "        .with_columns(pl.lit(date_dtm).dt.truncate('1d').alias('date_dtm'))\n",
    "    )\n"
   ]
  },
  {
   "cell_type": "code",
   "execution_count": 22,
   "metadata": {},
   "outputs": [
    {
     "data": {
      "text/html": [
       "<div><style>\n",
       ".dataframe > thead > tr,\n",
       ".dataframe > tbody > tr {\n",
       "  text-align: right;\n",
       "  white-space: pre-wrap;\n",
       "}\n",
       "</style>\n",
       "<small>shape: (2_467, 6)</small><table border=\"1\" class=\"dataframe\"><thead><tr><th>user_id</th><th>n_memes_sent</th><th>n_likes</th><th>n_dislikes</th><th>user_age_days</th><th>date_dtm</th></tr><tr><td>str</td><td>u32</td><td>i64</td><td>i64</td><td>i64</td><td>datetime[μs]</td></tr></thead><tbody><tr><td>&quot;853,469,181&quot;</td><td>2361</td><td>142</td><td>2188</td><td>42</td><td>2024-04-01 00:00:00</td></tr><tr><td>&quot;1,137,935,514&quot;</td><td>1</td><td>0</td><td>0</td><td>42</td><td>2024-04-01 00:00:00</td></tr><tr><td>&quot;258,848,832&quot;</td><td>14</td><td>9</td><td>5</td><td>42</td><td>2024-04-01 00:00:00</td></tr><tr><td>&quot;5,474,862,476&quot;</td><td>1070</td><td>1051</td><td>6</td><td>42</td><td>2024-04-01 00:00:00</td></tr><tr><td>&quot;1,385,198,552&quot;</td><td>2279</td><td>2174</td><td>13</td><td>42</td><td>2024-04-01 00:00:00</td></tr><tr><td>&hellip;</td><td>&hellip;</td><td>&hellip;</td><td>&hellip;</td><td>&hellip;</td><td>&hellip;</td></tr><tr><td>&quot;1,834,101,985&quot;</td><td>2423</td><td>161</td><td>2210</td><td>34</td><td>2024-04-01 00:00:00</td></tr><tr><td>&quot;1,863,992,215&quot;</td><td>514</td><td>302</td><td>185</td><td>40</td><td>2024-04-01 00:00:00</td></tr><tr><td>&quot;648,981,358&quot;</td><td>14251</td><td>10282</td><td>3829</td><td>42</td><td>2024-04-01 00:00:00</td></tr><tr><td>&quot;1,157,135,335&quot;</td><td>4428</td><td>20</td><td>4372</td><td>42</td><td>2024-04-01 00:00:00</td></tr><tr><td>&quot;1,422,616,622&quot;</td><td>9202</td><td>2753</td><td>6390</td><td>42</td><td>2024-04-01 00:00:00</td></tr></tbody></table></div>"
      ],
      "text/plain": [
       "shape: (2_467, 6)\n",
       "┌───────────────┬──────────────┬─────────┬────────────┬───────────────┬─────────────────────┐\n",
       "│ user_id       ┆ n_memes_sent ┆ n_likes ┆ n_dislikes ┆ user_age_days ┆ date_dtm            │\n",
       "│ ---           ┆ ---          ┆ ---     ┆ ---        ┆ ---           ┆ ---                 │\n",
       "│ str           ┆ u32          ┆ i64     ┆ i64        ┆ i64           ┆ datetime[μs]        │\n",
       "╞═══════════════╪══════════════╪═════════╪════════════╪═══════════════╪═════════════════════╡\n",
       "│ 853,469,181   ┆ 2361         ┆ 142     ┆ 2188       ┆ 42            ┆ 2024-04-01 00:00:00 │\n",
       "│ 1,137,935,514 ┆ 1            ┆ 0       ┆ 0          ┆ 42            ┆ 2024-04-01 00:00:00 │\n",
       "│ 258,848,832   ┆ 14           ┆ 9       ┆ 5          ┆ 42            ┆ 2024-04-01 00:00:00 │\n",
       "│ 5,474,862,476 ┆ 1070         ┆ 1051    ┆ 6          ┆ 42            ┆ 2024-04-01 00:00:00 │\n",
       "│ 1,385,198,552 ┆ 2279         ┆ 2174    ┆ 13         ┆ 42            ┆ 2024-04-01 00:00:00 │\n",
       "│ …             ┆ …            ┆ …       ┆ …          ┆ …             ┆ …                   │\n",
       "│ 1,834,101,985 ┆ 2423         ┆ 161     ┆ 2210       ┆ 34            ┆ 2024-04-01 00:00:00 │\n",
       "│ 1,863,992,215 ┆ 514          ┆ 302     ┆ 185        ┆ 40            ┆ 2024-04-01 00:00:00 │\n",
       "│ 648,981,358   ┆ 14251        ┆ 10282   ┆ 3829       ┆ 42            ┆ 2024-04-01 00:00:00 │\n",
       "│ 1,157,135,335 ┆ 4428         ┆ 20      ┆ 4372       ┆ 42            ┆ 2024-04-01 00:00:00 │\n",
       "│ 1,422,616,622 ┆ 9202         ┆ 2753    ┆ 6390       ┆ 42            ┆ 2024-04-01 00:00:00 │\n",
       "└───────────────┴──────────────┴─────────┴────────────┴───────────────┴─────────────────────┘"
      ]
     },
     "execution_count": 22,
     "metadata": {},
     "output_type": "execute_result"
    }
   ],
   "source": [
    "# Testing\n",
    "get_user_stats_day(user_meme_proc_v2_df, datetime(2024, 4, 1))"
   ]
  },
  {
   "cell_type": "code",
   "execution_count": 23,
   "metadata": {},
   "outputs": [],
   "source": [
    "res = []\n",
    "for date_dtm in dates_dtm:\n",
    "    res.append(get_user_stats_day(user_meme_proc_v2_df, date_dtm))\n",
    "\n",
    "user_features_daily_df = (\n",
    "    pl.concat(res)\n",
    ")"
   ]
  },
  {
   "cell_type": "code",
   "execution_count": 24,
   "metadata": {},
   "outputs": [],
   "source": [
    "user_features_daily_df.write_parquet('user_features_daily.pq')"
   ]
  },
  {
   "cell_type": "markdown",
   "metadata": {},
   "source": [
    "## Meme features V2 - more strict filtration\n",
    "\n",
    "Ignore old users (more than 200 reactions) in meme stats\n",
    "\n",
    "The idea is that users with many responces have too high like rate with sometimes strange taste of good memes."
   ]
  },
  {
   "cell_type": "code",
   "execution_count": 27,
   "metadata": {},
   "outputs": [
    {
     "data": {
      "text/html": [
       "<div><style>\n",
       ".dataframe > thead > tr,\n",
       ".dataframe > tbody > tr {\n",
       "  text-align: right;\n",
       "  white-space: pre-wrap;\n",
       "}\n",
       "</style>\n",
       "<small>shape: (2, 6)</small><table border=\"1\" class=\"dataframe\"><thead><tr><th>user_id</th><th>n_memes_sent</th><th>n_likes</th><th>n_dislikes</th><th>user_age_days</th><th>date_dtm</th></tr><tr><td>str</td><td>u32</td><td>i64</td><td>i64</td><td>i64</td><td>datetime[μs]</td></tr></thead><tbody><tr><td>&quot;853,469,181&quot;</td><td>140</td><td>12</td><td>128</td><td>12</td><td>2024-03-02 00:00:00</td></tr><tr><td>&quot;5,474,862,476&quot;</td><td>139</td><td>139</td><td>0</td><td>12</td><td>2024-03-02 00:00:00</td></tr></tbody></table></div>"
      ],
      "text/plain": [
       "shape: (2, 6)\n",
       "┌───────────────┬──────────────┬─────────┬────────────┬───────────────┬─────────────────────┐\n",
       "│ user_id       ┆ n_memes_sent ┆ n_likes ┆ n_dislikes ┆ user_age_days ┆ date_dtm            │\n",
       "│ ---           ┆ ---          ┆ ---     ┆ ---        ┆ ---           ┆ ---                 │\n",
       "│ str           ┆ u32          ┆ i64     ┆ i64        ┆ i64           ┆ datetime[μs]        │\n",
       "╞═══════════════╪══════════════╪═════════╪════════════╪═══════════════╪═════════════════════╡\n",
       "│ 853,469,181   ┆ 140          ┆ 12      ┆ 128        ┆ 12            ┆ 2024-03-02 00:00:00 │\n",
       "│ 5,474,862,476 ┆ 139          ┆ 139     ┆ 0          ┆ 12            ┆ 2024-03-02 00:00:00 │\n",
       "└───────────────┴──────────────┴─────────┴────────────┴───────────────┴─────────────────────┘"
      ]
     },
     "execution_count": 27,
     "metadata": {},
     "output_type": "execute_result"
    }
   ],
   "source": [
    "user_features_daily_df.head(2)"
   ]
  },
  {
   "cell_type": "code",
   "execution_count": 34,
   "metadata": {},
   "outputs": [],
   "source": [
    "def get_meme_stats_day_v2(user_meme_proc_df, meme_proc_df, user_features_daily_df, date_dtm):\n",
    "    fresh_users = (\n",
    "        user_features_daily_df\n",
    "        .filter(pl.col('n_memes_sent') < 200)\n",
    "        .select('user_id', 'date_dtm')\n",
    "    )\n",
    "\n",
    "    stats = (\n",
    "        user_meme_proc_df\n",
    "        .filter(pl.col('sent_at') < date_dtm)\n",
    "        .with_columns(pl.col('sent_at').dt.truncate('1d').alias('date_dtm'))\n",
    "        .join(fresh_users, on=['user_id', 'date_dtm'], how='inner')\n",
    "        .drop('date_dtm')\n",
    "        .group_by('meme_id').agg(\n",
    "            (pl.col('reaction_id').count() + pl.col('reaction_id').null_count()).alias('n_memes_sent'),\n",
    "            (pl.col('reaction_id') == 1).cast(pl.Int64).sum().alias('n_likes'),\n",
    "            (pl.col('reaction_id') == 2).cast(pl.Int64).sum().alias('n_dislikes'),\n",
    "        )\n",
    "    )\n",
    "    return (\n",
    "        meme_proc_df\n",
    "        .select(pl.col('id').alias('meme_id'), 'language_code', 'created_at')\n",
    "        .filter(pl.col('created_at') < date_dtm)\n",
    "        .join(stats, on='meme_id', how='left')\n",
    "        .fill_null(0)\n",
    "        .with_columns((pl.lit(date_dtm) - pl.col('created_at')).dt.total_days().alias('age_days'))\n",
    "        .drop('created_at')\n",
    "        .with_columns(pl.lit(date_dtm).dt.truncate('1d').alias('date_dtm'))\n",
    "    )"
   ]
  },
  {
   "cell_type": "code",
   "execution_count": 35,
   "metadata": {},
   "outputs": [
    {
     "data": {
      "text/html": [
       "<div><style>\n",
       ".dataframe > thead > tr,\n",
       ".dataframe > tbody > tr {\n",
       "  text-align: right;\n",
       "  white-space: pre-wrap;\n",
       "}\n",
       "</style>\n",
       "<small>shape: (38_473, 7)</small><table border=\"1\" class=\"dataframe\"><thead><tr><th>meme_id</th><th>language_code</th><th>n_memes_sent</th><th>n_likes</th><th>n_dislikes</th><th>age_days</th><th>date_dtm</th></tr><tr><td>str</td><td>str</td><td>u32</td><td>i64</td><td>i64</td><td>i64</td><td>datetime[μs]</td></tr></thead><tbody><tr><td>&quot;3,282,095&quot;</td><td>&quot;en&quot;</td><td>0</td><td>0</td><td>0</td><td>6</td><td>2024-04-01 00:00:00</td></tr><tr><td>&quot;3,379,190&quot;</td><td>&quot;ru&quot;</td><td>0</td><td>0</td><td>0</td><td>5</td><td>2024-04-01 00:00:00</td></tr><tr><td>&quot;1,200,106&quot;</td><td>&quot;ru&quot;</td><td>1</td><td>0</td><td>1</td><td>27</td><td>2024-04-01 00:00:00</td></tr><tr><td>&quot;3,609,318&quot;</td><td>&quot;en&quot;</td><td>3</td><td>2</td><td>1</td><td>3</td><td>2024-04-01 00:00:00</td></tr><tr><td>&quot;3,494,088&quot;</td><td>&quot;en&quot;</td><td>1</td><td>0</td><td>1</td><td>4</td><td>2024-04-01 00:00:00</td></tr><tr><td>&hellip;</td><td>&hellip;</td><td>&hellip;</td><td>&hellip;</td><td>&hellip;</td><td>&hellip;</td><td>&hellip;</td></tr><tr><td>&quot;3,081,777&quot;</td><td>&quot;ru&quot;</td><td>2</td><td>0</td><td>2</td><td>8</td><td>2024-04-01 00:00:00</td></tr><tr><td>&quot;3,297,779&quot;</td><td>&quot;en&quot;</td><td>0</td><td>0</td><td>0</td><td>6</td><td>2024-04-01 00:00:00</td></tr><tr><td>&quot;3,862,528&quot;</td><td>&quot;en&quot;</td><td>2</td><td>2</td><td>0</td><td>1</td><td>2024-04-01 00:00:00</td></tr><tr><td>&quot;3,184,430&quot;</td><td>&quot;en&quot;</td><td>2</td><td>1</td><td>0</td><td>7</td><td>2024-04-01 00:00:00</td></tr><tr><td>&quot;3,609,793&quot;</td><td>&quot;ru&quot;</td><td>0</td><td>0</td><td>0</td><td>3</td><td>2024-04-01 00:00:00</td></tr></tbody></table></div>"
      ],
      "text/plain": [
       "shape: (38_473, 7)\n",
       "┌───────────┬───────────────┬──────────────┬─────────┬────────────┬──────────┬─────────────────────┐\n",
       "│ meme_id   ┆ language_code ┆ n_memes_sent ┆ n_likes ┆ n_dislikes ┆ age_days ┆ date_dtm            │\n",
       "│ ---       ┆ ---           ┆ ---          ┆ ---     ┆ ---        ┆ ---      ┆ ---                 │\n",
       "│ str       ┆ str           ┆ u32          ┆ i64     ┆ i64        ┆ i64      ┆ datetime[μs]        │\n",
       "╞═══════════╪═══════════════╪══════════════╪═════════╪════════════╪══════════╪═════════════════════╡\n",
       "│ 3,282,095 ┆ en            ┆ 0            ┆ 0       ┆ 0          ┆ 6        ┆ 2024-04-01 00:00:00 │\n",
       "│ 3,379,190 ┆ ru            ┆ 0            ┆ 0       ┆ 0          ┆ 5        ┆ 2024-04-01 00:00:00 │\n",
       "│ 1,200,106 ┆ ru            ┆ 1            ┆ 0       ┆ 1          ┆ 27       ┆ 2024-04-01 00:00:00 │\n",
       "│ 3,609,318 ┆ en            ┆ 3            ┆ 2       ┆ 1          ┆ 3        ┆ 2024-04-01 00:00:00 │\n",
       "│ 3,494,088 ┆ en            ┆ 1            ┆ 0       ┆ 1          ┆ 4        ┆ 2024-04-01 00:00:00 │\n",
       "│ …         ┆ …             ┆ …            ┆ …       ┆ …          ┆ …        ┆ …                   │\n",
       "│ 3,081,777 ┆ ru            ┆ 2            ┆ 0       ┆ 2          ┆ 8        ┆ 2024-04-01 00:00:00 │\n",
       "│ 3,297,779 ┆ en            ┆ 0            ┆ 0       ┆ 0          ┆ 6        ┆ 2024-04-01 00:00:00 │\n",
       "│ 3,862,528 ┆ en            ┆ 2            ┆ 2       ┆ 0          ┆ 1        ┆ 2024-04-01 00:00:00 │\n",
       "│ 3,184,430 ┆ en            ┆ 2            ┆ 1       ┆ 0          ┆ 7        ┆ 2024-04-01 00:00:00 │\n",
       "│ 3,609,793 ┆ ru            ┆ 0            ┆ 0       ┆ 0          ┆ 3        ┆ 2024-04-01 00:00:00 │\n",
       "└───────────┴───────────────┴──────────────┴─────────┴────────────┴──────────┴─────────────────────┘"
      ]
     },
     "execution_count": 35,
     "metadata": {},
     "output_type": "execute_result"
    }
   ],
   "source": [
    "# Testing\n",
    "get_meme_stats_day_v2(user_meme_proc_v2_df, meme_proc_df, user_features_daily_df, datetime(2024, 4, 1))"
   ]
  },
  {
   "cell_type": "code",
   "execution_count": 36,
   "metadata": {},
   "outputs": [],
   "source": [
    "# Not very reliable though no constants\n",
    "# Drop the first day\n",
    "dates_dtm = user_meme_proc_v2_df.select(pl.col('sent_at').dt.truncate('1d')).unique().sort('sent_at').get_column('sent_at').to_list()"
   ]
  },
  {
   "cell_type": "code",
   "execution_count": 37,
   "metadata": {},
   "outputs": [],
   "source": [
    "res = []\n",
    "for date_dtm in dates_dtm:\n",
    "    res.append(get_meme_stats_day_v2(user_meme_proc_v2_df, meme_proc_df, user_features_daily_df, date_dtm))\n",
    "\n",
    "meme_features_daily_v2_df = (\n",
    "    pl.concat(res)\n",
    "    .join(meme_df.select('id', 'meme_source_id'), left_on='meme_id', right_on='id')\n",
    ")"
   ]
  },
  {
   "cell_type": "code",
   "execution_count": 38,
   "metadata": {},
   "outputs": [],
   "source": [
    "meme_features_daily_v2_df.write_parquet('meme_features_daily_v2.pq')"
   ]
  }
 ],
 "metadata": {
  "kernelspec": {
   "display_name": "general_311",
   "language": "python",
   "name": "python3"
  },
  "language_info": {
   "codemirror_mode": {
    "name": "ipython",
    "version": 3
   },
   "file_extension": ".py",
   "mimetype": "text/x-python",
   "name": "python",
   "nbconvert_exporter": "python",
   "pygments_lexer": "ipython3",
   "version": "3.11.9"
  }
 },
 "nbformat": 4,
 "nbformat_minor": 2
}
